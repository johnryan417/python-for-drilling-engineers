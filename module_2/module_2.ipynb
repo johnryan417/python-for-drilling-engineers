{
 "cells": [
  {
   "cell_type": "markdown",
   "id": "fa546ae7",
   "metadata": {},
   "source": [
    "# Python for Drilling Engineers - Module 2\n",
    "## Today's Objectives\n",
    "- Loading Your Own Datasets\n",
    "- DataFrames Walkthrough\n",
    "  - Filtering\n",
    "  - Calculating KPIs\n",
    "  - \n",
    "- Data QA/QC Processes\n",
    "\n",
    "# Module 2: From Excel to Empowered – Working with DataFrames in Python 🚀\n",
    "\n",
    "Welcome to Module 2! If you're a drilling engineer who's been living in Excel for years, this is where the journey gets exciting. Python unlocks *next-level control, speed, and insights* from your data—and it all starts with mastering the DataFrame.\n",
    "\n",
    "In this notebook, you’ll learn how to go from a basic spreadsheet mindset to a confident Python-powered workflow. Step by step. No overwhelm.\n",
    "\n",
    "---\n",
    "\n",
    "## 🔍 What We'll Cover\n",
    "\n",
    "This module is intentionally focused and practical. Here's what you'll learn:\n",
    "\n",
    "### 1. Why DataFrames?\n",
    "- What a DataFrame is (and why it's like Excel—but better)\n",
    "- How drilling engineers can benefit: filtering, aggregating, plotting, and automating common workflows\n",
    "- Quick side-by-side: Excel vs. Python for rig data\n",
    "\n",
    "### 2. Setting the Stage: Load Your First Real Dataset\n",
    "- Load the Forge 16A well dataset (we’re using the one provided by [link to source])\n",
    "- Quick overview of the data: rows, columns, and what's inside\n",
    "\n",
    "### 3. Getting Comfortable: Exploring Your Data\n",
    "- `.head()`, `.info()`, `.describe()` — fast ways to peek under the hood\n",
    "- How to identify bad or missing data early\n",
    "- Simple column selection and row slicing\n",
    "\n",
    "### 4. Making it Useful: Filtering & Sorting Like a Pro\n",
    "- Filtering rows by bit_od, bit manufacturerer, etc.\n",
    "- Sorting your DataFrames\n",
    "\n",
    "### 5. Adding Value: Creating New Columns & Grouping\n",
    "- Calculating new metrics like \"ROP ft/hr\" or \"Torque-to-WOB ratio\"\n",
    "- Vectorized operations: Why it's *fast* and *clean*\n",
    "\n",
    "### 6. From Chaos to Clarity: Handling Missing & Dirty Data\n",
    "- Detecting nulls and filling/replacing them intelligently\n",
    "- Standardizing units (e.g. psi vs MPa, ft vs m)\n",
    "\n",
    "### 7. BONUS: Quick Charting with `matplotlib` and `pandas`\n",
    "- Line plots of ROP over depth\n",
    "- Depth-based scatter plots for WOB vs Torque\n",
    "- Why visualizing in Python beats Excel every time\n",
    "\n",
    "---\n",
    "\n",
    "## 👷‍♂️ Why This Matters for You\n",
    "\n",
    "If you're still relying solely on Excel, you're leaving insight—and time—on the table. This module gives you the tools to:\n",
    "\n",
    "✅ Make better decisions, faster  \n",
    "✅ Catch data issues before they catch you  \n",
    "✅ Automate the boring stuff  \n",
    "✅ Impress your team with insights they didn’t even know were possible  \n",
    "\n",
    "This is just the beginning. Let’s get after it.\n",
    "\n",
    "---\n",
    "\n",
    "🧠 **Pro Tip:** Bookmark the commands and use them in your daily workflows. The more you use Python, the more it works *for* you.\n",
    "\n"
   ]
  },
  {
   "cell_type": "markdown",
   "id": "f86b8630",
   "metadata": {},
   "source": [
    "## Loading the Data"
   ]
  },
  {
   "cell_type": "code",
   "execution_count": null,
   "id": "2d70f3df-2bf3-443c-af82-0681a92b1a2f",
   "metadata": {},
   "outputs": [],
   "source": [
    "import pandas as pd\n",
    "# Load the bit_run_df from a CSV file\n",
    "file_name = 'bit_run_df.csv'\n",
    "\n",
    "bit_run_df = pd.read_csv('bit_run_df.csv')\n"
   ]
  },
  {
   "cell_type": "markdown",
   "id": "88a24cd1",
   "metadata": {},
   "source": [
    "If you have not setup Google Drive connection yet, run this code to create the bit_run_df:"
   ]
  },
  {
   "cell_type": "code",
   "execution_count": null,
   "id": "de0ebc7b",
   "metadata": {},
   "outputs": [],
   "source": [
    "run_number = [4, 5, 6, 7, 10, 11, 13, 15, 16, 17, 18, 23, 26, 27, 28, 30, 31, 32, 33]\n",
    "start_time = [\"10/30/2020 3:20\", \"11/4/2020 8:49\", \"11/7/2020 16:38\", \"11/9/2020 22:41\", \"11/14/2020 11:43\",\n",
    "              \"11/15/2020 2:46\", \"11/20/2020 0:20\", \"11/24/2020 2:46\", \"11/25/2020 23:21\", \"11/26/2020 22:57\",\n",
    "              \"11/28/2020 14:49\", \"12/3/2020 23:23\", \"12/7/2020 3:30\", \"12/8/2020 20:34\", \"12/9/2020 13:17\",\n",
    "              \"12/12/2020 12:35\", \"12/13/2020 11:44\", \"12/17/2020 0:21\", \"12/18/2020 10:01\"]\n",
    "end_time = [\"10/31/2020 4:27\", \"11/7/2020 6:25\", \"11/8/2020 22:54\", \"11/10/2020 14:58\", \"11/14/2020 16:20\",\n",
    "            \"11/16/2020 13:28\", \"11/22/2020 6:35\", \"11/24/2020 18:30\", \"11/26/2020 10:40\", \"11/27/2020 19:57\",\n",
    "            \"11/29/2020 9:39\", \"12/5/2020 6:59\", \"12/7/2020 23:55\", \"12/9/2020 0:21\", \"12/9/2020 15:31\",\n",
    "            \"12/13/2020 0:54\", \"12/14/2020 8:19\", \"12/17/2020 18:38\", \"12/18/2020 23:58\"]\n",
    "run_duration = [25.11666667, 69.59722222, 30.26666667, 16.28333333, 4.616666667, 34.70277778, 54.25, 15.73333333,\n",
    "                11.31666667, 21, 18.83333333, 31.6, 20.41666667, 3.783333333, 2.233333333, 12.31666667, 20.58333333,\n",
    "                18.28333333, 13.95]\n",
    "start_depth = [120.95001, 1629.09, 4552, 4964.7676, 5112, 5112.0776, 5505.0513, 5892.058, 6360.5713, 6527.22,\n",
    "               6945.0454, 7389, 8024.0015, 8242.251, 8392.4375, 8535.091, 9064.573, 9747.119, 10490.042]\n",
    "end_depth = [1629.0634, 4556.19, 4964.3687, 5113.364, 5379.8945, 5472.668, 5855.826, 6360.453, 6526.268, 6944.9404,\n",
    "             7394.7295, 8024.3887, 8241.282, 8391.413, 8540.855, 9064.383, 9747.942, 10490.022, 10960.597]\n",
    "run_length = [1508.11339, 2927.1, 412.3687, 148.5964, 267.8945, 360.5904, 350.7747, 468.395, 165.6967, 417.7204,\n",
    "              449.6841, 635.3887, 217.2805, 149.162, 148.4175, 529.292, 683.369, 742.903, 470.555]\n",
    "bit_make = [\"NOV\", \"NOV\", \"Smith\", \"Smith\", \"Smith\", \"Ulterra\", None, \"NOV\", \"NOV\", \"NOV\", \"NOV\", \"NOV\",\n",
    "            \"NOV\", \"NOV\", \"NOV\", \"NOV\", \"NOV\", \"NOV\", \"NOV\"]\n",
    "bit_model = [\"TKC76\", \"TKC66\", \"MDSi616\", \"Z713S\", \"XS616\", \"U616M\", None, \"TKC63\", \"SKC613M\", \"SKC513M\",\n",
    "             \"FTKC63-01\", \"TKC63\", \"SKC513M\", \"SKC613M\", \"SKC613M\", \"TKC63\", \"FTKC63-01\", \"TKC63\", \"TKC63\"]\n",
    "bit_od = [17.5, 12.25, 12.25, 12.25, 12.25, 12.25, None, 8.75, 8.75, 8.75, 8.75, 8.75, 8.75, 8.75, 8.75, 8.75,\n",
    "          8.75, 8.75, 8.75]\n",
    "motor = [False, True, True, True, True, True, None, True, True, True, True, True, True, True, True, True, True, True, True]\n",
    "motor_make = [None, \"Scout\", \"Scout\", \"Scout\", \"Scout\", \"Scout\", None, \"Scout\", \"Scout\", \"Scout\", \"Scout\", \"Scout\",\n",
    "              \"Scout\", \"Scout\", \"Scout\", \"Scout\", \"Scout\", \"Scout\", \"Scout\"]\n",
    "motor_od = [None, 9.625, 9.625, 9.625, 9.625, 9.625, None, 6.5, 6.5, 6.5, 6.5, 6.5, 6.5, 6.5, 6.5, 6.5, 6.5, 6.5, 6.5]\n",
    "motor_config = [None, \"7/8-5.9\", \"7/8-5.9\", \"7/8-5.9\", \"7/8-5.9\", \"7/8-3.0\", None, \"7/8-5.7\", \"7/8-5.7\", \"7/8-5.7\",\n",
    "                \"7/8-5.7\", \"7/8-5.7\", \"7/8-5.7\", \"7/8-5.7\", \"7/8-5.7\", \"7/8-5.7\", \"7/8-5.7\", \"7/8-5.7\", \"7/8-5.7\"]\n",
    "rss = [True, True, True, True, True, True, None, False, False, False, False, False, False, False, False, False,\n",
    "       False, False, False]\n",
    "rss_make = [\"Scout Vertical\", \"Scout Vertical\", \"Scout Vertical\", \"Scout Vertical\", \"Scout Vertical\", \"Scout Vertical\",\n",
    "            None, None, None, None, None, None, None, None, None, None, None, None, None]\n",
    "\n",
    "# Create a new DataFrame with the provided data\n",
    "bit_run_dict = {\n",
    "    'run_number': run_number,\n",
    "    'start_time': start_time,\n",
    "    'end_time': end_time,\n",
    "    'run_duration': run_duration,\n",
    "    'start_depth': start_depth,\n",
    "    'end_depth': end_depth,\n",
    "    'run_length': run_length,\n",
    "    'bit_make': bit_make,\n",
    "    'bit_model': bit_model,\n",
    "    'bit_od': bit_od,\n",
    "    'motor': motor,\n",
    "    'motor_make': motor_make,\n",
    "    'motor_od': motor_od,\n",
    "    'motor_config': motor_config,\n",
    "    'rss': rss,\n",
    "    'rss_make': rss_make\n",
    "}\n",
    "bit_run_df = pd.DataFrame(bit_run_dict)"
   ]
  },
  {
   "cell_type": "code",
   "execution_count": null,
   "id": "35125bd9",
   "metadata": {},
   "outputs": [],
   "source": [
    "bit_run_df"
   ]
  },
  {
   "cell_type": "markdown",
   "id": "c031ea6a",
   "metadata": {},
   "source": [
    "## Exploring the Data"
   ]
  },
  {
   "cell_type": "code",
   "execution_count": null,
   "id": "01aa84d2",
   "metadata": {},
   "outputs": [],
   "source": [
    "bit_run_df.head(1)  # Display the first few rows of the DataFrame to verify the data"
   ]
  },
  {
   "cell_type": "code",
   "execution_count": null,
   "id": "15212205",
   "metadata": {},
   "outputs": [],
   "source": [
    "bit_run_df.tail(1)"
   ]
  },
  {
   "cell_type": "code",
   "execution_count": null,
   "id": "5ebd876f",
   "metadata": {},
   "outputs": [],
   "source": [
    "bit_run_df.info()  # Display information about the DataFrame, including data types and non-null counts"
   ]
  },
  {
   "cell_type": "code",
   "execution_count": null,
   "id": "fffc5637",
   "metadata": {},
   "outputs": [],
   "source": [
    "bit_run_df.describe()"
   ]
  },
  {
   "cell_type": "code",
   "execution_count": null,
   "id": "e0215def",
   "metadata": {},
   "outputs": [],
   "source": [
    "bit_run_df['run_duration'].describe()"
   ]
  },
  {
   "cell_type": "markdown",
   "id": "760901e8",
   "metadata": {},
   "source": [
    "## Filtering & Sorting DataFrames\n",
    "\n",
    "### Filtering Like a Pro"
   ]
  },
  {
   "cell_type": "code",
   "execution_count": null,
   "id": "0365faac",
   "metadata": {},
   "outputs": [],
   "source": [
    "# Filter for BHA's with a hole size = 12.25\n",
    "\n",
    "filtered_df = bit_run_df[bit_run_df['bit_od'] == 12.25]\n",
    "# Display the filtered DataFrame\n",
    "filtered_df"
   ]
  },
  {
   "cell_type": "code",
   "execution_count": null,
   "id": "4ce82773",
   "metadata": {},
   "outputs": [],
   "source": [
    "hole_size = 12.25  # Change this to the desired hole size\n",
    "filtered_df = bit_run_df[bit_run_df['bit_od'] == hole_size]\n",
    "\n",
    "# Display the filtered DataFrame\n",
    "filtered_df"
   ]
  },
  {
   "cell_type": "markdown",
   "id": "9fd770d2",
   "metadata": {},
   "source": [
    "#### Exercise 1 - **Now you try.**\n",
    "\n",
    "Filter the DataFrame to look at the 8.75\" Bit Runs"
   ]
  },
  {
   "cell_type": "code",
   "execution_count": null,
   "id": "971d7986",
   "metadata": {},
   "outputs": [],
   "source": [
    "# Type your code here.\n",
    "hole_size = 8.75 \n",
    "filtered_df = bit_run_df[bit_run_df['bit_od'] == hole_size]\n",
    "filtered_df"
   ]
  },
  {
   "cell_type": "markdown",
   "id": "492e582f",
   "metadata": {},
   "source": [
    "### Applying Multiple Filters"
   ]
  },
  {
   "cell_type": "code",
   "execution_count": null,
   "id": "5b605af1",
   "metadata": {},
   "outputs": [],
   "source": [
    "hole_size = 12.25\n",
    "screen = (bit_run_df['bit_od'] == hole_size)\n",
    "filtered_df = bit_run_df[screen].reset_index(drop=True)\n",
    "# Display the filtered DataFrame\n",
    "filtered_df"
   ]
  },
  {
   "cell_type": "code",
   "execution_count": null,
   "id": "2a306a7c",
   "metadata": {},
   "outputs": [],
   "source": [
    "hole_size = 12.25\n",
    "bit_make = 'Ulterra'\n",
    "screen = (bit_run_df['bit_od'] == hole_size) & (bit_run_df['bit_make'] == bit_make)\n",
    "filtered_df = bit_run_df[screen].reset_index(drop=True)\n",
    "# Display the filtered DataFrame\n",
    "filtered_df"
   ]
  },
  {
   "cell_type": "markdown",
   "id": "9d4c57d5",
   "metadata": {},
   "source": [
    "#### Exercise 2\n",
    "\n",
    "**Now you try.**\n",
    "\n",
    "Filter for BHAs where the hole size is 8.75 and the bit model is TKC63"
   ]
  },
  {
   "cell_type": "code",
   "execution_count": null,
   "id": "446b7891",
   "metadata": {},
   "outputs": [],
   "source": [
    "hole_size = 8.75\n",
    "bit_model = 'TKC63'\n",
    "screen = (bit_run_df['bit_od'] == hole_size) & (bit_run_df['bit_model'] == bit_model)\n",
    "filtered_df = bit_run_df[screen].reset_index(drop=True)\n",
    "# Display the filtered DataFrame\n",
    "filtered_df"
   ]
  },
  {
   "cell_type": "markdown",
   "id": "339aa70c",
   "metadata": {},
   "source": [
    "### Sorting Like a Pro"
   ]
  },
  {
   "cell_type": "code",
   "execution_count": null,
   "id": "0229a684",
   "metadata": {},
   "outputs": [],
   "source": [
    "bit_run_df.sort_values(by='run_duration')"
   ]
  },
  {
   "cell_type": "code",
   "execution_count": null,
   "id": "a698da73",
   "metadata": {},
   "outputs": [],
   "source": [
    "bit_run_df.sort_values(by='run_duration', ascending=False, inplace=True)\n",
    "bit_run_df"
   ]
  },
  {
   "cell_type": "markdown",
   "id": "95479c97",
   "metadata": {},
   "source": [
    "#### Exercise 3\n",
    "\n",
    "**Now you try.**\n",
    "\n",
    "Sort the BHA's by run_length from greatest to smallest (ascending=False)"
   ]
  },
  {
   "cell_type": "code",
   "execution_count": null,
   "id": "9871a89e",
   "metadata": {},
   "outputs": [],
   "source": [
    "bit_run_df.sort_values(by='run_duration', ascending=False, inplace=True)\n",
    "bit_run_df"
   ]
  },
  {
   "cell_type": "markdown",
   "id": "9490e124",
   "metadata": {},
   "source": [
    "## Adding Value - Calculating Columns"
   ]
  },
  {
   "cell_type": "markdown",
   "id": "ca6549e8",
   "metadata": {},
   "source": [
    "Calculate a column called avg_rop"
   ]
  },
  {
   "cell_type": "code",
   "execution_count": null,
   "id": "b5062003",
   "metadata": {},
   "outputs": [],
   "source": [
    "bit_run_df['avg_rop'] = bit_run_df['run_length'] / bit_run_df['run_duration']\n",
    "bit_run_df"
   ]
  },
  {
   "cell_type": "markdown",
   "id": "733f5066",
   "metadata": {},
   "source": [
    "### Grouping Your DataFrame"
   ]
  },
  {
   "cell_type": "code",
   "execution_count": null,
   "id": "0016ff1c",
   "metadata": {},
   "outputs": [],
   "source": [
    "bit_run_df.groupby('bit_make').size()"
   ]
  },
  {
   "cell_type": "code",
   "execution_count": null,
   "id": "3674f9ba",
   "metadata": {},
   "outputs": [],
   "source": [
    "bit_make_counts = bit_run_df.groupby('bit_make').size().reset_index(name='count')\n",
    "bit_make_counts"
   ]
  },
  {
   "cell_type": "code",
   "execution_count": null,
   "id": "bb571d6e",
   "metadata": {},
   "outputs": [],
   "source": [
    "bit_runs_grouped = bit_run_df.groupby(['bit_od', 'bit_make']).size().reset_index(name='count')\n",
    "bit_runs_grouped"
   ]
  },
  {
   "cell_type": "markdown",
   "id": "36422295",
   "metadata": {},
   "source": [
    "### Calculating Statistics on Groups"
   ]
  },
  {
   "cell_type": "code",
   "execution_count": null,
   "id": "8bbb8194",
   "metadata": {},
   "outputs": [],
   "source": [
    "bit_runs_grouped = bit_run_df.groupby(['bit_od', 'bit_make']).agg(\n",
    "    count=('run_number', 'size'),\n",
    "    avg_run_duration=('run_duration', 'mean'),\n",
    "    avg_run_length=('run_length', 'mean'),\n",
    ").reset_index()\n",
    "bit_runs_grouped"
   ]
  },
  {
   "cell_type": "markdown",
   "id": "7484b213",
   "metadata": {},
   "source": [
    "#### Exercise 4 - **Now You Try**\n",
    "\n",
    "Group the bit runs by bit_od, bit_make, bit model and calculate the run count and the average ROP"
   ]
  },
  {
   "cell_type": "code",
   "execution_count": null,
   "id": "b37ce23f",
   "metadata": {},
   "outputs": [],
   "source": [
    "# Type your code here.\n",
    "bit_runs_grouped = bit_run_df.groupby(['bit_od', 'bit_make', 'bit_model']).agg(\n",
    "    count=('run_number', 'size'),\n",
    "    avg_rop=('avg_rop', 'mean'),  # Calculate the average rate of penetration\n",
    ").reset_index()\n",
    "bit_runs_grouped"
   ]
  },
  {
   "cell_type": "markdown",
   "id": "4ad4f4cc",
   "metadata": {},
   "source": [
    "## Handling Missing & Dirty Data"
   ]
  },
  {
   "cell_type": "markdown",
   "id": "291519bb",
   "metadata": {},
   "source": [
    "Missing data comes in all kinds of formats -999, -999.99, Null, etc. So how can we clean this up to ensure we don't skew our KPI results?\n"
   ]
  },
  {
   "cell_type": "markdown",
   "id": "9f5be530",
   "metadata": {},
   "source": [
    "**Load Data from Google Drive**"
   ]
  },
  {
   "cell_type": "code",
   "execution_count": null,
   "id": "19e21074",
   "metadata": {},
   "outputs": [],
   "source": [
    "from google.colab import drive\n",
    "import pandas as pd\n",
    "drive.mount('/content/drive')\n",
    "\n",
    "file_name = 'on_btm_df.csv'  # Replace with your file name once uploaded to Google Drive\n",
    "\n",
    "file_path = f'/content/drive/My Drive/python-for-drilling-engineers/module_2/{file_name}'\n",
    "\n",
    "on_btm_df = pd.read_csv(file_path)"
   ]
  },
  {
   "cell_type": "code",
   "execution_count": null,
   "id": "1a875071",
   "metadata": {},
   "outputs": [],
   "source": [
    "# get the current working directory to verify the file path\n",
    "\n",
    "on_btm_df = pd.read_csv('on_btm_df.csv')"
   ]
  },
  {
   "cell_type": "code",
   "execution_count": null,
   "id": "72749e7d",
   "metadata": {},
   "outputs": [],
   "source": [
    "on_btm_df.info()\n",
    "on_btm_df.describe()"
   ]
  },
  {
   "cell_type": "markdown",
   "id": "6b5c5100",
   "metadata": {},
   "source": [
    "#### Removing Null Values and -999's"
   ]
  },
  {
   "cell_type": "code",
   "execution_count": null,
   "id": "647e92cf",
   "metadata": {},
   "outputs": [],
   "source": [
    "# Replace Null Values with 0 in the 'rop' and 'wob' columns\n",
    "on_btm_df['rop'].fillna(0, inplace=True)\n",
    "on_btm_df['wob'].fillna(0, inplace=True)\n",
    "# Verify that the null values have been replaced\n",
    "on_btm_df.info()  # Check the DataFrame info again to ensure no nulls in 'rop' and 'wob'"
   ]
  },
  {
   "cell_type": "code",
   "execution_count": null,
   "id": "bf727b60",
   "metadata": {},
   "outputs": [],
   "source": [
    "# Replace -999 values with None in the 'rop' and 'wob' columns\n",
    "on_btm_df['rop'].replace(-999, None, inplace=True)\n",
    "on_btm_df['wob'].replace(-999, None, inplace=True)\n",
    "# Verify that the -999 values have been replaced\n",
    "on_btm_df.describe()"
   ]
  },
  {
   "cell_type": "markdown",
   "id": "2886a591",
   "metadata": {},
   "source": [
    "#### Removing Outliers Using IQR method"
   ]
  },
  {
   "cell_type": "markdown",
   "id": "43c91b89",
   "metadata": {},
   "source": [
    "First, let's filter down the dataframe to just the runs we want to look at (18, 23, 26) and rotating only data."
   ]
  },
  {
   "cell_type": "code",
   "execution_count": null,
   "id": "72cecb89",
   "metadata": {},
   "outputs": [],
   "source": [
    "run_analysis_df = on_btm_df.copy()  # Create a copy of the DataFrame for analysis\n",
    "param_name_list = ['rop', 'wob', 'td_rpm', 'td_torque', 'diff_press']\n",
    "rpm_rotating_thresh = 40  # RPM threshold for rotating\n",
    "torque_rotating_thresh = 5000  # Torque threshold for rotating\n",
    "run_number_list = [18, 23, 26]  # List of run numbers to analyze\n",
    "\n",
    "run_screen = (on_btm_df['run_number'].isin(run_number_list))  # Filter the DataFrame to only include the run numbers in the list\n",
    "rotating_screen = (on_btm_df['td_rpm'] > rpm_rotating_thresh) & (on_btm_df['td_torque'] > torque_rotating_thresh)\n",
    "run_analysis_df = on_btm_df[run_screen & rotating_screen]\n",
    "\n",
    "print(\"\\n\\n Filtered DataFrame before Outlier Removal:\")\n",
    "run_analysis_df.describe()  # Display the statistics of the filtered DataFrame before outlier removal"
   ]
  },
  {
   "cell_type": "code",
   "execution_count": null,
   "id": "ae67210a",
   "metadata": {},
   "outputs": [],
   "source": [
    "def remove_outliers_per_column(df, column_names):\n",
    "    # Fill NaNs once for all selected columns\n",
    "    df[column_names] = df[column_names].fillna(0)\n",
    "    \n",
    "    for col in column_names:\n",
    "        q1 = df[col].quantile(0.25)\n",
    "        q3 = df[col].quantile(0.75)\n",
    "        iqr = q3 - q1\n",
    "        lower_bound = q1 - 1.5 * iqr\n",
    "        upper_bound = q3 + 1.5 * iqr\n",
    "        df = df[(df[col] >= lower_bound) & (df[col] <= upper_bound)]\n",
    "    \n",
    "    return df\n",
    "\n",
    "# Group by run_number and apply the outlier removal\n",
    "all_run_df = (\n",
    "    run_analysis_df[run_analysis_df['run_number'].isin(run_number_list)]\n",
    "    .groupby('run_number', group_keys=False)\n",
    "    .apply(lambda df: remove_outliers_per_column(df.copy(), param_name_list))\n",
    ")\n",
    "\n",
    "print(\"\\n\\n Filtered DataFrame after Outlier Removal:\")\n",
    "all_run_df.describe()  # Display the statistics of the filtered DataFrame after outlier removal"
   ]
  },
  {
   "cell_type": "markdown",
   "id": "c598eb99",
   "metadata": {},
   "source": [
    "# Visualize the Data using MatPlotLib"
   ]
  },
  {
   "cell_type": "code",
   "execution_count": null,
   "id": "91e350a3",
   "metadata": {},
   "outputs": [],
   "source": [
    "import matplotlib.pyplot as plt\n",
    "fig, axs = plt.subplots(5, 1, figsize=(10, 20), sharex=True)\n",
    "fig.suptitle('Scatter Plots of ROP, WOB, RPM, Torque, and Depth of Cut by Run Number', fontsize=16)\n",
    "axs[0].scatter(all_run_df['md'], all_run_df['rop'], c=all_run_df['run_number'], cmap='viridis')\n",
    "axs[0].set_ylabel('ROP (ft/hr)')\n",
    "axs[0].set_title('ROP by Run Number')\n",
    "\n",
    "axs[1].scatter(all_run_df['md'], all_run_df['wob'], c=all_run_df['run_number'], cmap='viridis')\n",
    "axs[1].set_ylabel('WOB (klbs)')\n",
    "axs[1].set_title('WOB by Run Number')\n",
    "\n",
    "axs[2].scatter(all_run_df['md'], all_run_df['td_rpm'], c=all_run_df['run_number'], cmap='viridis')\n",
    "axs[2].set_ylabel('RPM')\n",
    "axs[2].set_title('RPM by Run Number')\n",
    "\n",
    "axs[3].scatter(all_run_df['md'], all_run_df['td_torque'], c=all_run_df['run_number'], cmap='viridis')\n",
    "axs[3].set_ylabel('Torque (ft-lbs)')\n",
    "axs[3].set_title('Torque by Run Number')\n",
    "\n",
    "axs[4].scatter(all_run_df['md'], all_run_df['block_height'], c=all_run_df['run_number'], cmap='viridis')\n",
    "axs[4].set_ylabel('Block Height (ft)')\n",
    "axs[4].set_xlabel('md')\n",
    "axs[4].set_title('Block Height by Run Number')\n",
    "# Add a legend\n",
    "cbar = fig.colorbar(axs[0].collections[0], ax=axs, orientation='vertical')\n",
    "cbar.set_label('Run Number')"
   ]
  },
  {
   "cell_type": "code",
   "execution_count": null,
   "id": "8402be84",
   "metadata": {},
   "outputs": [],
   "source": [
    "import matplotlib.pyplot as plt\n",
    "\n",
    "# KPIs to plot\n",
    "kpi_columns = ['rop', 'wob', 'td_rpm', 'td_torque', 'diff_press']\n",
    "\n",
    "# Group the data by run_number and calculate the average for each KPI\n",
    "kpi_means = all_run_df.groupby('run_number')[kpi_columns].mean()\n",
    "\n",
    "# Plot settings\n",
    "n_kpis = len(kpi_columns)\n",
    "run_numbers = kpi_means.index.tolist()\n",
    "run_labels = [str(rn) for rn in run_numbers]  # Convert to string for categorical x-axis\n",
    "colors = plt.cm.tab10.colors  # Get 10 distinct colors\n",
    "\n",
    "# Create subplots\n",
    "fig, axs = plt.subplots(n_kpis, 1, figsize=(12, 3 * n_kpis), sharex=True)\n",
    "\n",
    "for i, kpi in enumerate(kpi_columns):\n",
    "    ax = axs[i]\n",
    "    values = kpi_means[kpi]\n",
    "    bars = ax.bar(run_labels, values, color=[colors[j % len(colors)] for j in range(len(run_labels))])\n",
    "    ax.set_title(f'Average {kpi.upper()} by Run Number')\n",
    "    ax.set_ylabel(kpi.upper())\n",
    "    ax.grid(axis='y', linestyle='--', alpha=0.5)\n",
    "\n",
    "# Add a single legend\n",
    "handles = [plt.Rectangle((0,0),1,1,color=colors[j % len(colors)]) for j in range(len(run_labels))]\n",
    "labels = [f'Run {rn}' for rn in run_labels]\n",
    "fig.legend(handles, labels, title='Run Number', loc='upper right', bbox_to_anchor=(1.1, 1))\n",
    "\n",
    "plt.xlabel('Run Number')\n",
    "plt.tight_layout(rect=[0, 0, 0.9, 1])  # Leave space for legend\n",
    "plt.show()\n"
   ]
  },
  {
   "cell_type": "markdown",
   "id": "241b4ea6",
   "metadata": {},
   "source": [
    "#### Pandas Profiling Library"
   ]
  },
  {
   "cell_type": "code",
   "execution_count": null,
   "id": "02f2e84f",
   "metadata": {},
   "outputs": [],
   "source": [
    "# If running on GoogleColab, you must pip install ydata-profiling before running the next cell\n",
    "!pip install ydata-profiling\n",
    "\n",
    "# Generate a profile report\n",
    "from ydata_profiling import ProfileReport\n",
    "profile = ProfileReport(on_btm_df, title=\"Forge 16A Data Analysis\", explorative=True)\n",
    "profile.to_notebook_iframe()\n",
    "# Save the profile report to an HTML file\n",
    "profile.to_file(output_file=\"forge_16A_on_btm_report.html\")"
   ]
  }
 ],
 "metadata": {
  "kernelspec": {
   "display_name": "venv",
   "language": "python",
   "name": "python3"
  },
  "language_info": {
   "codemirror_mode": {
    "name": "ipython",
    "version": 3
   },
   "file_extension": ".py",
   "mimetype": "text/x-python",
   "name": "python",
   "nbconvert_exporter": "python",
   "pygments_lexer": "ipython3",
   "version": "3.12.0"
  }
 },
 "nbformat": 4,
 "nbformat_minor": 5
}
