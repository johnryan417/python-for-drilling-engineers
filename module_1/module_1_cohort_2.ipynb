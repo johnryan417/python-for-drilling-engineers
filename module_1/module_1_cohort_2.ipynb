{
 "cells": [
  {
   "cell_type": "markdown",
   "id": "238a451e",
   "metadata": {},
   "source": [
    "![Animo Logo](https://github.com/johnryan417/python-for-drilling-engineers/blob/module-1/main/assets/animo_signature_hallow.png)"
   ]
  },
  {
   "cell_type": "markdown",
   "id": "22a57a00",
   "metadata": {},
   "source": [
    "# Welcome to Python for Drilling Engineers!\n",
    "## Today's Agenda\n",
    "- Intro's & Course Overview\n",
    "- Jupyter Notebooks & Python\n",
    "- Understand Python's Data Structures\n",
    "- Introduction to DataFrames\n",
    "- First look at FORGE 16A Dataset\n",
    "\n",
    "## Introduction\n",
    "Welcome to the Python for Drilling Engineers course! In this module, we'll cover the basics of Python and data manipulation for drilling-related applications.\n",
    "\n",
    "**Why Python?**\n",
    "- Open-source and widely used in data science\n",
    "- Easy to learn - clean and readable syntax\n",
    "- Great for automating repetitive tasks\n",
    "- Strong ecosystem for data analysis, ML/AI, and visualization\n",
    "\n",
    "**Why this course matters?**\n",
    "- Reclaim your time --> Automate data QC, KPI's, reports, and custom calcs\n",
    "- Bring your ideas to life!\n",
    "- Build a personal brand as a forward thinking operational leader.\n",
    "- Make Data-Driven Decisions"
   ]
  },
  {
   "cell_type": "markdown",
   "id": "353ea7d9",
   "metadata": {},
   "source": [
    "# Course Overview\n",
    "\n",
    "- Session 1: Jupyter Notebooks, Python Basics & Data Structures, Intro to Pandas\n",
    "- Session 2: Pandas Deep-Dive\n",
    "- Session 3: Data QC Methods\n",
    "- **Mid-Course Break**\n",
    "- Session 4: Unsupervised Learning\n",
    "- Session 5: Supervised Learning\n",
    "- Session 6: Advanced ML Models\n",
    "\n",
    "**Key to Success** - Practice! Practice! Practice!\n",
    "\n",
    "**What's one current challenge you're facing that you want to be able to tackle by the end of this course?**\n",
    "\n",
    "-----------------------------------------------------------------------------------------------------------------------------------------------"
   ]
  },
  {
   "cell_type": "markdown",
   "id": "a8dc9fb7",
   "metadata": {},
   "source": [
    "**Identify Unique BHA Runs on DVD Curves**\n",
    "\n",
    "![DVD Runs](https://github.com/johnryan417/python-for-drilling-engineers/blob/module_5/main/assets/DVD_run_numbers.png)\n",
    "\n",
    "**Rapid Review of Drilling Parameters**\n",
    "\n",
    "![Param Plots](https://github.com/johnryan417/python-for-drilling-engineers/blob/module_5/main/assets/param_plots_forge_16_a.png)\n",
    "\n",
    "![Cross Plots](https://github.com/johnryan417/python-for-drilling-engineers/blob/module_5/main/assets/wob_doc_crossplot.png)\n",
    "\n",
    "**Calculate KPIs**\n",
    "\n",
    "![KPIs](https://github.com/johnryan417/python-for-drilling-engineers/blob/module_5/main/assets/param_kpis.png)\n",
    "\n",
    "**Optimize Params Automatically**\n",
    "\n",
    "![Heat Map](https://github.com/johnryan417/python-for-drilling-engineers/blob/module_5/main/assets/rop_wob_heat.png)\n",
    "\n",
    "**Generate Parameter Road Maps**\n",
    "\n",
    "![DRL Roadmap](https://github.com/johnryan417/python-for-drilling-engineers/blob/module_5/main/assets/drl_roadmap.jpg)\n",
    "\n",
    "**Unsupervised Learning - Common Trend Identification**\n",
    "\n",
    "![KMeans](https://github.com/johnryan417/python-for-drilling-engineers/blob/module_5/main/assets/k_means_clusters.png)\n",
    "\n",
    "**Supervised Learning - Rig States**\n",
    "\n",
    "![Rig States](https://github.com/johnryan417/python-for-drilling-engineers/blob/module_5/main/assets/slide_rot_supervised.png)\n",
    "\n",
    "----------------------------------------------------------------------------------------------------------------------------------------------------------------"
   ]
  },
  {
   "cell_type": "markdown",
   "id": "cdeb4860",
   "metadata": {},
   "source": [
    "# Python for Drilling Engineers - Module 1\n",
    "\n",
    "## 1 - Comfort with Jupyter Notebooks\n",
    "\n",
    "**How to access Jupyter Notebooks in Google Colab environment:**\n",
    "1. Navigate to https://github.com/johnryan417/python-for-drilling-engineers\n",
    "2. Find the Jupyter notebook you want to load and open the file.\n",
    "3. In the URL, Type 'tocolab' after 'github' and before '.com'\n",
    "   1. Ex. https://githubtocolab.com/johnryan417/python-for-drilling-engineers/blob/main/module_1/py_for_de_module_1.ipynb\n",
    "4. In Colab you can also create new Jupyter notebooks and save directly in Google Drive.\n",
    "\n",
    "## 2 - Some Python Pre-Req's\n",
    "Let's get some basics out of the way first.\n",
    "\n",
    "### 2.1 - Python is an \"Interpreted Language\"\n",
    "- This means Python executes code in the order its given.\n",
    "- In a regular `.py`  file, it runs **line-by-line** from top to bottom.\n",
    "- In a **Jupyter Notebook**, each code block can be run independently - but it still depends on the order in which you run them."
   ]
  },
  {
   "cell_type": "code",
   "execution_count": null,
   "id": "c7cea1c6",
   "metadata": {},
   "outputs": [],
   "source": [
    "# Code Block 1\n",
    "mud_weight = 10.5"
   ]
  },
  {
   "cell_type": "code",
   "execution_count": null,
   "id": "a6d64f14",
   "metadata": {},
   "outputs": [],
   "source": [
    "# Code Block 2\n",
    "print(mud_weight)"
   ]
  },
  {
   "cell_type": "markdown",
   "id": "a364e6d0",
   "metadata": {},
   "source": [
    "### 2.2 - Pip Install & Imports\n",
    "\n",
    "`pip` is Python’s package manager — it helps you install external tools and libraries that aren’t built into Python by default.\n",
    "\n",
    "**Example**\n",
    "```bash\n",
    "pip install pandas\n",
    "```\n",
    "**Note:** You only need to `pip install` once per environment or machine.\n",
    "\n",
    "Once a package is installed, you still need to impor it into your Python script or notebook.\n",
    "\n",
    "**Example**\n",
    "\n",
    "```\n",
    "import pandas as pd\n",
    "```\n",
    "\n",
    "This line of code:\n",
    "- Loads the pandas library into your script\n",
    "- Gives it the name pd (common convention)\n",
    "- Let's you access its functions, for example `pd.read_csv()` to load \n",
    "\n",
    "**Note:** You must import in every notebook/script where you want to use the package."
   ]
  },
  {
   "cell_type": "code",
   "execution_count": 56,
   "id": "3ea75f8d",
   "metadata": {},
   "outputs": [
    {
     "name": "stdout",
     "output_type": "stream",
     "text": [
      "   Depth  ROP\n",
      "0   1000   50\n",
      "1   2000   45\n",
      "2   3000   60\n"
     ]
    }
   ],
   "source": [
    "import pandas as pd\n",
    "\n",
    "df = pd.DataFrame({'Depth': [1000, 2000, 3000], 'ROP': [50, 45, 60]})\n",
    "print(df)"
   ]
  },
  {
   "cell_type": "markdown",
   "id": "2a9c3ac5",
   "metadata": {},
   "source": [
    "## 3 - Python Basics: Built-in Data Structures\n",
    "Before working with datasets, let's cover fundamental Python data structures.\n",
    "\n",
    "**Summary Table: Python Data Structures**\n",
    "\n",
    "| Data Structure | Ordered? | Mutable? | Duplicates Allowed? | Best Use Case |\n",
    "|---------------|---------|----------|------------------|--------------|\n",
    "| **List** (`list`) | ✅ Yes | ✅ Yes | ✅ Yes | General-purpose, ordered data storage |\n",
    "| **Dictionary** (`dict`) | ❌ No (Python 3.7+ maintains insertion order) | ✅ Yes | ❌ No (keys must be unique) | Key-value lookups, structured data |\n",
    "| **Tuple** (`tuple`) | ✅ Yes | ❌ No | ✅ Yes | Immutable, fixed collections |\n",
    "| **Set** (`set`) | ❌ No | ✅ Yes (elements can be added/removed) | ❌ No | Unique element storage, set operations |"
   ]
  },
  {
   "cell_type": "markdown",
   "id": "437ef9ff",
   "metadata": {},
   "source": [
    "### 3.1 - Lists\n",
    "**Definition:**\n",
    "A list is an ordered, mutable (modifiable) collection that allows duplicate elements.\n",
    "\n",
    "**Key Features:**\n",
    "- Ordered: elements maintain the order in which they were added\n",
    "- Mutable: Elements can be changed, added, or removed.\n",
    "- Allows Duplicates: Multiple elements with the same value are allowed.\n",
    "\n",
    "**When to Use?**\n",
    "- When you need an ordered collection of items.\n",
    "- When frequent updates (insertion/deletion/modification) are needed.\n",
    "- When you want to store heterogeneous data (e.g., [\"Drill Bit\", 10, 45.7])."
   ]
  },
  {
   "cell_type": "code",
   "execution_count": 55,
   "id": "e6ca3785",
   "metadata": {},
   "outputs": [
    {
     "name": "stdout",
     "output_type": "stream",
     "text": [
      "Bit\n",
      "4\n"
     ]
    }
   ],
   "source": [
    "# Lists\n",
    "drilling_tools = ['Bit', 'Mud Motor', 'MWD', 'Rotary Table']\n",
    "print(drilling_tools[0])  # Access first item\n",
    "print(len(drilling_tools))  # Number of elements"
   ]
  },
  {
   "cell_type": "markdown",
   "id": "86addc0c",
   "metadata": {},
   "source": [
    "### 3.2 - Dictionaries\n",
    "**Definition:** A dictionary is an unordered collection of key-value pairs, where keys are unique and immutable.\n",
    "\n",
    "**Key Features:**\n",
    "- Key-value pairs: Allows efficient lookups.\n",
    "- Keys must be unique: No duplicate keys are allowed.\n",
    "- Mutable: You can update values or add new key-value pairs.\n",
    "\n",
    "**When to Use?**\n",
    "- When you need fast lookups based on unique keys.\n",
    "- When you need to store related attributes (e.g., drilling parameters per well).\n",
    "- When you need flexible and structured data storage."
   ]
  },
  {
   "cell_type": "code",
   "execution_count": 57,
   "id": "5ccbba1e",
   "metadata": {},
   "outputs": [
    {
     "name": "stdout",
     "output_type": "stream",
     "text": [
      "A675XP\n"
     ]
    }
   ],
   "source": [
    "# Dictionaries\n",
    "motor_specs = {\n",
    "    'model': 'A675XP',\n",
    "    'lobes': '7:8',\n",
    "    'stages': 5.0,\n",
    "    'bit_bend': 6.03,  # ft\n",
    "    'speed': 0.28,  # rpg\n",
    "    'max_diff': 1050,  # psi\n",
    "    'max_torque': 9200,  # ft-lb\n",
    "}\n",
    "print(motor_specs['model'])  # Accessing dictionary value"
   ]
  },
  {
   "cell_type": "markdown",
   "id": "412e21ec",
   "metadata": {},
   "source": [
    "### 3.3 - Tuples\n",
    "**Definition:** A tuple is an ordered, immutable collection that allows duplicate elements.\n",
    "\n",
    "**Key Features:**\n",
    "- Ordered: Elements maintain their order.\n",
    "- Immutable: Cannot be changed after creation.\n",
    "- Allows Duplicates: Multiple identical elements are allowed.\n",
    "\n",
    "**When to Use?**\n",
    "- When you need a fixed collection that should not change.\n",
    "- When performance is critical (tuples are faster than lists).\n",
    "- When using as dictionary keys (since they are immutable)."
   ]
  },
  {
   "cell_type": "code",
   "execution_count": 59,
   "id": "aaf969aa",
   "metadata": {},
   "outputs": [
    {
     "name": "stdout",
     "output_type": "stream",
     "text": [
      "5000\n"
     ]
    }
   ],
   "source": [
    "# Tuples\n",
    "drilling_parameters = (5000, 50, 10.5)  # Immutable list\n",
    "print(drilling_parameters[0])  # Access first item"
   ]
  },
  {
   "cell_type": "markdown",
   "id": "50d8d262",
   "metadata": {},
   "source": [
    "### 3.4 - Sets\n",
    "**Definition:** A set is an unordered, mutable collection that only stores unique elements.\n",
    "\n",
    "**Key Features:**\n",
    "- Unordered: No guaranteed element order.\n",
    "- Mutable (but only for adding/removing elements).\n",
    "- No Duplicates: Automatically removes duplicates.\n",
    "\n",
    "**When to Use?**\n",
    "- When you need to store unique values only (e.g., unique well names).\n",
    "- When you need fast membership testing (in operator is fast).\n",
    "- When performing set operations (union, intersection, difference)."
   ]
  },
  {
   "cell_type": "code",
   "execution_count": 58,
   "id": "af089d45",
   "metadata": {},
   "outputs": [
    {
     "name": "stdout",
     "output_type": "stream",
     "text": [
      "{'Mud Motor', 'Bit', 'Rotary Table', 'MWD'}\n",
      "Step 1 Result:\n",
      "{'MWD', 'Mud Motor', 'Bit', 'Casing', 'Rotary Table'}\n",
      "Step 2 Result:\n",
      "{'MWD', 'Mud Motor', 'Casing', 'Rotary Table'}\n",
      "Step 3 Result:\n",
      "False\n",
      "MWD\n",
      "Mud Motor\n",
      "Casing\n",
      "Rotary Table\n",
      "['Drill Bit', 'Drill Mud Motor', 'Drill MWD', 'Drill Rotary Table']\n"
     ]
    }
   ],
   "source": [
    "# Sets\n",
    "drilling_tools = {'Bit', 'Mud Motor', 'MWD', 'Rotary Table'}\n",
    "print(drilling_tools)  # Unique elements\n",
    "# Step 1: Adding an element to a set\n",
    "drilling_tools.add('Casing')\n",
    "print('Step 1 Result:')\n",
    "print(drilling_tools)\n",
    "# Step 2: Removing an element from a set\n",
    "drilling_tools.remove('Bit')\n",
    "print('Step 2 Result:')\n",
    "print(drilling_tools)\n",
    "# Step 3: Check if an element exists in a set\n",
    "print('Step 3 Result:')\n",
    "print('Bit' in drilling_tools)  # Returns False\n",
    "# Iterating through a set\n",
    "for tool in drilling_tools:\n",
    "    print(tool)\n",
    "\n",
    "# List Comprehensions\n",
    "# Create a list of drilling tools with 'Drill' prefix\n",
    "drilling_tools = ['Bit', 'Mud Motor', 'MWD', 'Rotary Table']\n",
    "drilling_tools_with_prefix = [f'Drill {tool}' for tool in drilling_tools]\n",
    "print(drilling_tools_with_prefix)  # ['Drill Bit', 'Drill Mud Motor', 'Drill MWD', 'Drill Rotary Table']"
   ]
  },
  {
   "cell_type": "markdown",
   "id": "4f4405aa",
   "metadata": {},
   "source": [
    "### 3.5 - Dictionary Comprehension"
   ]
  },
  {
   "cell_type": "code",
   "execution_count": 60,
   "id": "5d4a5f8a",
   "metadata": {},
   "outputs": [
    {
     "name": "stdout",
     "output_type": "stream",
     "text": [
      "{'Bit': 12.25, 'Mud Motor': 8.5, 'MWD': 8.5, 'stabilizer': 11.75}\n",
      "8.5\n"
     ]
    }
   ],
   "source": [
    "drilling_tools = ['Bit', 'Mud Motor', 'MWD', 'stabilizer']  # list of drilling tools\n",
    "tool_od_list = [12.25, 8.5, 8.5, 11.75]  # Outer diameter list\n",
    "\n",
    "# Create a dictionary with drilling tools and their ODs\n",
    "drilling_tool_dict = {tool: od for tool, od in zip(drilling_tools, tool_od_list)}\n",
    "print(drilling_tool_dict)\n",
    "\n",
    "# Get the OD of the MWD from the dictionary:\n",
    "mwd_od = drilling_tool_dict.get('MWD')\n",
    "print(mwd_od)  # 8.5\n"
   ]
  },
  {
   "cell_type": "markdown",
   "id": "5387aa3c",
   "metadata": {},
   "source": [
    "**f-strings**\n",
    "\n",
    "f-strings are good for debugging and clarity of what you're printing."
   ]
  },
  {
   "cell_type": "code",
   "execution_count": null,
   "id": "60452737",
   "metadata": {},
   "outputs": [
    {
     "name": "stdout",
     "output_type": "stream",
     "text": [
      "The Bit has an OD of 12.25 inches.\n"
     ]
    }
   ],
   "source": [
    "# F-strings:\n",
    "tool_type = 'Bit'\n",
    "print(f'The {tool_type} has an OD of {drilling_tool_dict[tool_type]} inches.')"
   ]
  },
  {
   "cell_type": "markdown",
   "id": "c017f0ec",
   "metadata": {},
   "source": [
    "**for loops**\n",
    "\n",
    "for loops allow you to loop through dictionaries, lists, dataframes, etc. and perform various actions or calcs"
   ]
  },
  {
   "cell_type": "code",
   "execution_count": 74,
   "id": "33f5c3be",
   "metadata": {},
   "outputs": [
    {
     "name": "stdout",
     "output_type": "stream",
     "text": [
      "The Bit has an OD of 12.25 inches.\n",
      "The Mud Motor has an OD of 8.5 inches.\n",
      "The MWD has an OD of 8.5 inches.\n",
      "The stabilizer has an OD of 11.75 inches.\n"
     ]
    }
   ],
   "source": [
    "# For Loop with Dictionary:\n",
    "# Iterate through the dictionary and print each tool's name and outer diameter\n",
    "for name, value in drilling_tool_dict.items():\n",
    "    print(f'The {name} has an OD of {value} inches.')"
   ]
  },
  {
   "cell_type": "markdown",
   "id": "4f988515",
   "metadata": {},
   "source": [
    "## 3.6 - Intro to DataFrames\n",
    "We'll use Pandas to create and manipulate dataframes."
   ]
  },
  {
   "cell_type": "code",
   "execution_count": 1,
   "id": "3e11c1b4",
   "metadata": {},
   "outputs": [
    {
     "name": "stdout",
     "output_type": "stream",
     "text": [
      "   Depth  ROP  WOB  RPM  DIFF\n",
      "0   1050  323   42  120   458\n",
      "1   1100  350   43  120   473\n",
      "2   1150  355   48  120   491\n",
      "3   1200  385   50  120   526\n"
     ]
    }
   ],
   "source": [
    "import pandas as pd\n",
    "\n",
    "# Creating a simple DataFrame\n",
    "data = {'Depth': [1050, 1100, 1150, 1200], 'ROP': [323, 350, 355, 385], 'WOB': [42, 43, 48, 50], 'RPM': [120, 120, 120, 120], \n",
    "        'DIFF': [458, 473, 491, 526]}\n",
    "df = pd.DataFrame(data)\n",
    "print(df)"
   ]
  },
  {
   "cell_type": "markdown",
   "id": "2e1a5693",
   "metadata": {},
   "source": [
    "**What is a DataFrame?**\n",
    "\n",
    "Like a Python powered spreadsheet!\n",
    "\n",
    "DataFrames are useful because you can:\n",
    "- Filter data efficiently\n",
    "- Compute statistics\n",
    "- Clean messy data\n",
    "- Import/export from CSV, Excel, databases\n",
    "- Control everything with Python"
   ]
  },
  {
   "cell_type": "markdown",
   "id": "3f80546e",
   "metadata": {},
   "source": [
    "## 3.7 - Uploading Data Sets from CSV"
   ]
  },
  {
   "cell_type": "markdown",
   "id": "7ffec9d2",
   "metadata": {},
   "source": [
    "### Uploading **.csv** Data Files from Google Drive\n",
    "\n",
    "The below snippet of code should be run to import the Forge data while running on GoogleColab"
   ]
  },
  {
   "cell_type": "code",
   "execution_count": null,
   "id": "312f0f1d",
   "metadata": {},
   "outputs": [],
   "source": [
    "from google.colab import drive\n",
    "import pandas as pd\n",
    "drive.mount('/content/drive')\n",
    "\n",
    "file_path = '/content/drive/My Drive/python-for-drilling-engineers/module_1/16A_78-32_time_data_10s_intervals_standard.csv'\n",
    "\n",
    "forge_16A_df = pd.read_csv(file_path)"
   ]
  },
  {
   "cell_type": "markdown",
   "id": "8acf064e",
   "metadata": {},
   "source": [
    "## 3.8 - Rapid Dataset Reviews\n",
    "\n",
    "Let's start by taking a look at the format of the data pulled in from the CSV."
   ]
  },
  {
   "cell_type": "code",
   "execution_count": 75,
   "id": "0f6f8774",
   "metadata": {},
   "outputs": [
    {
     "name": "stdout",
     "output_type": "stream",
     "text": [
      "(608677, 50)\n",
      "\n",
      "\n",
      "Row Count: 608677 \n",
      "Column Count: 50\n",
      "\n",
      "\n",
      "Column names: \n",
      "['Date', 'Date (Date Only)', 'Date (Time Only)', 'AutoDriller System Enabled', 'Azimuth', 'Azimuth - Survey', 'Bit Depth', 'Bit Diameter', 'Bit Revolutions per Minute', 'Block Position', 'Depth Hole Total Vertical Depth', 'Differential Pressure', 'Dog-Leg Severity Measured while Drilling', 'Downhole Torque', 'Flow In', 'Gamma Depth Measured while Drilling', 'Gamma Measured while Drilling', 'Gas Carbon Dioxide', 'H2S 01', 'Hookload', 'Hookload String', 'Inclination', 'Inclination - Survey', 'Measured while Drilling Tool Depth', 'Mechanical Specific Energy', 'Mechanical Specific Energy - Downhole', 'Mechanical Specific Energy - Surface', 'Mechanical Specific Energy - Total', 'Mud Motor Factor', 'Mud Motor Maximum Differential Pressure', 'Mud Motor Maximum Torque', 'Mud Motor Revolutions per Minute', 'Mud Temperature', 'On Bottom', 'Over Pull', 'Pump Pressure', 'Rate of Penetration (Depth/Hour)', 'Rate of Penetration (Minute/Depth)', 'Return Flow', 'Rig Mode', 'Rig State', 'Running Speed Down', 'Running Speed Up', 'Stick Slip', 'Tool Temperature', 'Tool Temperature - Survey', 'Top Drive Revolutions per Minute', 'Top Drive Torque', 'Total Strokes per Minute', 'Weight on Bit']\n",
      "\n",
      "\n",
      "First look at the dataframe:\n"
     ]
    },
    {
     "data": {
      "text/html": [
       "<div>\n",
       "<style scoped>\n",
       "    .dataframe tbody tr th:only-of-type {\n",
       "        vertical-align: middle;\n",
       "    }\n",
       "\n",
       "    .dataframe tbody tr th {\n",
       "        vertical-align: top;\n",
       "    }\n",
       "\n",
       "    .dataframe thead th {\n",
       "        text-align: right;\n",
       "    }\n",
       "</style>\n",
       "<table border=\"1\" class=\"dataframe\">\n",
       "  <thead>\n",
       "    <tr style=\"text-align: right;\">\n",
       "      <th></th>\n",
       "      <th>Date</th>\n",
       "      <th>Date (Date Only)</th>\n",
       "      <th>Date (Time Only)</th>\n",
       "      <th>AutoDriller System Enabled</th>\n",
       "      <th>Azimuth</th>\n",
       "      <th>Azimuth - Survey</th>\n",
       "    </tr>\n",
       "  </thead>\n",
       "  <tbody>\n",
       "    <tr>\n",
       "      <th>0</th>\n",
       "      <td>date/time</td>\n",
       "      <td>date</td>\n",
       "      <td>time</td>\n",
       "      <td>NaN</td>\n",
       "      <td>degrees</td>\n",
       "      <td>degrees</td>\n",
       "    </tr>\n",
       "    <tr>\n",
       "      <th>1</th>\n",
       "      <td>2020-10-25 12:38:00</td>\n",
       "      <td>2020-10-25</td>\n",
       "      <td>12:38:00</td>\n",
       "      <td>NaN</td>\n",
       "      <td>NaN</td>\n",
       "      <td>NaN</td>\n",
       "    </tr>\n",
       "    <tr>\n",
       "      <th>2</th>\n",
       "      <td>2020-10-25 12:38:00</td>\n",
       "      <td>2020-10-25</td>\n",
       "      <td>12:38:00</td>\n",
       "      <td>NaN</td>\n",
       "      <td>NaN</td>\n",
       "      <td>NaN</td>\n",
       "    </tr>\n",
       "    <tr>\n",
       "      <th>3</th>\n",
       "      <td>2020-10-25 12:38:00</td>\n",
       "      <td>2020-10-25</td>\n",
       "      <td>12:38:00</td>\n",
       "      <td>NaN</td>\n",
       "      <td>NaN</td>\n",
       "      <td>NaN</td>\n",
       "    </tr>\n",
       "    <tr>\n",
       "      <th>4</th>\n",
       "      <td>2020-10-25 12:38:00</td>\n",
       "      <td>2020-10-25</td>\n",
       "      <td>12:38:00</td>\n",
       "      <td>NaN</td>\n",
       "      <td>NaN</td>\n",
       "      <td>NaN</td>\n",
       "    </tr>\n",
       "    <tr>\n",
       "      <th>5</th>\n",
       "      <td>2020-10-25 12:39:00</td>\n",
       "      <td>2020-10-25</td>\n",
       "      <td>12:39:00</td>\n",
       "      <td>NaN</td>\n",
       "      <td>0.0</td>\n",
       "      <td>NaN</td>\n",
       "    </tr>\n",
       "    <tr>\n",
       "      <th>6</th>\n",
       "      <td>2020-10-25 12:39:00</td>\n",
       "      <td>2020-10-25</td>\n",
       "      <td>12:39:00</td>\n",
       "      <td>NaN</td>\n",
       "      <td>0.0</td>\n",
       "      <td>NaN</td>\n",
       "    </tr>\n",
       "    <tr>\n",
       "      <th>7</th>\n",
       "      <td>2020-10-25 12:39:00</td>\n",
       "      <td>2020-10-25</td>\n",
       "      <td>12:39:00</td>\n",
       "      <td>NaN</td>\n",
       "      <td>0.0</td>\n",
       "      <td>NaN</td>\n",
       "    </tr>\n",
       "    <tr>\n",
       "      <th>8</th>\n",
       "      <td>2020-10-25 12:39:00</td>\n",
       "      <td>2020-10-25</td>\n",
       "      <td>12:39:00</td>\n",
       "      <td>NaN</td>\n",
       "      <td>0.0</td>\n",
       "      <td>NaN</td>\n",
       "    </tr>\n",
       "    <tr>\n",
       "      <th>9</th>\n",
       "      <td>2020-10-25 12:39:00</td>\n",
       "      <td>2020-10-25</td>\n",
       "      <td>12:39:00</td>\n",
       "      <td>NaN</td>\n",
       "      <td>0.0</td>\n",
       "      <td>NaN</td>\n",
       "    </tr>\n",
       "  </tbody>\n",
       "</table>\n",
       "</div>"
      ],
      "text/plain": [
       "                  Date Date (Date Only) Date (Time Only)  \\\n",
       "0            date/time             date             time   \n",
       "1  2020-10-25 12:38:00       2020-10-25         12:38:00   \n",
       "2  2020-10-25 12:38:00       2020-10-25         12:38:00   \n",
       "3  2020-10-25 12:38:00       2020-10-25         12:38:00   \n",
       "4  2020-10-25 12:38:00       2020-10-25         12:38:00   \n",
       "5  2020-10-25 12:39:00       2020-10-25         12:39:00   \n",
       "6  2020-10-25 12:39:00       2020-10-25         12:39:00   \n",
       "7  2020-10-25 12:39:00       2020-10-25         12:39:00   \n",
       "8  2020-10-25 12:39:00       2020-10-25         12:39:00   \n",
       "9  2020-10-25 12:39:00       2020-10-25         12:39:00   \n",
       "\n",
       "   AutoDriller System Enabled  Azimuth Azimuth - Survey  \n",
       "0                         NaN  degrees          degrees  \n",
       "1                         NaN      NaN              NaN  \n",
       "2                         NaN      NaN              NaN  \n",
       "3                         NaN      NaN              NaN  \n",
       "4                         NaN      NaN              NaN  \n",
       "5                         NaN      0.0              NaN  \n",
       "6                         NaN      0.0              NaN  \n",
       "7                         NaN      0.0              NaN  \n",
       "8                         NaN      0.0              NaN  \n",
       "9                         NaN      0.0              NaN  "
      ]
     },
     "execution_count": 75,
     "metadata": {},
     "output_type": "execute_result"
    }
   ],
   "source": [
    "print(forge_16A_df.shape)  # Display the shape of the DataFrame (Rows, Columns)\n",
    "print(f'\\n\\nRow Count: {forge_16A_df.shape[0]} \\nColumn Count: {forge_16A_df.shape[1]}')  # Display row and column count\n",
    "print(f'\\n\\nColumn names: \\n{list(forge_16A_df.columns)}')  # Display the column names\n",
    "# print the first 10 rows of the first 6 columns\n",
    "print('\\n\\nFirst look at the dataframe:')\n",
    "forge_16A_df.iloc[:10, :6]\n"
   ]
  },
  {
   "cell_type": "markdown",
   "id": "98a68d92",
   "metadata": {},
   "source": [
    "The first row contains unit information. Let's save it as a dictionary for reference, then remove the row from the dataframe."
   ]
  },
  {
   "cell_type": "code",
   "execution_count": null,
   "id": "ff664cf0",
   "metadata": {},
   "outputs": [
    {
     "name": "stdout",
     "output_type": "stream",
     "text": [
      "{'Date': 'date/time', 'Date (Date Only)': 'date', 'Date (Time Only)': 'time', 'AutoDriller System Enabled': nan, 'Azimuth': 'degrees', 'Azimuth - Survey': 'degrees', 'Bit Depth': 'feet (ft)', 'Bit Diameter': 'inches (in)', 'Bit Revolutions per Minute': 'revolutions per minute (RPM)', 'Block Position': 'feet (ft)', 'Depth Hole Total Vertical Depth': 'feet (ft)', 'Differential Pressure': 'pounds per square inch (psi)', 'Dog-Leg Severity Measured while Drilling': 'degrees per 100 feet (deg/100ft)', 'Downhole Torque': 'kilofoot-pounds (kft-lbs)', 'Flow In': 'gallons per minute (GPM)', 'Gamma Depth Measured while Drilling': 'feet (ft)', 'Gamma Measured while Drilling': 'API units', 'Gas Carbon Dioxide': 'parts per million (ppm)', 'H2S 01': 'parts per million (ppm)', 'Hookload': 'kilopounds (klbs)', 'Hookload String': 'kilopounds (klbs)', 'Inclination': 'degrees', 'Inclination - Survey': 'degrees', 'Measured while Drilling Tool Depth': 'feet (ft)', 'Mechanical Specific Energy': 'kilopounds per square inch (ksi)', 'Mechanical Specific Energy - Downhole': 'kilopounds per square inch (ksi)', 'Mechanical Specific Energy - Surface': 'kilopounds per square inch (ksi)', 'Mechanical Specific Energy - Total': 'kilopounds per square inch (ksi)', 'Mud Motor Factor': 'revolutions per gallon (rev/gal)', 'Mud Motor Maximum Differential Pressure': 'pounds per square inch (psi)', 'Mud Motor Maximum Torque': 'foot-pounds (ft-lbs)', 'Mud Motor Revolutions per Minute': 'revolutions per minute (RPM)', 'Mud Temperature': 'degrees Fahrenheit', 'On Bottom': nan, 'Over Pull': 'kilopounds (klbs)', 'Pump Pressure': 'pounds per square inch (psi)', 'Rate of Penetration (Depth/Hour)': 'feet per hour (ft/hr)', 'Rate of Penetration (Minute/Depth)': 'minutes per foot (min/ft)', 'Return Flow': 'flow percent', 'Rig Mode': nan, 'Rig State': nan, 'Running Speed Down': 'feet per minute (ft/min)', 'Running Speed Up': 'feet per minute (ft/min)', 'Stick Slip': nan, 'Tool Temperature': 'degrees Fahrenheit', 'Tool Temperature - Survey': 'degrees Fahrenheit', 'Top Drive Revolutions per Minute': 'revolutions per minute (RPM)', 'Top Drive Torque': 'kilofoot-pounds (kft-lbs)', 'Total Strokes per Minute': 'strokes per minute (SPM)', 'Weight on Bit': 'kilopounds (klbs)'}\n",
      "ROP units: feet per hour (ft/hr)\n",
      "minutes per foot (min/ft)\n"
     ]
    }
   ],
   "source": [
    "# Save the first row as a dictionary with the key as the column name and the value as the first row value.\n",
    "unit_dict = forge_16A_df.iloc[0].to_dict()\n",
    "print(unit_dict)\n",
    "\n",
    "print(f'ROP units: {unit_dict[\"Rate of Penetration (Depth/Hour)\"]}')  # Access the ROP units\n",
    "print(unit_dict['Rate of Penetration (Minute/Depth)'])\n",
    "\n",
    "# drop first row (units)\n",
    "forge_16A_df.drop(index=0, inplace=True)  # Drop the first row"
   ]
  },
  {
   "cell_type": "markdown",
   "id": "dee8a9f4",
   "metadata": {},
   "source": [
    "Now Let's take a look at the data types and non-null counts for each column using the .info function in the pandas library."
   ]
  },
  {
   "cell_type": "code",
   "execution_count": 70,
   "id": "b927fef3",
   "metadata": {},
   "outputs": [
    {
     "name": "stdout",
     "output_type": "stream",
     "text": [
      "<class 'pandas.core.frame.DataFrame'>\n",
      "RangeIndex: 608677 entries, 0 to 608676\n",
      "Data columns (total 50 columns):\n",
      " #   Column                                    Non-Null Count   Dtype  \n",
      "---  ------                                    --------------   -----  \n",
      " 0   Date                                      608677 non-null  object \n",
      " 1   Date (Date Only)                          608677 non-null  object \n",
      " 2   Date (Time Only)                          608677 non-null  object \n",
      " 3   AutoDriller System Enabled                0 non-null       float64\n",
      " 4   Azimuth                                   555716 non-null  object \n",
      " 5   Azimuth - Survey                          1 non-null       object \n",
      " 6   Bit Depth                                 1 non-null       object \n",
      " 7   Bit Diameter                              533751 non-null  object \n",
      " 8   Bit Revolutions per Minute                524966 non-null  object \n",
      " 9   Block Position                            596851 non-null  object \n",
      " 10  Depth Hole Total Vertical Depth           597427 non-null  object \n",
      " 11  Differential Pressure                     596864 non-null  object \n",
      " 12  Dog-Leg Severity Measured while Drilling  1 non-null       object \n",
      " 13  Downhole Torque                           504682 non-null  object \n",
      " 14  Flow In                                   607503 non-null  object \n",
      " 15  Gamma Depth Measured while Drilling       1 non-null       object \n",
      " 16  Gamma Measured while Drilling             83934 non-null   object \n",
      " 17  Gas Carbon Dioxide                        1 non-null       object \n",
      " 18  H2S 01                                    297251 non-null  object \n",
      " 19  Hookload                                  596841 non-null  object \n",
      " 20  Hookload String                           1 non-null       object \n",
      " 21  Inclination                               555721 non-null  object \n",
      " 22  Inclination - Survey                      1 non-null       object \n",
      " 23  Measured while Drilling Tool Depth        1 non-null       object \n",
      " 24  Mechanical Specific Energy                1 non-null       object \n",
      " 25  Mechanical Specific Energy - Downhole     1 non-null       object \n",
      " 26  Mechanical Specific Energy - Surface      1 non-null       object \n",
      " 27  Mechanical Specific Energy - Total        1 non-null       object \n",
      " 28  Mud Motor Factor                          1 non-null       object \n",
      " 29  Mud Motor Maximum Differential Pressure   1 non-null       object \n",
      " 30  Mud Motor Maximum Torque                  1 non-null       object \n",
      " 31  Mud Motor Revolutions per Minute          1 non-null       object \n",
      " 32  Mud Temperature                           597505 non-null  object \n",
      " 33  On Bottom                                 596864 non-null  float64\n",
      " 34  Over Pull                                 1 non-null       object \n",
      " 35  Pump Pressure                             596867 non-null  object \n",
      " 36  Rate of Penetration (Depth/Hour)          596865 non-null  object \n",
      " 37  Rate of Penetration (Minute/Depth)        1 non-null       object \n",
      " 38  Return Flow                               596862 non-null  object \n",
      " 39  Rig Mode                                  521273 non-null  float64\n",
      " 40  Rig State                                 0 non-null       float64\n",
      " 41  Running Speed Down                        1 non-null       object \n",
      " 42  Running Speed Up                          1 non-null       object \n",
      " 43  Stick Slip                                0 non-null       float64\n",
      " 44  Tool Temperature                          1 non-null       object \n",
      " 45  Tool Temperature - Survey                 1 non-null       object \n",
      " 46  Top Drive Revolutions per Minute          596862 non-null  object \n",
      " 47  Top Drive Torque                          596862 non-null  object \n",
      " 48  Total Strokes per Minute                  607503 non-null  object \n",
      " 49  Weight on Bit                             596865 non-null  object \n",
      "dtypes: float64(5), object(45)\n",
      "memory usage: 232.2+ MB\n"
     ]
    }
   ],
   "source": [
    "forge_16A_df.info()  # Display DataFrame info"
   ]
  },
  {
   "cell_type": "markdown",
   "id": "be4da8be",
   "metadata": {},
   "source": [
    "Several columns are null. Let's remove them to focus our efforts."
   ]
  },
  {
   "cell_type": "code",
   "execution_count": 5,
   "id": "a96ccab3",
   "metadata": {},
   "outputs": [
    {
     "name": "stdout",
     "output_type": "stream",
     "text": [
      "<class 'pandas.core.frame.DataFrame'>\n",
      "RangeIndex: 608676 entries, 1 to 608676\n",
      "Data columns (total 25 columns):\n",
      " #   Column                            Non-Null Count   Dtype  \n",
      "---  ------                            --------------   -----  \n",
      " 0   Date                              608676 non-null  object \n",
      " 1   Date (Date Only)                  608676 non-null  object \n",
      " 2   Date (Time Only)                  608676 non-null  object \n",
      " 3   Azimuth                           555715 non-null  object \n",
      " 4   Bit Diameter                      533750 non-null  object \n",
      " 5   Bit Revolutions per Minute        524965 non-null  object \n",
      " 6   Block Position                    596850 non-null  object \n",
      " 7   Depth Hole Total Vertical Depth   597426 non-null  object \n",
      " 8   Differential Pressure             596863 non-null  object \n",
      " 9   Downhole Torque                   504681 non-null  object \n",
      " 10  Flow In                           607502 non-null  object \n",
      " 11  Gamma Measured while Drilling     83933 non-null   object \n",
      " 12  H2S 01                            297250 non-null  object \n",
      " 13  Hookload                          596840 non-null  object \n",
      " 14  Inclination                       555720 non-null  object \n",
      " 15  Mud Temperature                   597504 non-null  object \n",
      " 16  On Bottom                         596864 non-null  float64\n",
      " 17  Pump Pressure                     596866 non-null  object \n",
      " 18  Rate of Penetration (Depth/Hour)  596864 non-null  object \n",
      " 19  Return Flow                       596861 non-null  object \n",
      " 20  Rig Mode                          521273 non-null  float64\n",
      " 21  Top Drive Revolutions per Minute  596861 non-null  object \n",
      " 22  Top Drive Torque                  596861 non-null  object \n",
      " 23  Total Strokes per Minute          607502 non-null  object \n",
      " 24  Weight on Bit                     596864 non-null  object \n",
      "dtypes: float64(2), object(23)\n",
      "memory usage: 116.1+ MB\n",
      "None\n"
     ]
    }
   ],
   "source": [
    "# Remove columns with lte 1 non-null value\n",
    "forge_16A_df = forge_16A_df.dropna(axis=1, thresh=2)\n",
    "print(forge_16A_df.info(max_cols=None))"
   ]
  },
  {
   "cell_type": "code",
   "execution_count": 6,
   "id": "925839b5",
   "metadata": {},
   "outputs": [
    {
     "name": "stderr",
     "output_type": "stream",
     "text": [
      "C:\\Users\\RDavis\\AppData\\Local\\Temp\\ipykernel_3292\\918616275.py:4: UserWarning: Could not infer format, so each element will be parsed individually, falling back to `dateutil`. To ensure parsing is consistent and as-expected, please specify a format.\n",
      "  forge_16A_df[col] = pd.to_datetime(forge_16A_df[col], errors='coerce')\n"
     ]
    },
    {
     "name": "stdout",
     "output_type": "stream",
     "text": [
      "                  Date Date (Date Only)    Date (Time Only)  Azimuth  \\\n",
      "1  2020-10-25 12:38:00       2020-10-25 2025-05-07 12:38:00      NaN   \n",
      "2  2020-10-25 12:38:00       2020-10-25 2025-05-07 12:38:00      NaN   \n",
      "3  2020-10-25 12:38:00       2020-10-25 2025-05-07 12:38:00      NaN   \n",
      "4  2020-10-25 12:38:00       2020-10-25 2025-05-07 12:38:00      NaN   \n",
      "5  2020-10-25 12:39:00       2020-10-25 2025-05-07 12:39:00      0.0   \n",
      "6  2020-10-25 12:39:00       2020-10-25 2025-05-07 12:39:00      0.0   \n",
      "7  2020-10-25 12:39:00       2020-10-25 2025-05-07 12:39:00      0.0   \n",
      "8  2020-10-25 12:39:00       2020-10-25 2025-05-07 12:39:00      0.0   \n",
      "9  2020-10-25 12:39:00       2020-10-25 2025-05-07 12:39:00      0.0   \n",
      "10 2020-10-25 12:39:00       2020-10-25 2025-05-07 12:39:00      0.0   \n",
      "\n",
      "    Bit Diameter  Bit Revolutions per Minute  Block Position  \\\n",
      "1            NaN                         NaN             NaN   \n",
      "2            NaN                         NaN             NaN   \n",
      "3            NaN                         NaN             NaN   \n",
      "4            NaN                         NaN             NaN   \n",
      "5            NaN                         NaN             NaN   \n",
      "6            NaN                         NaN             NaN   \n",
      "7            NaN                         NaN             NaN   \n",
      "8            NaN                         NaN             NaN   \n",
      "9            NaN                         NaN             NaN   \n",
      "10           NaN                         NaN             NaN   \n",
      "\n",
      "    Depth Hole Total Vertical Depth  Differential Pressure  Downhole Torque  \\\n",
      "1                               NaN                    NaN              NaN   \n",
      "2                               NaN                    NaN              NaN   \n",
      "3                               NaN                    NaN              NaN   \n",
      "4                               NaN                    NaN              NaN   \n",
      "5                               NaN                    NaN              NaN   \n",
      "6                               NaN                    NaN              NaN   \n",
      "7                               NaN                    NaN              NaN   \n",
      "8                               NaN                    NaN              NaN   \n",
      "9                               NaN                    NaN              NaN   \n",
      "10                              NaN                    NaN              NaN   \n",
      "\n",
      "    ...  Mud Temperature  On Bottom  Pump Pressure  \\\n",
      "1   ...              0.0        NaN            NaN   \n",
      "2   ...              0.0        NaN            NaN   \n",
      "3   ...              0.0        NaN            NaN   \n",
      "4   ...              0.0        NaN            NaN   \n",
      "5   ...              0.0        NaN            NaN   \n",
      "6   ...              0.0        NaN            NaN   \n",
      "7   ...              0.0        NaN            NaN   \n",
      "8   ...              0.0        NaN            NaN   \n",
      "9   ...              0.0        NaN            NaN   \n",
      "10  ...              0.0        NaN            NaN   \n",
      "\n",
      "    Rate of Penetration (Depth/Hour)  Return Flow  Rig Mode  \\\n",
      "1                                NaN          NaN       NaN   \n",
      "2                                NaN          NaN       NaN   \n",
      "3                                NaN          NaN       NaN   \n",
      "4                                NaN          NaN       NaN   \n",
      "5                                NaN          NaN       NaN   \n",
      "6                                NaN          NaN       NaN   \n",
      "7                                NaN          NaN       NaN   \n",
      "8                                NaN          NaN       NaN   \n",
      "9                                NaN          NaN       NaN   \n",
      "10                               NaN          NaN       NaN   \n",
      "\n",
      "    Top Drive Revolutions per Minute  Top Drive Torque  \\\n",
      "1                                NaN               NaN   \n",
      "2                                NaN               NaN   \n",
      "3                                NaN               NaN   \n",
      "4                                NaN               NaN   \n",
      "5                                NaN               NaN   \n",
      "6                                NaN               NaN   \n",
      "7                                NaN               NaN   \n",
      "8                                NaN               NaN   \n",
      "9                                NaN               NaN   \n",
      "10                               NaN               NaN   \n",
      "\n",
      "    Total Strokes per Minute  Weight on Bit  \n",
      "1                        NaN            NaN  \n",
      "2                        NaN            NaN  \n",
      "3                        NaN            NaN  \n",
      "4                        NaN            NaN  \n",
      "5                        NaN            NaN  \n",
      "6                        NaN            NaN  \n",
      "7                        0.0            NaN  \n",
      "8                        0.0            NaN  \n",
      "9                        0.0            NaN  \n",
      "10                       0.0            NaN  \n",
      "\n",
      "[10 rows x 25 columns]\n"
     ]
    }
   ],
   "source": [
    "# Set the columns with 'Date' in the header to datetime\n",
    "for col in forge_16A_df.columns:\n",
    "    if 'Date' in col:\n",
    "        forge_16A_df[col] = pd.to_datetime(forge_16A_df[col], errors='coerce')\n",
    "\n",
    "# Set all other columns to float\n",
    "for col in forge_16A_df.columns:\n",
    "    if 'Date' not in col:\n",
    "        forge_16A_df[col] = pd.to_numeric(forge_16A_df[col], errors='coerce')\n",
    "\n",
    "print(forge_16A_df.head(10))"
   ]
  },
  {
   "cell_type": "markdown",
   "id": "df1ed97e",
   "metadata": {},
   "source": [
    "## 3.9 - Mapping Channels\n",
    "Let's make a copy of our dataframe so as we manipulate the data, the original dataset remains preserved."
   ]
  },
  {
   "cell_type": "code",
   "execution_count": 71,
   "id": "c195abe3",
   "metadata": {},
   "outputs": [],
   "source": [
    "df = forge_16A_df.copy()  # Create a copy of the DataFrame"
   ]
  },
  {
   "cell_type": "markdown",
   "id": "6c71278d",
   "metadata": {},
   "source": [
    "Let's clean up the DataFrame a bit:\n",
    "1. Rename our columns to have a more code-friendly title.\n",
    "2. Reduce the columns to only what we care about.\n",
    "3. Set the rig_time column type to datetime.\n",
    "4. Sort the dataframe by 'rig_time'."
   ]
  },
  {
   "cell_type": "code",
   "execution_count": 72,
   "id": "f8c4e207",
   "metadata": {},
   "outputs": [
    {
     "name": "stdout",
     "output_type": "stream",
     "text": [
      "Original Columns:\n",
      "Index(['Date', 'Date (Date Only)', 'Date (Time Only)',\n",
      "       'AutoDriller System Enabled', 'Azimuth', 'Azimuth - Survey',\n",
      "       'Bit Depth', 'Bit Diameter', 'Bit Revolutions per Minute',\n",
      "       'Block Position', 'Depth Hole Total Vertical Depth',\n",
      "       'Differential Pressure', 'Dog-Leg Severity Measured while Drilling',\n",
      "       'Downhole Torque', 'Flow In', 'Gamma Depth Measured while Drilling',\n",
      "       'Gamma Measured while Drilling', 'Gas Carbon Dioxide', 'H2S 01',\n",
      "       'Hookload', 'Hookload String', 'Inclination', 'Inclination - Survey',\n",
      "       'Measured while Drilling Tool Depth', 'Mechanical Specific Energy',\n",
      "       'Mechanical Specific Energy - Downhole',\n",
      "       'Mechanical Specific Energy - Surface',\n",
      "       'Mechanical Specific Energy - Total', 'Mud Motor Factor',\n",
      "       'Mud Motor Maximum Differential Pressure', 'Mud Motor Maximum Torque',\n",
      "       'Mud Motor Revolutions per Minute', 'Mud Temperature', 'On Bottom',\n",
      "       'Over Pull', 'Pump Pressure', 'Rate of Penetration (Depth/Hour)',\n",
      "       'Rate of Penetration (Minute/Depth)', 'Return Flow', 'Rig Mode',\n",
      "       'Rig State', 'Running Speed Down', 'Running Speed Up', 'Stick Slip',\n",
      "       'Tool Temperature', 'Tool Temperature - Survey',\n",
      "       'Top Drive Revolutions per Minute', 'Top Drive Torque',\n",
      "       'Total Strokes per Minute', 'Weight on Bit'],\n",
      "      dtype='object')\n"
     ]
    }
   ],
   "source": [
    "print('Original Columns:')\n",
    "print(forge_16A_df.columns)  # Check the columns in the DataFrame"
   ]
  },
  {
   "cell_type": "markdown",
   "id": "5c7b365a",
   "metadata": {},
   "source": [
    "### 3.9.1 - Channel Mapper Creation\n",
    "\n",
    "Use a dictionary to create a channel mapper."
   ]
  },
  {
   "cell_type": "code",
   "execution_count": null,
   "id": "fe4c0b48",
   "metadata": {},
   "outputs": [
    {
     "name": "stdout",
     "output_type": "stream",
     "text": [
      "Renamed Columns:\n",
      "Index(['rig_time', 'Date (Date Only)', 'Date (Time Only)',\n",
      "       'AutoDriller System Enabled', 'azi', 'Azimuth - Survey', 'Bit Depth',\n",
      "       'bit_size', 'bit_rpm', 'block_height', 'md', 'diff_press',\n",
      "       'Dog-Leg Severity Measured while Drilling', 'Downhole Torque',\n",
      "       'flow_in', 'Gamma Depth Measured while Drilling', 'gamma',\n",
      "       'Gas Carbon Dioxide', 'H2S 01', 'hookload', 'Hookload String', 'inc',\n",
      "       'Inclination - Survey', 'Measured while Drilling Tool Depth',\n",
      "       'Mechanical Specific Energy', 'Mechanical Specific Energy - Downhole',\n",
      "       'Mechanical Specific Energy - Surface',\n",
      "       'Mechanical Specific Energy - Total', 'Mud Motor Factor',\n",
      "       'Mud Motor Maximum Differential Pressure', 'Mud Motor Maximum Torque',\n",
      "       'Mud Motor Revolutions per Minute', 'Mud Temperature',\n",
      "       'on_bottom_status', 'Over Pull', 'pump_press', 'rop',\n",
      "       'Rate of Penetration (Minute/Depth)', 'flow_out', 'rig_mode',\n",
      "       'Rig State', 'Running Speed Down', 'Running Speed Up', 'Stick Slip',\n",
      "       'Tool Temperature', 'Tool Temperature - Survey', 'td_rpm', 'td_torque',\n",
      "       'total_spm', 'wob'],\n",
      "      dtype='object')\n"
     ]
    }
   ],
   "source": [
    "# Define the channel mapper dictionary\n",
    "channel_mapper_dict = {\n",
    "    'Date': 'rig_time',\n",
    "    'Bit Diameter': 'bit_size',\n",
    "    'Top Drive Revolutions per Minute': 'td_rpm',\n",
    "    'Bit Revolutions per Minute': 'bit_rpm',\n",
    "    'Weight on Bit': 'wob',\n",
    "    'Differential Pressure': 'diff_press',\n",
    "    'Block Position': 'block_height',\n",
    "    'Rate of Penetration (Depth/Hour)': 'rop',\n",
    "    'Depth Hole Total Vertical Depth': 'md',\n",
    "    'Inclination': 'inc',\n",
    "    'Azimuth': 'azi',\n",
    "    'Hookload': 'hookload',\n",
    "    'Pump Pressure': 'pump_press',\n",
    "    'Return Flow': 'flow_out',\n",
    "    'Flow In': 'flow_in',\n",
    "    'Top Drive Torque': 'td_torque',\n",
    "    'Gamma Measured while Drilling': 'gamma',\n",
    "    'Rig Mode': 'rig_mode',\n",
    "    'On Bottom': 'on_bottom_status',\n",
    "    'Total Strokes per Minute': 'total_spm'\n",
    "}\n",
    "\n",
    "# Rename column headers using the dictionary\n",
    "df.rename(columns=channel_mapper_dict, inplace=True)\n",
    "\n",
    "print('Renamed Columns:')\n",
    "print(df.columns)  # Check the renamed columns"
   ]
  },
  {
   "cell_type": "markdown",
   "id": "ea98bfb6",
   "metadata": {},
   "source": [
    "### 3.9.2 - Limit the columns"
   ]
  },
  {
   "cell_type": "code",
   "execution_count": 76,
   "id": "35e6f2cf",
   "metadata": {},
   "outputs": [],
   "source": [
    "# Rearrange and limit the columns in the dataframe\n",
    "df = df[['rig_time', 'md', 'rop', 'wob', 'diff_press', 'td_rpm', 'td_torque',\n",
    "         'bit_rpm', 'block_height', 'inc', 'azi', 'bit_size', 'on_bottom_status']]"
   ]
  },
  {
   "cell_type": "code",
   "execution_count": 77,
   "id": "c3564733",
   "metadata": {},
   "outputs": [
    {
     "name": "stderr",
     "output_type": "stream",
     "text": [
      "C:\\Users\\RDavis\\AppData\\Local\\Temp\\ipykernel_3292\\4279793574.py:2: UserWarning: Could not infer format, so each element will be parsed individually, falling back to `dateutil`. To ensure parsing is consistent and as-expected, please specify a format.\n",
      "  df['rig_time'] = pd.to_datetime(df['rig_time'], errors='coerce')  # Convert to datetime\n"
     ]
    },
    {
     "name": "stdout",
     "output_type": "stream",
     "text": [
      "\n",
      "Renamed Columns:\n",
      "Index(['rig_time', 'md', 'rop', 'wob', 'diff_press', 'td_rpm', 'td_torque',\n",
      "       'bit_rpm', 'block_height', 'inc', 'azi', 'bit_size',\n",
      "       'on_bottom_status'],\n",
      "      dtype='object')\n"
     ]
    }
   ],
   "source": [
    "# Set the type of rig_time to datetime\n",
    "df['rig_time'] = pd.to_datetime(df['rig_time'], errors='coerce')  # Convert to datetime\n",
    "for col in df.columns:\n",
    "    if col != 'rig_time':\n",
    "        df[col] = pd.to_numeric(df[col], errors='coerce')  # Convert to numeric\n",
    "\n",
    "df.sort_values(by='rig_time', inplace=True)  # Sort by rig_time\n",
    "print(f'\\nRenamed Columns:')\n",
    "print(df.columns)  # Check the columns in the DataFrame"
   ]
  },
  {
   "cell_type": "markdown",
   "id": "a3674f43",
   "metadata": {},
   "source": [
    "## Plotting Basics\n",
    "\n",
    "### DVD Plot\n",
    "We're ready to start our analysis.\n",
    "\n",
    "Let's wrap our heads around the dataset by visualizing a common DVD curve using **MatPlotLib**."
   ]
  },
  {
   "cell_type": "code",
   "execution_count": 78,
   "id": "3c15006d",
   "metadata": {},
   "outputs": [
    {
     "name": "stdout",
     "output_type": "stream",
     "text": [
      "Reduced row count: 2493\n"
     ]
    },
    {
     "data": {
      "image/png": "[encoded data removed]",
      "text/plain": [
       "<Figure size 1000x600 with 1 Axes>"
      ]
     },
     "metadata": {},
     "output_type": "display_data"
    }
   ],
   "source": [
    "# Import the MatPlotLib and Seaborn libraries for plotting.\n",
    "import matplotlib.pyplot as plt\n",
    "\n",
    "# Reduce the frequency of the dataframe to make the plot less heavy\n",
    "plot_df = df.copy()\n",
    "plot_df = plot_df.iloc[::240, :]  # Take every 240th row using python slice notation --> start:stop:step\n",
    "# drop rows where rig_time or md is null\n",
    "plot_df.dropna(subset=['rig_time', 'md'], inplace=True)\n",
    "# set rig_time as datetime\n",
    "# plot_df['rig_time'] = pd.to_datetime(plot_df['rig_time'], errors='coerce')  # Convert to datetime\n",
    "plot_df['rig_time'] = plot_df['rig_time'].dt.strftime('%Y-%m-%d %H:%M:%S')  # Format datetime\n",
    "\n",
    "# convert md to numeric\n",
    "plot_df['md'] = pd.to_numeric(plot_df['md'], errors='coerce')\n",
    "\n",
    "print(f'Reduced row count: {plot_df.shape[0]}')  # Check the number of rows after reduction\n",
    "\n",
    "# Ensure plots are displayed in Jupyter Notebook\n",
    "%matplotlib inline \n",
    "\n",
    "# plot line graph x axis = rig_time, y axis = bit_depth, then invert the y-axis\n",
    "plt.figure(figsize=(10, 6))\n",
    "plt.plot(plot_df['rig_time'], plot_df['md'], label='Bit Depth', color='blue')\n",
    "# Reduce the x-axis ticks to only show every 200th tick\n",
    "plt.xticks(plot_df['rig_time'][::200], rotation=45)  # Rotate x-axis labels for better readability\n",
    "plt.gca().invert_yaxis()  # Invert the y-axis\n",
    "plt.xlabel('Rig Time')  # Set x-label\n",
    "plt.ylabel('Depth (ft)')  # Set y-label\n",
    "plt.title('DvD Curve')\n",
    "plt.show()"
   ]
  },
  {
   "cell_type": "markdown",
   "id": "af5ef5c2",
   "metadata": {},
   "source": [
    "## Practice With Your DataSet\n",
    "Use the code block below to try the following:\n",
    "1. Save a .csv file of your data to the python-for-drilling-engineers Google Drive.\n",
    "2. Upload a CSV file containing drilling parameters for one of your wells (or a single bit run) to a DataFrame.\n",
    "   - Include Parameters: 'rig_time', 'md', 'bit_depth', 'rop', 'wob', 'td_rpm', 'td_torque', 'diff_press', 'block_height'\n",
    "3. Prep the DataFrame for analysis.\n",
    "   1. Rename the columns\n",
    "   2. Filter \n",
    "4. Filter for on-bottom data only. If that's not an option to export from your WITSML datastore, what data could you use to identify on-bottom only?\n",
    "5. Create a DVD plot, KPI Bar Chart, and Heat Map from your data.\n",
    "6. Generate a basic drilling roadmap.\n",
    "\n",
    "**Congratulations on completing Module 1!** 🎉\n",
    "\n",
    "## Module 2 Next Friday!\n",
    "\n",
    "Next week we will explore in-depth the Data QC process.  Ensuring you have a good, clean dataset is a **MUST** before you start to dive into ML.\n",
    "\n",
    "You don't want garbage outputs, so let's not feed it garbage in."
   ]
  }
 ],
 "metadata": {
  "kernelspec": {
   "display_name": "venv",
   "language": "python",
   "name": "python3"
  },
  "language_info": {
   "codemirror_mode": {
    "name": "ipython",
    "version": 3
   },
   "file_extension": ".py",
   "mimetype": "text/x-python",
   "name": "python",
   "nbconvert_exporter": "python",
   "pygments_lexer": "ipython3",
   "version": "3.12.0"
  }
 },
 "nbformat": 4,
 "nbformat_minor": 5
}
