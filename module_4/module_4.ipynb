{
 "cells": [
  {
   "cell_type": "markdown",
   "id": "87ad5ec0",
   "metadata": {},
   "source": [
    "# Lesson 4: Introduction to Machine Learning (Unsupervised Learning)"
   ]
  },
  {
   "cell_type": "markdown",
   "id": "e574810f",
   "metadata": {},
   "source": [
    "\n",
    "### 🎯 Learning Objectives\n",
    "By the end of this lesson, you will be able to:\n",
    "- Understand what machine learning is and how it differs from traditional programming\n",
    "- Grasp the concept of unsupervised learning\n",
    "- Use clustering (e.g., KMeans) to group similar drilling operations or intervals\n",
    "- Apply dimensionality reduction to high-dimensional sensor datasets\n",
    "- Visualize and interpret machine-generated groupings in a drilling context\n"
   ]
  },
  {
   "cell_type": "markdown",
   "id": "38c4ce9a",
   "metadata": {},
   "source": [
    "## 📘 Section 1: What is Machine Learning?"
   ]
  },
  {
   "cell_type": "markdown",
   "id": "8bff5b58",
   "metadata": {},
   "source": [
    "\n",
    "- **Concept**: Traditional programming vs. Machine Learning  \n",
    "- **ML Analogy**: Think of ML as teaching a drilling rig to \"spot patterns\" in sensor data, without us telling it the rules.\n",
    "- **Supervised vs. Unsupervised vs. Reinforcement** (Quick visual comparison)\n",
    "- **Why ML matters in Drilling**: Detect patterns in large data streams, reduce NPT, improve decision-making, automate report generation.\n"
   ]
  },
  {
   "cell_type": "code",
   "execution_count": null,
   "id": "7d04757e",
   "metadata": {},
   "outputs": [],
   "source": [
    "\n",
    "# Exercise 1: Traditional decision logic example\n",
    "def rpm_status(rpm):\n",
    "    if rpm < 20:\n",
    "        return \"Slide\"\n",
    "    elif rpm < 70:\n",
    "        return \"Rotate Low\"\n",
    "    elif rpm < 120:\n",
    "        return \"Normal\"\n",
    "    else:\n",
    "        return \"High\"\n",
    "\n",
    "# Example usage\n",
    "[rpm_status(r) for r in [70, 100, 160]]\n"
   ]
  },
  {
   "cell_type": "markdown",
   "id": "b9220aff",
   "metadata": {},
   "source": [
    "## 📘 Section 2: Intro to Unsupervised Learning"
   ]
  },
  {
   "cell_type": "markdown",
   "id": "5bbf4b34",
   "metadata": {},
   "source": [
    "\n",
    "- **Definition**: Unsupervised = no labeled outputs; model finds structure in data on its own\n",
    "- **Real-World Analogy**: Sorting drill cuttings by texture without being told which ones are sandstone or shale\n",
    "- **Use Cases in Drilling**:\n",
    "  - Cluster similar BHA configurations based on vibration/RPM/WOB\n",
    "  - Group drilling intervals with similar mechanical specific energy profiles\n",
    "  - Detect anomalies in MWD/LWD data without needing labeled failure events\n"
   ]
  },
  {
   "cell_type": "code",
   "execution_count": null,
   "id": "a80a17e3",
   "metadata": {},
   "outputs": [],
   "source": [
    "import pandas as pd\n",
    "# Load the dataset\n",
    "# df = pd.read_csv(\"Drilling_Dataset.csv\")\n",
    "# change directory to the location of the dataset\n",
    "import os\n",
    "#check the current working directory\n",
    "print(os.getcwd())\n",
    "# os.chdir(\"..\")\n",
    "# Load the dataset\n",
    "file_path = \"module_3/all_run_df.csv\"\n",
    "df = pd.read_csv(file_path)\n"
   ]
  },
  {
   "cell_type": "code",
   "execution_count": null,
   "id": "674ef4bd",
   "metadata": {},
   "outputs": [],
   "source": [
    "from google.colab import drive\n",
    "import pandas as pd\n",
    "drive.mount('/content/drive')\n",
    "\n",
    "file_name = 'all_run_df.csv'  # Replace with your file name once uploaded to Google Drive\n",
    "\n",
    "file_path = f'/content/drive/My Drive/python-for-drilling-engineers/module_4/{file_name}'\n",
    "\n",
    "on_btm_df = pd.read_csv(file_path)"
   ]
  },
  {
   "cell_type": "code",
   "execution_count": null,
   "id": "ea8a7818",
   "metadata": {},
   "outputs": [],
   "source": [
    "df['depth_of_cut'] = 0\n",
    "\n",
    "df.loc[df.bit_rpm > 10, 'depth_of_cut'] = (0.2) * df['rop'] / df['bit_rpm']"
   ]
  },
  {
   "cell_type": "code",
   "execution_count": null,
   "id": "93037751",
   "metadata": {},
   "outputs": [],
   "source": [
    "\n",
    "from sklearn.cluster import KMeans\n",
    "import matplotlib.pyplot as plt\n",
    "from sklearn.preprocessing import StandardScaler\n",
    "\n",
    "# Select features and perform clustering\n",
    "# features = df[['ROP_ft_hr', 'WOB_klbs', 'RPM', 'MSE']]\n",
    "\n",
    "features = df[['rop', 'wob', 'td_rpm', 'diff_press']]\n",
    "print(features.describe())\n",
    "\n",
    "df.dropna(subset=features.columns, inplace=True)\n",
    "print(features.columns[0])\n",
    "print(len(df[df[features.columns[3]].isna()]))\n",
    "# Normalize features\n",
    "# scaler = StandardScaler()\n",
    "# scaled_features = scaler.fit_transform(features)\n",
    "# Perform KMeans clustering\n",
    "kmeans = KMeans(n_clusters=5, random_state=0)\n",
    "df['Cluster'] = kmeans.fit_predict(features)\n",
    "\n",
    "sampled = df.sample(3000)\n",
    "plt.figure(figsize=(10, 6))\n",
    "plt.scatter(sampled['md'], sampled['rop'], c=sampled['Cluster'], cmap='viridis', s=10)\n",
    "plt.xlabel('Depth (ft)')\n",
    "plt.ylabel('ROP (ft/hr)')\n",
    "plt.title('ROP by Depth with KMeans Clustering')\n",
    "plt.colorbar(label='Cluster')\n",
    "plt.show()\n"
   ]
  },
  {
   "cell_type": "code",
   "execution_count": null,
   "id": "66a9d5aa",
   "metadata": {},
   "outputs": [],
   "source": [
    "# Visualize subplot with shared x-axis of 'md' and plots with the y-axis being each of the 4 items in features.columns\n",
    "plt.figure(figsize=(12, 8))\n",
    "for i, col in enumerate(features.columns):\n",
    "    plt.subplot(3, 2, i + 1)\n",
    "    plt.scatter(df['md'], df[col], c=df['Cluster'], cmap='viridis', s=10)\n",
    "    plt.xlabel('Depth (ft)')\n",
    "    plt.ylabel(col)\n",
    "    plt.title(f'{col} by Depth with KMeans Clustering')\n",
    "plt.tight_layout()\n",
    "plt.show()"
   ]
  },
  {
   "cell_type": "markdown",
   "id": "7ce3761d",
   "metadata": {},
   "source": [
    "## 📘 Section 2.1: Scaling Your Features"
   ]
  },
  {
   "cell_type": "code",
   "execution_count": null,
   "id": "02196780",
   "metadata": {},
   "outputs": [],
   "source": [
    "\n",
    "from sklearn.cluster import KMeans\n",
    "import matplotlib.pyplot as plt\n",
    "from sklearn.preprocessing import StandardScaler\n",
    "\n",
    "# Select features and perform clustering\n",
    "# features = df[['ROP_ft_hr', 'WOB_klbs', 'RPM', 'MSE']]\n",
    "\n",
    "features = df[['rop', 'wob', 'td_rpm', 'diff_press']]\n",
    "print(features.describe())\n",
    "\n",
    "df.dropna(subset=features.columns, inplace=True)\n",
    "print(features.columns[0])\n",
    "print(len(df[df[features.columns[3]].isna()]))\n",
    "# Normalize features\n",
    "scaler = StandardScaler()\n",
    "scaled_features = scaler.fit_transform(features)\n",
    "# Perform KMeans clustering\n",
    "kmeans = KMeans(n_clusters=5, random_state=0)\n",
    "df['Cluster'] = kmeans.fit_predict(scaled_features)\n",
    "\n",
    "sampled = df.sample(3000)\n",
    "plt.figure(figsize=(10, 6))\n",
    "plt.scatter(sampled['md'], sampled['rop'], c=sampled['Cluster'], cmap='viridis', s=10)\n",
    "plt.xlabel('Depth (ft)')\n",
    "plt.ylabel('ROP (ft/hr)')\n",
    "plt.title('ROP by Depth with KMeans Clustering')\n",
    "plt.colorbar(label='Cluster')\n",
    "plt.show()\n"
   ]
  },
  {
   "cell_type": "code",
   "execution_count": null,
   "id": "b977c4e1",
   "metadata": {},
   "outputs": [],
   "source": [
    "# Visualize subplot with shared x-axis of 'md' and plots with the y-axis being each of the 4 items in features.columns\n",
    "plt.figure(figsize=(12, 8))\n",
    "for i, col in enumerate(features.columns):\n",
    "    plt.subplot(3, 2, i + 1)\n",
    "    plt.scatter(df['md'], df[col], c=df['Cluster'], cmap='viridis', s=10)\n",
    "    plt.xlabel('Depth (ft)')\n",
    "    plt.ylabel(col)\n",
    "    plt.title(f'{col} by Depth with KMeans Clustering')\n",
    "plt.tight_layout()\n",
    "plt.show()"
   ]
  },
  {
   "cell_type": "markdown",
   "id": "fd0b200e",
   "metadata": {},
   "source": [
    "### Section 2.1: Bringing Your Clusters into Your DataFrame"
   ]
  },
  {
   "cell_type": "code",
   "execution_count": null,
   "id": "451e1012",
   "metadata": {},
   "outputs": [],
   "source": [
    "df_grouped = df.groupby(['Cluster']).agg(\n",
    "    count=('rop', 'size'),\n",
    "    avg_rop=('rop', 'mean'),\n",
    "    avg_wob=('wob', 'mean'),\n",
    "    avg_td_rpm=('td_rpm', 'mean'),\n",
    "    avg_diff_press=('diff_press', 'mean'),\n",
    ").reset_index()\n",
    "df_grouped"
   ]
  },
  {
   "cell_type": "markdown",
   "id": "241b0a95",
   "metadata": {},
   "source": [
    "## 📘 Section 3: Dimensionality Reduction"
   ]
  },
  {
   "cell_type": "markdown",
   "id": "8abab6ae",
   "metadata": {},
   "source": [
    "\n",
    "- **Problem**: Drilling data is high-dimensional (lots of sensors!)\n",
    "- **Solution**: Use PCA or t-SNE to project data into 2D or 3D for visualization\n",
    "- **Analogy**: Reducing a 3D well log to a 2D cross-section for easier interpretation\n"
   ]
  },
  {
   "cell_type": "code",
   "execution_count": null,
   "id": "b0a0fffa",
   "metadata": {},
   "outputs": [],
   "source": [
    "\n",
    "from sklearn.decomposition import PCA\n",
    "\n",
    "# Apply PCA to reduce features to 2D\n",
    "pca = PCA(n_components=2)\n",
    "pca_result = pca.fit_transform(features)\n",
    "df['PCA1'] = pca_result[:, 0]\n",
    "df['PCA2'] = pca_result[:, 1]\n",
    "\n",
    "# Plot PCA result\n",
    "plt.figure(figsize=(10, 6))\n",
    "plt.scatter(df['PCA1'], df['PCA2'], c=df['rop'], cmap='viridis', s=10)\n",
    "plt.xlabel('PCA 1')\n",
    "plt.ylabel('PCA 2')\n",
    "plt.title('PCA of Drilling Features')\n",
    "plt.colorbar(label='Cluster')\n",
    "plt.show()\n"
   ]
  },
  {
   "cell_type": "markdown",
   "id": "dbf6fa63",
   "metadata": {},
   "source": [
    "## 📘 Section 4: Real-World Case Study"
   ]
  },
  {
   "cell_type": "markdown",
   "id": "fd157b21",
   "metadata": {},
   "source": [
    "\n",
    "**Title**: Identifying Operational Modes While Drilling  \n",
    "- Load a sample drilling dataset (ROP, WOB, Torque, MSE, SPP)\n",
    "- Run clustering (KMeans, DBSCAN)\n",
    "- Label resulting clusters as: \"Rotating\", \"Sliding\", \"Connection\", \"Anomaly\"\n"
   ]
  },
  {
   "cell_type": "code",
   "execution_count": null,
   "id": "f0de447e",
   "metadata": {},
   "outputs": [],
   "source": [
    "\n",
    "from sklearn.cluster import DBSCAN\n",
    "from sklearn.preprocessing import StandardScaler\n",
    "\n",
    "# Scale the features\n",
    "scaler = StandardScaler()\n",
    "scaled = scaler.fit_transform(features)\n",
    "\n",
    "# Run DBSCAN\n",
    "dbscan = DBSCAN(eps=0.5, min_samples=10)\n",
    "df['DBSCAN_Cluster'] = dbscan.fit_predict(scaled)\n",
    "\n",
    "# Visualize result\n",
    "plt.figure(figsize=(10, 6))\n",
    "plt.scatter(df['md'], df['rop'], c=df['DBSCAN_Cluster'], cmap='plasma', s=10)\n",
    "plt.xlabel('Depth (ft)')\n",
    "plt.ylabel('ROP (ft/hr)')\n",
    "plt.title('DBSCAN Clustering on Drilling Data')\n",
    "plt.colorbar(label='Cluster')\n",
    "plt.show()\n"
   ]
  },
  {
   "cell_type": "markdown",
   "id": "c6559edb",
   "metadata": {},
   "source": [
    "## 📘 Section 5: Wrap-Up and Discussion"
   ]
  },
  {
   "cell_type": "markdown",
   "id": "9c010b18",
   "metadata": {},
   "source": [
    "\n",
    "- What did we learn?\n",
    "- Where can clustering help in your daily workflows?\n",
    "- How might we combine unsupervised learning with human expertise?\n",
    "- **Teaser**: Next lesson - supervised learning and anomaly detection!\n"
   ]
  }
 ],
 "metadata": {
  "kernelspec": {
   "display_name": "venv",
   "language": "python",
   "name": "python3"
  },
  "language_info": {
   "codemirror_mode": {
    "name": "ipython",
    "version": 3
   },
   "file_extension": ".py",
   "mimetype": "text/x-python",
   "name": "python",
   "nbconvert_exporter": "python",
   "pygments_lexer": "ipython3",
   "version": "3.12.0"
  }
 },
 "nbformat": 4,
 "nbformat_minor": 5
}
