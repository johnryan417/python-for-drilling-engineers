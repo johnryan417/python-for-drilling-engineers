{
 "cells": [
  {
   "cell_type": "markdown",
   "id": "22a57a00",
   "metadata": {},
   "source": [
    "# Python for Drilling Engineers - Module 1\n",
    "## Introduction\n",
    "Welcome to the Python for Drilling Engineers course! In this module, we'll cover the basics of Python and data manipulation for drilling-related applications.\n",
    "\n",
    "**Why Python?**\n",
    "- Open-source and widely used in data science\n",
    "- Great for automating repetitive tasks\n",
    "- Strong ecosystem for data analysis and visualization\n",
    "\n",
    "**What's in it for a drilling engineer?**\n",
    "- Automate drilling reports and calculations\n",
    "- Analyze well logs and real-time drilling data\n",
    "- Improve decision-making with data-driven insights"
   ]
  },
  {
   "cell_type": "markdown",
   "id": "cdeb4860",
   "metadata": {},
   "source": [
    "## Python Basics: Built-in Data Structures\n",
    "Before working with datasets, let's cover fundamental Python data structures.\n",
    "\n",
    "### Summary Table: Python Data Structures\n",
    "\n",
    "| Data Structure | Ordered? | Mutable? | Duplicates Allowed? | Best Use Case |\n",
    "|---------------|---------|----------|------------------|--------------|\n",
    "| **List** (`list`) | ✅ Yes | ✅ Yes | ✅ Yes | General-purpose, ordered data storage |\n",
    "| **Dictionary** (`dict`) | ❌ No (Python 3.7+ maintains insertion order) | ✅ Yes | ❌ No (keys must be unique) | Key-value lookups, structured data |\n",
    "| **Tuple** (`tuple`) | ✅ Yes | ❌ No | ✅ Yes | Immutable, fixed collections |\n",
    "| **Set** (`set`) | ❌ No | ✅ Yes (elements can be added/removed) | ❌ No | Unique element storage, set operations |\n",
    "\n"
   ]
  },
  {
   "cell_type": "markdown",
   "id": "437ef9ff",
   "metadata": {},
   "source": [
    "### Lists\n",
    "**Definition:**\n",
    "A list is an ordered, mutable (modifiable) collection that allows duplicate elements.\n",
    "\n",
    "**Key Features:**\n",
    "- Ordered: elements maintain the order in which they were added\n",
    "- Mutable: Elements can be changed, added, or removed.\n",
    "- Allows Duplicates: Multiple elements with the same value are allowed.\n",
    "\n",
    "**When to Use?**\n",
    "- When you need an ordered collection of items.\n",
    "- When frequent updates (insertion/deletion/modification) are needed.\n",
    "- When you want to store heterogeneous data (e.g., [\"Drill Bit\", 10, 45.7])."
   ]
  },
  {
   "cell_type": "code",
   "execution_count": null,
   "id": "e6ca3785",
   "metadata": {},
   "outputs": [],
   "source": [
    "# Lists\n",
    "drilling_tools = ['Bit', 'Mud Motor', 'MWD', 'Rotary Table']\n",
    "print(drilling_tools[0])  # Access first item\n",
    "print(len(drilling_tools))  # Number of elements"
   ]
  },
  {
   "cell_type": "markdown",
   "id": "86addc0c",
   "metadata": {},
   "source": [
    "### Dictionaries\n",
    "**Definition:** A dictionary is an unordered collection of key-value pairs, where keys are unique and immutable.\n",
    "\n",
    "**Key Features:**\n",
    "- Key-value pairs: Allows efficient lookups.\n",
    "- Keys must be unique: No duplicate keys are allowed.\n",
    "- Mutable: You can update values or add new key-value pairs.\n",
    "\n",
    "**When to Use?**\n",
    "- When you need fast lookups based on unique keys.\n",
    "- When you need to store related attributes (e.g., drilling parameters per well).\n",
    "- When you need flexible and structured data storage."
   ]
  },
  {
   "cell_type": "code",
   "execution_count": null,
   "id": "5ccbba1e",
   "metadata": {},
   "outputs": [],
   "source": [
    "# Dictionaries\n",
    "drilling_data = {\n",
    "    'Depth': 5000,\n",
    "    'ROP': 50,\n",
    "    'Mud Weight': 10.5\n",
    "}\n",
    "print(drilling_data['Depth'])  # Accessing dictionary value"
   ]
  },
  {
   "cell_type": "markdown",
   "id": "412e21ec",
   "metadata": {},
   "source": [
    "### Tuples\n",
    "**Definition:** A tuple is an ordered, immutable collection that allows duplicate elements.\n",
    "\n",
    "**Key Features:**\n",
    "- Ordered: Elements maintain their order.\n",
    "- Immutable: Cannot be changed after creation.\n",
    "- Allows Duplicates: Multiple identical elements are allowed.\n",
    "\n",
    "**When to Use?**\n",
    "- When you need a fixed collection that should not change.\n",
    "- When performance is critical (tuples are faster than lists).\n",
    "- When using as dictionary keys (since they are immutable)."
   ]
  },
  {
   "cell_type": "code",
   "execution_count": null,
   "id": "aaf969aa",
   "metadata": {},
   "outputs": [],
   "source": [
    "# Tuples\n",
    "drilling_parameters = (5000, 50, 10.5)  # Immutable list\n",
    "print(drilling_parameters[0])  # Access first item"
   ]
  },
  {
   "cell_type": "markdown",
   "id": "50d8d262",
   "metadata": {},
   "source": [
    "### Sets\n",
    "**Definition:** A set is an unordered, mutable collection that only stores unique elements.\n",
    "\n",
    "**Key Features:**\n",
    "- Unordered: No guaranteed element order.\n",
    "- Mutable (but only for adding/removing elements).\n",
    "- No Duplicates: Automatically removes duplicates.\n",
    "\n",
    "**When to Use?**\n",
    "- When you need to store unique values only (e.g., unique well names).\n",
    "- When you need fast membership testing (in operator is fast).\n",
    "- When performing set operations (union, intersection, difference)."
   ]
  },
  {
   "cell_type": "code",
   "execution_count": null,
   "id": "af089d45",
   "metadata": {},
   "outputs": [],
   "source": [
    "# Sets\n",
    "drilling_tools = {'Bit', 'Mud Motor', 'MWD', 'Rotary Table'}\n",
    "print(drilling_tools)  # Unique elements\n",
    "# Step 1: Adding an element to a set\n",
    "drilling_tools.add('Casing')\n",
    "print('Step 1 Result:')\n",
    "print(drilling_tools)\n",
    "# Step 2: Removing an element from a set\n",
    "drilling_tools.remove('Bit')\n",
    "print('Step 2 Result:')\n",
    "print(drilling_tools)\n",
    "# Step 3: Check if an element exists in a set\n",
    "print('Step 3 Result:')\n",
    "print('Bit' in drilling_tools)  # Returns False\n",
    "# Iterating through a set\n",
    "for tool in drilling_tools:\n",
    "    print(tool)\n",
    "\n",
    "# List Comprehensions\n",
    "# Create a list of drilling tools with 'Drill' prefix\n",
    "drilling_tools = ['Bit', 'Mud Motor', 'MWD', 'Rotary Table']\n",
    "drilling_tools_with_prefix = [f'Drill {tool}' for tool in drilling_tools]\n",
    "print(drilling_tools_with_prefix)  # ['Drill Bit', 'Drill Mud Motor', 'Drill MWD', 'Drill Rotary Table']"
   ]
  },
  {
   "cell_type": "markdown",
   "id": "4f4405aa",
   "metadata": {},
   "source": [
    "### Dictionary Comprehension"
   ]
  },
  {
   "cell_type": "code",
   "execution_count": null,
   "id": "5d4a5f8a",
   "metadata": {},
   "outputs": [],
   "source": [
    "# Dictionary Comprehensions\n",
    "# Create a dictionary with drilling tools and their depths\n",
    "drilling_tools = ['Bit', 'Mud Motor', 'MWD', 'stabilizer']\n",
    "tool_od_list = [12.25, 8.5, 8.5, 11.75]  # Outer diameter list\n",
    "# tool_length_list = [1.75, 26.3, 28.5, 7.45]  # Length list\n",
    "# Create a dictionary with drilling tools and their ODs\n",
    "drilling_tool_dict = {tool: od for tool, od in zip(drilling_tools, tool_od_list)}\n",
    "print(drilling_tool_dict)  # {'Bit': 12.25, 'Mud Motor': 8.5, 'MWD': 8.5, 'stabilizer': 11.75}\n",
    "\n",
    "# Get the OD of the MWD from the dictionary:\n",
    "mwd_od = drilling_tool_dict.get('MWD')\n",
    "print(mwd_od)  # 8.5\n"
   ]
  },
  {
   "cell_type": "code",
   "execution_count": null,
   "id": "60452737",
   "metadata": {},
   "outputs": [],
   "source": [
    "# F-strings & for loops:\n",
    "tool_type = 'Bit'\n",
    "print(f'The {tool_type} has an outer diameter of {drilling_tool_dict[tool_type]} inches.')\n",
    "\n",
    "# Iterate through the dictionary and print each tool's name and outer diameter\n",
    "for name, value in drilling_tool_dict.items():\n",
    "    print(f'The {name} has an outer diameter of {value} inches.')"
   ]
  },
  {
   "cell_type": "markdown",
   "id": "4f988515",
   "metadata": {},
   "source": [
    "## Working with DataFrames\n",
    "We'll use Pandas to create and manipulate dataframes."
   ]
  },
  {
   "cell_type": "code",
   "execution_count": null,
   "id": "3e11c1b4",
   "metadata": {},
   "outputs": [],
   "source": [
    "import pandas as pd\n",
    "\n",
    "# Creating a simple DataFrame\n",
    "data = {'Depth': [1050, 1100, 1150, 1200], 'ROP': [323, 350, 355, 385], 'WOB': [42, 43, 48, 50], 'RPM': [120, 120, 120, 120], \n",
    "        'DIFF': [458, 473, 491, 526]}\n",
    "df = pd.DataFrame(data)\n",
    "print(df)"
   ]
  },
  {
   "cell_type": "markdown",
   "id": "3f80546e",
   "metadata": {},
   "source": [
    "## Uploading Data Files\n",
    "We'll demonstrate how to upload CSV, Excel, and LAS files."
   ]
  },
  {
   "cell_type": "code",
   "execution_count": 43,
   "id": "a1f22a46",
   "metadata": {},
   "outputs": [
    {
     "name": "stdout",
     "output_type": "stream",
     "text": [
      "c:\\\\Users\\\\RDavis\\\\Desktop\\\\Github\\\\python-for-drilling-engineers\\\\module_1\n",
      "c:\\\\Users\\\\RDavis\\\\Desktop\\\\Github\\\\python-for-drilling-engineers\\\\module_1\\\\16A_78-32_time_data_10s_intervals_standard.csv\n"
     ]
    },
    {
     "name": "stderr",
     "output_type": "stream",
     "text": [
      "C:\\Users\\RDavis\\AppData\\Local\\Temp\\ipykernel_10716\\738668866.py:16: DtypeWarning: Columns (4,5,6,7,8,9,10,11,12,13,14,15,16,17,18,19,20,21,22,23,24,25,26,27,28,29,30,31,32,34,35,36,37,38,41,42,44,45,46,47,48,49) have mixed types. Specify dtype option on import or set low_memory=False.\n",
      "  forge_16A_df = pd.read_csv(file_path)\n"
     ]
    }
   ],
   "source": [
    "# Get my current path:\n",
    "import os\n",
    "\n",
    "# Get the current working directory\n",
    "# This is the directory where the script is running\n",
    "current_path = os.getcwd()\n",
    "\n",
    "# replace \\ with \\\\ in current_path\n",
    "current_path = current_path.replace('\\\\', '\\\\\\\\')\n",
    "print(current_path)  # Print the current path\n",
    "\n",
    "# upload file from current_path\n",
    "file_path = current_path + '\\\\\\\\16A_78-32_time_data_10s_intervals_standard.csv'\n",
    "print(file_path)\n",
    "\n",
    "forge_16A_df = pd.read_csv(file_path)\n"
   ]
  },
  {
   "cell_type": "markdown",
   "id": "8acf064e",
   "metadata": {},
   "source": [
    "## Rapid Dataset Reviews\n",
    "Let's start by taking a look at the format of the data pulled in from the CSV."
   ]
  },
  {
   "cell_type": "code",
   "execution_count": 36,
   "id": "0f6f8774",
   "metadata": {},
   "outputs": [
    {
     "name": "stdout",
     "output_type": "stream",
     "text": [
      "(608677, 50)\n",
      "Row Count: 608677; Column Count: 50\n",
      "Index(['Date', 'Date (Date Only)', 'Date (Time Only)',\n",
      "       'AutoDriller System Enabled', 'Azimuth', 'Azimuth - Survey',\n",
      "       'Bit Depth', 'Bit Diameter', 'Bit Revolutions per Minute',\n",
      "       'Block Position', 'Depth Hole Total Vertical Depth',\n",
      "       'Differential Pressure', 'Dog-Leg Severity Measured while Drilling',\n",
      "       'Downhole Torque', 'Flow In', 'Gamma Depth Measured while Drilling',\n",
      "       'Gamma Measured while Drilling', 'Gas Carbon Dioxide', 'H2S 01',\n",
      "       'Hookload', 'Hookload String', 'Inclination', 'Inclination - Survey',\n",
      "       'Measured while Drilling Tool Depth', 'Mechanical Specific Energy',\n",
      "       'Mechanical Specific Energy - Downhole',\n",
      "       'Mechanical Specific Energy - Surface',\n",
      "       'Mechanical Specific Energy - Total', 'Mud Motor Factor',\n",
      "       'Mud Motor Maximum Differential Pressure', 'Mud Motor Maximum Torque',\n",
      "       'Mud Motor Revolutions per Minute', 'Mud Temperature', 'On Bottom',\n",
      "       'Over Pull', 'Pump Pressure', 'Rate of Penetration (Depth/Hour)',\n",
      "       'Rate of Penetration (Minute/Depth)', 'Return Flow', 'Rig Mode',\n",
      "       'Rig State', 'Running Speed Down', 'Running Speed Up', 'Stick Slip',\n",
      "       'Tool Temperature', 'Tool Temperature - Survey',\n",
      "       'Top Drive Revolutions per Minute', 'Top Drive Torque',\n",
      "       'Total Strokes per Minute', 'Weight on Bit'],\n",
      "      dtype='object')\n",
      "                   Date Date (Date Only) Date (Time Only)  \\\n",
      "0             date/time             date             time   \n",
      "1   2020-10-25 12:38:00       2020-10-25         12:38:00   \n",
      "2   2020-10-25 12:38:00       2020-10-25         12:38:00   \n",
      "3   2020-10-25 12:38:00       2020-10-25         12:38:00   \n",
      "4   2020-10-25 12:38:00       2020-10-25         12:38:00   \n",
      "5   2020-10-25 12:39:00       2020-10-25         12:39:00   \n",
      "6   2020-10-25 12:39:00       2020-10-25         12:39:00   \n",
      "7   2020-10-25 12:39:00       2020-10-25         12:39:00   \n",
      "8   2020-10-25 12:39:00       2020-10-25         12:39:00   \n",
      "9   2020-10-25 12:39:00       2020-10-25         12:39:00   \n",
      "10  2020-10-25 12:39:00       2020-10-25         12:39:00   \n",
      "11  2020-10-25 12:40:00       2020-10-25         12:40:00   \n",
      "12  2020-10-25 12:40:00       2020-10-25         12:40:00   \n",
      "13  2020-10-25 12:40:00       2020-10-25         12:40:00   \n",
      "14  2020-10-25 12:40:00       2020-10-25         12:40:00   \n",
      "\n",
      "    AutoDriller System Enabled  Azimuth Azimuth - Survey  Bit Depth  \\\n",
      "0                          NaN  degrees          degrees  feet (ft)   \n",
      "1                          NaN      NaN              NaN        NaN   \n",
      "2                          NaN      NaN              NaN        NaN   \n",
      "3                          NaN      NaN              NaN        NaN   \n",
      "4                          NaN      NaN              NaN        NaN   \n",
      "5                          NaN      0.0              NaN        NaN   \n",
      "6                          NaN      0.0              NaN        NaN   \n",
      "7                          NaN      0.0              NaN        NaN   \n",
      "8                          NaN      0.0              NaN        NaN   \n",
      "9                          NaN      0.0              NaN        NaN   \n",
      "10                         NaN      0.0              NaN        NaN   \n",
      "11                         NaN      0.0              NaN        NaN   \n",
      "12                         NaN      0.0              NaN        NaN   \n",
      "13                         NaN      0.0              NaN        NaN   \n",
      "14                         NaN      0.0              NaN        NaN   \n",
      "\n",
      "   Bit Diameter    Bit Revolutions per Minute Block Position  ... Rig State  \\\n",
      "0   inches (in)  revolutions per minute (RPM)      feet (ft)  ...       NaN   \n",
      "1           NaN                           NaN            NaN  ...       NaN   \n",
      "2           NaN                           NaN            NaN  ...       NaN   \n",
      "3           NaN                           NaN            NaN  ...       NaN   \n",
      "4           NaN                           NaN            NaN  ...       NaN   \n",
      "5           NaN                           NaN            NaN  ...       NaN   \n",
      "6           NaN                           NaN            NaN  ...       NaN   \n",
      "7           NaN                           NaN            NaN  ...       NaN   \n",
      "8           NaN                           NaN            NaN  ...       NaN   \n",
      "9           NaN                           NaN            NaN  ...       NaN   \n",
      "10          NaN                           NaN            NaN  ...       NaN   \n",
      "11          NaN                           NaN            NaN  ...       NaN   \n",
      "12          NaN                           NaN       -0.00087  ...       NaN   \n",
      "13          NaN                           NaN       -0.00087  ...       NaN   \n",
      "14          NaN                           NaN       -0.00088  ...       NaN   \n",
      "\n",
      "          Running Speed Down          Running Speed Up Stick Slip  \\\n",
      "0   feet per minute (ft/min)  feet per minute (ft/min)        NaN   \n",
      "1                        NaN                       NaN        NaN   \n",
      "2                        NaN                       NaN        NaN   \n",
      "3                        NaN                       NaN        NaN   \n",
      "4                        NaN                       NaN        NaN   \n",
      "5                        NaN                       NaN        NaN   \n",
      "6                        NaN                       NaN        NaN   \n",
      "7                        NaN                       NaN        NaN   \n",
      "8                        NaN                       NaN        NaN   \n",
      "9                        NaN                       NaN        NaN   \n",
      "10                       NaN                       NaN        NaN   \n",
      "11                       NaN                       NaN        NaN   \n",
      "12                       NaN                       NaN        NaN   \n",
      "13                       NaN                       NaN        NaN   \n",
      "14                       NaN                       NaN        NaN   \n",
      "\n",
      "      Tool Temperature Tool Temperature - Survey  \\\n",
      "0   degrees Fahrenheit        degrees Fahrenheit   \n",
      "1                  NaN                       NaN   \n",
      "2                  NaN                       NaN   \n",
      "3                  NaN                       NaN   \n",
      "4                  NaN                       NaN   \n",
      "5                  NaN                       NaN   \n",
      "6                  NaN                       NaN   \n",
      "7                  NaN                       NaN   \n",
      "8                  NaN                       NaN   \n",
      "9                  NaN                       NaN   \n",
      "10                 NaN                       NaN   \n",
      "11                 NaN                       NaN   \n",
      "12                 NaN                       NaN   \n",
      "13                 NaN                       NaN   \n",
      "14                 NaN                       NaN   \n",
      "\n",
      "   Top Drive Revolutions per Minute           Top Drive Torque  \\\n",
      "0      revolutions per minute (RPM)  kilofoot-pounds (kft-lbs)   \n",
      "1                               NaN                        NaN   \n",
      "2                               NaN                        NaN   \n",
      "3                               NaN                        NaN   \n",
      "4                               NaN                        NaN   \n",
      "5                               NaN                        NaN   \n",
      "6                               NaN                        NaN   \n",
      "7                               NaN                        NaN   \n",
      "8                               NaN                        NaN   \n",
      "9                               NaN                        NaN   \n",
      "10                              NaN                        NaN   \n",
      "11                              NaN                        NaN   \n",
      "12                              NaN                        NaN   \n",
      "13                              NaN                        NaN   \n",
      "14                              NaN                        NaN   \n",
      "\n",
      "    Total Strokes per Minute      Weight on Bit  \n",
      "0   strokes per minute (SPM)  kilopounds (klbs)  \n",
      "1                        NaN                NaN  \n",
      "2                        NaN                NaN  \n",
      "3                        NaN                NaN  \n",
      "4                        NaN                NaN  \n",
      "5                        NaN                NaN  \n",
      "6                        NaN                NaN  \n",
      "7                        0.0                NaN  \n",
      "8                        0.0                NaN  \n",
      "9                        0.0                NaN  \n",
      "10                       0.0                NaN  \n",
      "11                       0.0                NaN  \n",
      "12                       0.0                NaN  \n",
      "13                       0.0                0.0  \n",
      "14                       0.0                0.0  \n",
      "\n",
      "[15 rows x 50 columns]\n"
     ]
    }
   ],
   "source": [
    "print(forge_16A_df.shape)  # Display the shape of the DataFrame\n",
    "print(f'Row Count: {forge_16A_df.shape[0]}; Column Count: {forge_16A_df.shape[1]}')  # Display row and column count\n",
    "print(forge_16A_df.columns)  # Display the column names\n",
    "print(forge_16A_df.head(15))  # Display the first 15 rows\n"
   ]
  },
  {
   "cell_type": "markdown",
   "id": "dee8a9f4",
   "metadata": {},
   "source": [
    "Now Let's take a look at the data types and non-null counts for each column."
   ]
  },
  {
   "cell_type": "code",
   "execution_count": 44,
   "id": "b927fef3",
   "metadata": {},
   "outputs": [
    {
     "name": "stdout",
     "output_type": "stream",
     "text": [
      "<class 'pandas.core.frame.DataFrame'>\n",
      "RangeIndex: 608677 entries, 0 to 608676\n",
      "Data columns (total 50 columns):\n",
      " #   Column                                    Non-Null Count   Dtype  \n",
      "---  ------                                    --------------   -----  \n",
      " 0   Date                                      608677 non-null  object \n",
      " 1   Date (Date Only)                          608677 non-null  object \n",
      " 2   Date (Time Only)                          608677 non-null  object \n",
      " 3   AutoDriller System Enabled                0 non-null       float64\n",
      " 4   Azimuth                                   555716 non-null  object \n",
      " 5   Azimuth - Survey                          1 non-null       object \n",
      " 6   Bit Depth                                 1 non-null       object \n",
      " 7   Bit Diameter                              533751 non-null  object \n",
      " 8   Bit Revolutions per Minute                524966 non-null  object \n",
      " 9   Block Position                            596851 non-null  object \n",
      " 10  Depth Hole Total Vertical Depth           597427 non-null  object \n",
      " 11  Differential Pressure                     596864 non-null  object \n",
      " 12  Dog-Leg Severity Measured while Drilling  1 non-null       object \n",
      " 13  Downhole Torque                           504682 non-null  object \n",
      " 14  Flow In                                   607503 non-null  object \n",
      " 15  Gamma Depth Measured while Drilling       1 non-null       object \n",
      " 16  Gamma Measured while Drilling             83934 non-null   object \n",
      " 17  Gas Carbon Dioxide                        1 non-null       object \n",
      " 18  H2S 01                                    297251 non-null  object \n",
      " 19  Hookload                                  596841 non-null  object \n",
      " 20  Hookload String                           1 non-null       object \n",
      " 21  Inclination                               555721 non-null  object \n",
      " 22  Inclination - Survey                      1 non-null       object \n",
      " 23  Measured while Drilling Tool Depth        1 non-null       object \n",
      " 24  Mechanical Specific Energy                1 non-null       object \n",
      " 25  Mechanical Specific Energy - Downhole     1 non-null       object \n",
      " 26  Mechanical Specific Energy - Surface      1 non-null       object \n",
      " 27  Mechanical Specific Energy - Total        1 non-null       object \n",
      " 28  Mud Motor Factor                          1 non-null       object \n",
      " 29  Mud Motor Maximum Differential Pressure   1 non-null       object \n",
      " 30  Mud Motor Maximum Torque                  1 non-null       object \n",
      " 31  Mud Motor Revolutions per Minute          1 non-null       object \n",
      " 32  Mud Temperature                           597505 non-null  object \n",
      " 33  On Bottom                                 596864 non-null  float64\n",
      " 34  Over Pull                                 1 non-null       object \n",
      " 35  Pump Pressure                             596867 non-null  object \n",
      " 36  Rate of Penetration (Depth/Hour)          596865 non-null  object \n",
      " 37  Rate of Penetration (Minute/Depth)        1 non-null       object \n",
      " 38  Return Flow                               596862 non-null  object \n",
      " 39  Rig Mode                                  521273 non-null  float64\n",
      " 40  Rig State                                 0 non-null       float64\n",
      " 41  Running Speed Down                        1 non-null       object \n",
      " 42  Running Speed Up                          1 non-null       object \n",
      " 43  Stick Slip                                0 non-null       float64\n",
      " 44  Tool Temperature                          1 non-null       object \n",
      " 45  Tool Temperature - Survey                 1 non-null       object \n",
      " 46  Top Drive Revolutions per Minute          596862 non-null  object \n",
      " 47  Top Drive Torque                          596862 non-null  object \n",
      " 48  Total Strokes per Minute                  607503 non-null  object \n",
      " 49  Weight on Bit                             596865 non-null  object \n",
      "dtypes: float64(5), object(45)\n",
      "memory usage: 232.2+ MB\n",
      "None\n"
     ]
    }
   ],
   "source": [
    "print(forge_16A_df.info(max_cols=None))  # Display DataFrame info"
   ]
  },
  {
   "cell_type": "markdown",
   "id": "be4da8be",
   "metadata": {},
   "source": [
    "Several columns are null. Let's remove them to focus our efforts."
   ]
  },
  {
   "cell_type": "code",
   "execution_count": 45,
   "id": "a96ccab3",
   "metadata": {},
   "outputs": [
    {
     "name": "stdout",
     "output_type": "stream",
     "text": [
      "<class 'pandas.core.frame.DataFrame'>\n",
      "RangeIndex: 608677 entries, 0 to 608676\n",
      "Data columns (total 25 columns):\n",
      " #   Column                            Non-Null Count   Dtype  \n",
      "---  ------                            --------------   -----  \n",
      " 0   Date                              608677 non-null  object \n",
      " 1   Date (Date Only)                  608677 non-null  object \n",
      " 2   Date (Time Only)                  608677 non-null  object \n",
      " 3   Azimuth                           555716 non-null  object \n",
      " 4   Bit Diameter                      533751 non-null  object \n",
      " 5   Bit Revolutions per Minute        524966 non-null  object \n",
      " 6   Block Position                    596851 non-null  object \n",
      " 7   Depth Hole Total Vertical Depth   597427 non-null  object \n",
      " 8   Differential Pressure             596864 non-null  object \n",
      " 9   Downhole Torque                   504682 non-null  object \n",
      " 10  Flow In                           607503 non-null  object \n",
      " 11  Gamma Measured while Drilling     83934 non-null   object \n",
      " 12  H2S 01                            297251 non-null  object \n",
      " 13  Hookload                          596841 non-null  object \n",
      " 14  Inclination                       555721 non-null  object \n",
      " 15  Mud Temperature                   597505 non-null  object \n",
      " 16  On Bottom                         596864 non-null  float64\n",
      " 17  Pump Pressure                     596867 non-null  object \n",
      " 18  Rate of Penetration (Depth/Hour)  596865 non-null  object \n",
      " 19  Return Flow                       596862 non-null  object \n",
      " 20  Rig Mode                          521273 non-null  float64\n",
      " 21  Top Drive Revolutions per Minute  596862 non-null  object \n",
      " 22  Top Drive Torque                  596862 non-null  object \n",
      " 23  Total Strokes per Minute          607503 non-null  object \n",
      " 24  Weight on Bit                     596865 non-null  object \n",
      "dtypes: float64(2), object(23)\n",
      "memory usage: 116.1+ MB\n",
      "None\n"
     ]
    }
   ],
   "source": [
    "# Remove columns with lte 1 non-null value\n",
    "forge_16A_df = forge_16A_df.dropna(axis=1, thresh=2)\n",
    "print(forge_16A_df.info(max_cols=None))"
   ]
  },
  {
   "cell_type": "markdown",
   "id": "dfd8d46d",
   "metadata": {},
   "source": [
    "## Run Pandas Profiling Report to Explore the Data Further\n",
    "First, let's define the data type in each column."
   ]
  },
  {
   "cell_type": "code",
   "execution_count": 50,
   "id": "925839b5",
   "metadata": {},
   "outputs": [
    {
     "name": "stderr",
     "output_type": "stream",
     "text": [
      "C:\\Users\\RDavis\\AppData\\Local\\Temp\\ipykernel_10716\\1774935487.py:7: UserWarning: Could not infer format, so each element will be parsed individually, falling back to `dateutil`. To ensure parsing is consistent and as-expected, please specify a format.\n",
      "  forge_16A_df[col] = pd.to_datetime(forge_16A_df[col], errors='coerce')\n"
     ]
    },
    {
     "name": "stdout",
     "output_type": "stream",
     "text": [
      "                  Date Date (Date Only)    Date (Time Only)  Azimuth  \\\n",
      "1  2020-10-25 12:38:00       2020-10-25 2025-03-18 12:38:00      NaN   \n",
      "2  2020-10-25 12:38:00       2020-10-25 2025-03-18 12:38:00      NaN   \n",
      "3  2020-10-25 12:38:00       2020-10-25 2025-03-18 12:38:00      NaN   \n",
      "4  2020-10-25 12:38:00       2020-10-25 2025-03-18 12:38:00      NaN   \n",
      "5  2020-10-25 12:39:00       2020-10-25 2025-03-18 12:39:00      0.0   \n",
      "6  2020-10-25 12:39:00       2020-10-25 2025-03-18 12:39:00      0.0   \n",
      "7  2020-10-25 12:39:00       2020-10-25 2025-03-18 12:39:00      0.0   \n",
      "8  2020-10-25 12:39:00       2020-10-25 2025-03-18 12:39:00      0.0   \n",
      "9  2020-10-25 12:39:00       2020-10-25 2025-03-18 12:39:00      0.0   \n",
      "10 2020-10-25 12:39:00       2020-10-25 2025-03-18 12:39:00      0.0   \n",
      "\n",
      "    Bit Diameter  Bit Revolutions per Minute  Block Position  \\\n",
      "1            NaN                         NaN             NaN   \n",
      "2            NaN                         NaN             NaN   \n",
      "3            NaN                         NaN             NaN   \n",
      "4            NaN                         NaN             NaN   \n",
      "5            NaN                         NaN             NaN   \n",
      "6            NaN                         NaN             NaN   \n",
      "7            NaN                         NaN             NaN   \n",
      "8            NaN                         NaN             NaN   \n",
      "9            NaN                         NaN             NaN   \n",
      "10           NaN                         NaN             NaN   \n",
      "\n",
      "    Depth Hole Total Vertical Depth  Differential Pressure  Downhole Torque  \\\n",
      "1                               NaN                    NaN              NaN   \n",
      "2                               NaN                    NaN              NaN   \n",
      "3                               NaN                    NaN              NaN   \n",
      "4                               NaN                    NaN              NaN   \n",
      "5                               NaN                    NaN              NaN   \n",
      "6                               NaN                    NaN              NaN   \n",
      "7                               NaN                    NaN              NaN   \n",
      "8                               NaN                    NaN              NaN   \n",
      "9                               NaN                    NaN              NaN   \n",
      "10                              NaN                    NaN              NaN   \n",
      "\n",
      "    ...  Mud Temperature  On Bottom  Pump Pressure  \\\n",
      "1   ...              0.0        NaN            NaN   \n",
      "2   ...              0.0        NaN            NaN   \n",
      "3   ...              0.0        NaN            NaN   \n",
      "4   ...              0.0        NaN            NaN   \n",
      "5   ...              0.0        NaN            NaN   \n",
      "6   ...              0.0        NaN            NaN   \n",
      "7   ...              0.0        NaN            NaN   \n",
      "8   ...              0.0        NaN            NaN   \n",
      "9   ...              0.0        NaN            NaN   \n",
      "10  ...              0.0        NaN            NaN   \n",
      "\n",
      "    Rate of Penetration (Depth/Hour)  Return Flow  Rig Mode  \\\n",
      "1                                NaN          NaN       NaN   \n",
      "2                                NaN          NaN       NaN   \n",
      "3                                NaN          NaN       NaN   \n",
      "4                                NaN          NaN       NaN   \n",
      "5                                NaN          NaN       NaN   \n",
      "6                                NaN          NaN       NaN   \n",
      "7                                NaN          NaN       NaN   \n",
      "8                                NaN          NaN       NaN   \n",
      "9                                NaN          NaN       NaN   \n",
      "10                               NaN          NaN       NaN   \n",
      "\n",
      "    Top Drive Revolutions per Minute  Top Drive Torque  \\\n",
      "1                                NaN               NaN   \n",
      "2                                NaN               NaN   \n",
      "3                                NaN               NaN   \n",
      "4                                NaN               NaN   \n",
      "5                                NaN               NaN   \n",
      "6                                NaN               NaN   \n",
      "7                                NaN               NaN   \n",
      "8                                NaN               NaN   \n",
      "9                                NaN               NaN   \n",
      "10                               NaN               NaN   \n",
      "\n",
      "    Total Strokes per Minute  Weight on Bit  \n",
      "1                        NaN            NaN  \n",
      "2                        NaN            NaN  \n",
      "3                        NaN            NaN  \n",
      "4                        NaN            NaN  \n",
      "5                        NaN            NaN  \n",
      "6                        NaN            NaN  \n",
      "7                        0.0            NaN  \n",
      "8                        0.0            NaN  \n",
      "9                        0.0            NaN  \n",
      "10                       0.0            NaN  \n",
      "\n",
      "[10 rows x 25 columns]\n"
     ]
    }
   ],
   "source": [
    "# drop first row (units)\n",
    "forge_16A_df.drop(index=0, inplace=True)  # Drop the first row\n",
    "\n",
    "# Set the columns with 'Date' in the header to datetime\n",
    "for col in forge_16A_df.columns:\n",
    "    if 'Date' in col:\n",
    "        forge_16A_df[col] = pd.to_datetime(forge_16A_df[col], errors='coerce')\n",
    "\n",
    "# Set all other columns to float\n",
    "for col in forge_16A_df.columns:\n",
    "    if 'Date' not in col:\n",
    "        forge_16A_df[col] = pd.to_numeric(forge_16A_df[col], errors='coerce')\n",
    "\n",
    "print(forge_16A_df.head(10))"
   ]
  },
  {
   "cell_type": "markdown",
   "id": "9291615f",
   "metadata": {},
   "source": [
    "Now, let's generate a profile report using the ydata-profiling library (formerly pandas profiling)."
   ]
  },
  {
   "cell_type": "code",
   "execution_count": 46,
   "id": "6c9b61ba",
   "metadata": {},
   "outputs": [
    {
     "ename": "KeyboardInterrupt",
     "evalue": "",
     "output_type": "error",
     "traceback": [
      "\u001b[31m---------------------------------------------------------------------------\u001b[39m",
      "\u001b[31mKeyboardInterrupt\u001b[39m                         Traceback (most recent call last)",
      "\u001b[36mCell\u001b[39m\u001b[36m \u001b[39m\u001b[32mIn[46]\u001b[39m\u001b[32m, line 2\u001b[39m\n\u001b[32m      1\u001b[39m \u001b[38;5;28;01mfrom\u001b[39;00m\u001b[38;5;250m \u001b[39m\u001b[34;01mydata_profiling\u001b[39;00m\u001b[38;5;250m \u001b[39m\u001b[38;5;28;01mimport\u001b[39;00m ProfileReport\n\u001b[32m----> \u001b[39m\u001b[32m2\u001b[39m profile = \u001b[43mProfileReport\u001b[49m\u001b[43m(\u001b[49m\u001b[43mforge_16A_df\u001b[49m\u001b[43m,\u001b[49m\u001b[43m \u001b[49m\u001b[43mtitle\u001b[49m\u001b[43m=\u001b[49m\u001b[33;43m\"\u001b[39;49m\u001b[33;43mForge 16A Data Analysis\u001b[39;49m\u001b[33;43m\"\u001b[39;49m\u001b[43m,\u001b[49m\u001b[43m \u001b[49m\u001b[43mexplorative\u001b[49m\u001b[43m=\u001b[49m\u001b[38;5;28;43;01mTrue\u001b[39;49;00m\u001b[43m)\u001b[49m\n\u001b[32m      3\u001b[39m profile.to_notebook_iframe()\n\u001b[32m      4\u001b[39m \u001b[38;5;66;03m# Save the profile report to an HTML file\u001b[39;00m\n",
      "\u001b[36mFile \u001b[39m\u001b[32mc:\\Users\\RDavis\\Desktop\\GitHub\\python-for-drilling-engineers\\venv\\Lib\\site-packages\\ydata_profiling\\profile_report.py:148\u001b[39m, in \u001b[36mProfileReport.__init__\u001b[39m\u001b[34m(self, df, minimal, tsmode, sortby, sensitive, explorative, sample, config_file, lazy, typeset, summarizer, config, type_schema, **kwargs)\u001b[39m\n\u001b[32m    145\u001b[39m \u001b[38;5;28;01mif\u001b[39;00m tsmode \u001b[38;5;129;01mand\u001b[39;00m sortby:\n\u001b[32m    146\u001b[39m     report_config.vars.timeseries.sortby = sortby\n\u001b[32m--> \u001b[39m\u001b[32m148\u001b[39m \u001b[38;5;28mself\u001b[39m.df = \u001b[38;5;28;43mself\u001b[39;49m\u001b[43m.\u001b[49m\u001b[43m__initialize_dataframe\u001b[49m\u001b[43m(\u001b[49m\u001b[43mdf\u001b[49m\u001b[43m,\u001b[49m\u001b[43m \u001b[49m\u001b[43mreport_config\u001b[49m\u001b[43m)\u001b[49m\n\u001b[32m    149\u001b[39m \u001b[38;5;28mself\u001b[39m.config = report_config\n\u001b[32m    150\u001b[39m \u001b[38;5;28mself\u001b[39m._df_hash = \u001b[38;5;28;01mNone\u001b[39;00m\n",
      "\u001b[36mFile \u001b[39m\u001b[32mc:\\Users\\RDavis\\Desktop\\GitHub\\python-for-drilling-engineers\\venv\\Lib\\site-packages\\ydata_profiling\\profile_report.py:201\u001b[39m, in \u001b[36mProfileReport.__initialize_dataframe\u001b[39m\u001b[34m(df, report_config)\u001b[39m\n\u001b[32m    196\u001b[39m \u001b[38;5;129m@staticmethod\u001b[39m\n\u001b[32m    197\u001b[39m \u001b[38;5;28;01mdef\u001b[39;00m\u001b[38;5;250m \u001b[39m\u001b[34m__initialize_dataframe\u001b[39m(\n\u001b[32m    198\u001b[39m     df: Optional[Union[pd.DataFrame, sDataFrame]], report_config: Settings\n\u001b[32m    199\u001b[39m ) -> Optional[Union[pd.DataFrame, sDataFrame]]:\n\u001b[32m--> \u001b[39m\u001b[32m201\u001b[39m     \u001b[43mlogger\u001b[49m\u001b[43m.\u001b[49m\u001b[43minfo_def_report\u001b[49m\u001b[43m(\u001b[49m\n\u001b[32m    202\u001b[39m \u001b[43m        \u001b[49m\u001b[43mdf\u001b[49m\u001b[43m=\u001b[49m\u001b[43mdf\u001b[49m\u001b[43m,\u001b[49m\n\u001b[32m    203\u001b[39m \u001b[43m        \u001b[49m\u001b[43mtimeseries\u001b[49m\u001b[43m=\u001b[49m\u001b[43mreport_config\u001b[49m\u001b[43m.\u001b[49m\u001b[43mvars\u001b[49m\u001b[43m.\u001b[49m\u001b[43mtimeseries\u001b[49m\u001b[43m.\u001b[49m\u001b[43mactive\u001b[49m\u001b[43m,\u001b[49m\n\u001b[32m    204\u001b[39m \u001b[43m    \u001b[49m\u001b[43m)\u001b[49m\n\u001b[32m    206\u001b[39m     \u001b[38;5;28;01mif\u001b[39;00m (\n\u001b[32m    207\u001b[39m         df \u001b[38;5;129;01mis\u001b[39;00m \u001b[38;5;129;01mnot\u001b[39;00m \u001b[38;5;28;01mNone\u001b[39;00m\n\u001b[32m    208\u001b[39m         \u001b[38;5;129;01mand\u001b[39;00m \u001b[38;5;28misinstance\u001b[39m(df, pd.DataFrame)\n\u001b[32m    209\u001b[39m         \u001b[38;5;129;01mand\u001b[39;00m report_config.vars.timeseries.active\n\u001b[32m    210\u001b[39m     ):\n\u001b[32m    211\u001b[39m         \u001b[38;5;28;01mif\u001b[39;00m report_config.vars.timeseries.sortby:\n",
      "\u001b[36mFile \u001b[39m\u001b[32mc:\\Users\\RDavis\\Desktop\\GitHub\\python-for-drilling-engineers\\venv\\Lib\\site-packages\\ydata_profiling\\utils\\logger.py:41\u001b[39m, in \u001b[36mProfilingLogger.info_def_report\u001b[39m\u001b[34m(self, df, timeseries)\u001b[39m\n\u001b[32m     38\u001b[39m dbx = is_running_in_databricks()\n\u001b[32m     39\u001b[39m datatype = \u001b[33m\"\u001b[39m\u001b[33mtimeseries\u001b[39m\u001b[33m\"\u001b[39m \u001b[38;5;28;01mif\u001b[39;00m timeseries \u001b[38;5;28;01melse\u001b[39;00m \u001b[33m\"\u001b[39m\u001b[33mtabular\u001b[39m\u001b[33m\"\u001b[39m\n\u001b[32m---> \u001b[39m\u001b[32m41\u001b[39m \u001b[43manalytics_features\u001b[49m\u001b[43m(\u001b[49m\n\u001b[32m     42\u001b[39m \u001b[43m    \u001b[49m\u001b[43mdataframe\u001b[49m\u001b[43m=\u001b[49m\u001b[43mdataframe\u001b[49m\u001b[43m,\u001b[49m\n\u001b[32m     43\u001b[39m \u001b[43m    \u001b[49m\u001b[43mdatatype\u001b[49m\u001b[43m=\u001b[49m\u001b[43mdatatype\u001b[49m\u001b[43m,\u001b[49m\n\u001b[32m     44\u001b[39m \u001b[43m    \u001b[49m\u001b[43mreport_type\u001b[49m\u001b[43m=\u001b[49m\u001b[43mreport_type\u001b[49m\u001b[43m,\u001b[49m\n\u001b[32m     45\u001b[39m \u001b[43m    \u001b[49m\u001b[43mnrows\u001b[49m\u001b[43m=\u001b[49m\u001b[43mnrows\u001b[49m\u001b[43m,\u001b[49m\n\u001b[32m     46\u001b[39m \u001b[43m    \u001b[49m\u001b[43mncols\u001b[49m\u001b[43m=\u001b[49m\u001b[43mncols\u001b[49m\u001b[43m,\u001b[49m\n\u001b[32m     47\u001b[39m \u001b[43m    \u001b[49m\u001b[43mdbx\u001b[49m\u001b[43m=\u001b[49m\u001b[43mdbx\u001b[49m\u001b[43m,\u001b[49m\n\u001b[32m     48\u001b[39m \u001b[43m\u001b[49m\u001b[43m)\u001b[49m\n\u001b[32m     50\u001b[39m \u001b[38;5;28msuper\u001b[39m().info(\n\u001b[32m     51\u001b[39m     \u001b[33mf\u001b[39m\u001b[33m\"\u001b[39m\u001b[33m[PROFILING] Calculating profile with the following characteristics \u001b[39m\u001b[33m\"\u001b[39m\n\u001b[32m     52\u001b[39m     \u001b[33mf\u001b[39m\u001b[33m\"\u001b[39m\u001b[33m- \u001b[39m\u001b[38;5;132;01m{\u001b[39;00mdataframe\u001b[38;5;132;01m}\u001b[39;00m\u001b[33m | \u001b[39m\u001b[38;5;132;01m{\u001b[39;00mdatatype\u001b[38;5;132;01m}\u001b[39;00m\u001b[33m | \u001b[39m\u001b[38;5;132;01m{\u001b[39;00mreport_type\u001b[38;5;132;01m}\u001b[39;00m\u001b[33m.\u001b[39m\u001b[33m\"\u001b[39m\n\u001b[32m     53\u001b[39m )\n",
      "\u001b[36mFile \u001b[39m\u001b[32mc:\\Users\\RDavis\\Desktop\\GitHub\\python-for-drilling-engineers\\venv\\Lib\\site-packages\\ydata_profiling\\utils\\common.py:135\u001b[39m, in \u001b[36manalytics_features\u001b[39m\u001b[34m(dataframe, datatype, report_type, ncols, nrows, dbx)\u001b[39m\n\u001b[32m    121\u001b[39m \u001b[38;5;28;01mwith\u001b[39;00m contextlib.suppress(\u001b[38;5;167;01mException\u001b[39;00m):\n\u001b[32m    122\u001b[39m     request_message = (\n\u001b[32m    123\u001b[39m         \u001b[33mf\u001b[39m\u001b[33m\"\u001b[39m\u001b[38;5;132;01m{\u001b[39;00mendpoint\u001b[38;5;132;01m}\u001b[39;00m\u001b[33mversion=\u001b[39m\u001b[38;5;132;01m{\u001b[39;00mpackage_version\u001b[38;5;132;01m}\u001b[39;00m\u001b[33m\"\u001b[39m\n\u001b[32m    124\u001b[39m         \u001b[33mf\u001b[39m\u001b[33m\"\u001b[39m\u001b[33m&python_version=\u001b[39m\u001b[38;5;132;01m{\u001b[39;00mpython_version\u001b[38;5;132;01m}\u001b[39;00m\u001b[33m\"\u001b[39m\n\u001b[32m   (...)\u001b[39m\u001b[32m    132\u001b[39m         \u001b[33mf\u001b[39m\u001b[33m\"\u001b[39m\u001b[33m&dbx=\u001b[39m\u001b[38;5;132;01m{\u001b[39;00mdbx\u001b[38;5;132;01m}\u001b[39;00m\u001b[33m\"\u001b[39m\n\u001b[32m    133\u001b[39m     )\n\u001b[32m--> \u001b[39m\u001b[32m135\u001b[39m     \u001b[43mrequests\u001b[49m\u001b[43m.\u001b[49m\u001b[43mget\u001b[49m\u001b[43m(\u001b[49m\u001b[43mrequest_message\u001b[49m\u001b[43m)\u001b[49m\n",
      "\u001b[36mFile \u001b[39m\u001b[32mc:\\Users\\RDavis\\Desktop\\GitHub\\python-for-drilling-engineers\\venv\\Lib\\site-packages\\requests\\api.py:73\u001b[39m, in \u001b[36mget\u001b[39m\u001b[34m(url, params, **kwargs)\u001b[39m\n\u001b[32m     62\u001b[39m \u001b[38;5;28;01mdef\u001b[39;00m\u001b[38;5;250m \u001b[39m\u001b[34mget\u001b[39m(url, params=\u001b[38;5;28;01mNone\u001b[39;00m, **kwargs):\n\u001b[32m     63\u001b[39m \u001b[38;5;250m    \u001b[39m\u001b[33mr\u001b[39m\u001b[33;03m\"\"\"Sends a GET request.\u001b[39;00m\n\u001b[32m     64\u001b[39m \n\u001b[32m     65\u001b[39m \u001b[33;03m    :param url: URL for the new :class:`Request` object.\u001b[39;00m\n\u001b[32m   (...)\u001b[39m\u001b[32m     70\u001b[39m \u001b[33;03m    :rtype: requests.Response\u001b[39;00m\n\u001b[32m     71\u001b[39m \u001b[33;03m    \"\"\"\u001b[39;00m\n\u001b[32m---> \u001b[39m\u001b[32m73\u001b[39m     \u001b[38;5;28;01mreturn\u001b[39;00m \u001b[43mrequest\u001b[49m\u001b[43m(\u001b[49m\u001b[33;43m\"\u001b[39;49m\u001b[33;43mget\u001b[39;49m\u001b[33;43m\"\u001b[39;49m\u001b[43m,\u001b[49m\u001b[43m \u001b[49m\u001b[43murl\u001b[49m\u001b[43m,\u001b[49m\u001b[43m \u001b[49m\u001b[43mparams\u001b[49m\u001b[43m=\u001b[49m\u001b[43mparams\u001b[49m\u001b[43m,\u001b[49m\u001b[43m \u001b[49m\u001b[43m*\u001b[49m\u001b[43m*\u001b[49m\u001b[43mkwargs\u001b[49m\u001b[43m)\u001b[49m\n",
      "\u001b[36mFile \u001b[39m\u001b[32mc:\\Users\\RDavis\\Desktop\\GitHub\\python-for-drilling-engineers\\venv\\Lib\\site-packages\\requests\\api.py:59\u001b[39m, in \u001b[36mrequest\u001b[39m\u001b[34m(method, url, **kwargs)\u001b[39m\n\u001b[32m     55\u001b[39m \u001b[38;5;66;03m# By using the 'with' statement we are sure the session is closed, thus we\u001b[39;00m\n\u001b[32m     56\u001b[39m \u001b[38;5;66;03m# avoid leaving sockets open which can trigger a ResourceWarning in some\u001b[39;00m\n\u001b[32m     57\u001b[39m \u001b[38;5;66;03m# cases, and look like a memory leak in others.\u001b[39;00m\n\u001b[32m     58\u001b[39m \u001b[38;5;28;01mwith\u001b[39;00m sessions.Session() \u001b[38;5;28;01mas\u001b[39;00m session:\n\u001b[32m---> \u001b[39m\u001b[32m59\u001b[39m     \u001b[38;5;28;01mreturn\u001b[39;00m \u001b[43msession\u001b[49m\u001b[43m.\u001b[49m\u001b[43mrequest\u001b[49m\u001b[43m(\u001b[49m\u001b[43mmethod\u001b[49m\u001b[43m=\u001b[49m\u001b[43mmethod\u001b[49m\u001b[43m,\u001b[49m\u001b[43m \u001b[49m\u001b[43murl\u001b[49m\u001b[43m=\u001b[49m\u001b[43murl\u001b[49m\u001b[43m,\u001b[49m\u001b[43m \u001b[49m\u001b[43m*\u001b[49m\u001b[43m*\u001b[49m\u001b[43mkwargs\u001b[49m\u001b[43m)\u001b[49m\n",
      "\u001b[36mFile \u001b[39m\u001b[32mc:\\Users\\RDavis\\Desktop\\GitHub\\python-for-drilling-engineers\\venv\\Lib\\site-packages\\requests\\sessions.py:589\u001b[39m, in \u001b[36mSession.request\u001b[39m\u001b[34m(self, method, url, params, data, headers, cookies, files, auth, timeout, allow_redirects, proxies, hooks, stream, verify, cert, json)\u001b[39m\n\u001b[32m    584\u001b[39m send_kwargs = {\n\u001b[32m    585\u001b[39m     \u001b[33m\"\u001b[39m\u001b[33mtimeout\u001b[39m\u001b[33m\"\u001b[39m: timeout,\n\u001b[32m    586\u001b[39m     \u001b[33m\"\u001b[39m\u001b[33mallow_redirects\u001b[39m\u001b[33m\"\u001b[39m: allow_redirects,\n\u001b[32m    587\u001b[39m }\n\u001b[32m    588\u001b[39m send_kwargs.update(settings)\n\u001b[32m--> \u001b[39m\u001b[32m589\u001b[39m resp = \u001b[38;5;28;43mself\u001b[39;49m\u001b[43m.\u001b[49m\u001b[43msend\u001b[49m\u001b[43m(\u001b[49m\u001b[43mprep\u001b[49m\u001b[43m,\u001b[49m\u001b[43m \u001b[49m\u001b[43m*\u001b[49m\u001b[43m*\u001b[49m\u001b[43msend_kwargs\u001b[49m\u001b[43m)\u001b[49m\n\u001b[32m    591\u001b[39m \u001b[38;5;28;01mreturn\u001b[39;00m resp\n",
      "\u001b[36mFile \u001b[39m\u001b[32mc:\\Users\\RDavis\\Desktop\\GitHub\\python-for-drilling-engineers\\venv\\Lib\\site-packages\\requests\\sessions.py:703\u001b[39m, in \u001b[36mSession.send\u001b[39m\u001b[34m(self, request, **kwargs)\u001b[39m\n\u001b[32m    700\u001b[39m start = preferred_clock()\n\u001b[32m    702\u001b[39m \u001b[38;5;66;03m# Send the request\u001b[39;00m\n\u001b[32m--> \u001b[39m\u001b[32m703\u001b[39m r = \u001b[43madapter\u001b[49m\u001b[43m.\u001b[49m\u001b[43msend\u001b[49m\u001b[43m(\u001b[49m\u001b[43mrequest\u001b[49m\u001b[43m,\u001b[49m\u001b[43m \u001b[49m\u001b[43m*\u001b[49m\u001b[43m*\u001b[49m\u001b[43mkwargs\u001b[49m\u001b[43m)\u001b[49m\n\u001b[32m    705\u001b[39m \u001b[38;5;66;03m# Total elapsed time of the request (approximately)\u001b[39;00m\n\u001b[32m    706\u001b[39m elapsed = preferred_clock() - start\n",
      "\u001b[36mFile \u001b[39m\u001b[32mc:\\Users\\RDavis\\Desktop\\GitHub\\python-for-drilling-engineers\\venv\\Lib\\site-packages\\requests\\adapters.py:667\u001b[39m, in \u001b[36mHTTPAdapter.send\u001b[39m\u001b[34m(self, request, stream, timeout, verify, cert, proxies)\u001b[39m\n\u001b[32m    664\u001b[39m     timeout = TimeoutSauce(connect=timeout, read=timeout)\n\u001b[32m    666\u001b[39m \u001b[38;5;28;01mtry\u001b[39;00m:\n\u001b[32m--> \u001b[39m\u001b[32m667\u001b[39m     resp = \u001b[43mconn\u001b[49m\u001b[43m.\u001b[49m\u001b[43murlopen\u001b[49m\u001b[43m(\u001b[49m\n\u001b[32m    668\u001b[39m \u001b[43m        \u001b[49m\u001b[43mmethod\u001b[49m\u001b[43m=\u001b[49m\u001b[43mrequest\u001b[49m\u001b[43m.\u001b[49m\u001b[43mmethod\u001b[49m\u001b[43m,\u001b[49m\n\u001b[32m    669\u001b[39m \u001b[43m        \u001b[49m\u001b[43murl\u001b[49m\u001b[43m=\u001b[49m\u001b[43murl\u001b[49m\u001b[43m,\u001b[49m\n\u001b[32m    670\u001b[39m \u001b[43m        \u001b[49m\u001b[43mbody\u001b[49m\u001b[43m=\u001b[49m\u001b[43mrequest\u001b[49m\u001b[43m.\u001b[49m\u001b[43mbody\u001b[49m\u001b[43m,\u001b[49m\n\u001b[32m    671\u001b[39m \u001b[43m        \u001b[49m\u001b[43mheaders\u001b[49m\u001b[43m=\u001b[49m\u001b[43mrequest\u001b[49m\u001b[43m.\u001b[49m\u001b[43mheaders\u001b[49m\u001b[43m,\u001b[49m\n\u001b[32m    672\u001b[39m \u001b[43m        \u001b[49m\u001b[43mredirect\u001b[49m\u001b[43m=\u001b[49m\u001b[38;5;28;43;01mFalse\u001b[39;49;00m\u001b[43m,\u001b[49m\n\u001b[32m    673\u001b[39m \u001b[43m        \u001b[49m\u001b[43massert_same_host\u001b[49m\u001b[43m=\u001b[49m\u001b[38;5;28;43;01mFalse\u001b[39;49;00m\u001b[43m,\u001b[49m\n\u001b[32m    674\u001b[39m \u001b[43m        \u001b[49m\u001b[43mpreload_content\u001b[49m\u001b[43m=\u001b[49m\u001b[38;5;28;43;01mFalse\u001b[39;49;00m\u001b[43m,\u001b[49m\n\u001b[32m    675\u001b[39m \u001b[43m        \u001b[49m\u001b[43mdecode_content\u001b[49m\u001b[43m=\u001b[49m\u001b[38;5;28;43;01mFalse\u001b[39;49;00m\u001b[43m,\u001b[49m\n\u001b[32m    676\u001b[39m \u001b[43m        \u001b[49m\u001b[43mretries\u001b[49m\u001b[43m=\u001b[49m\u001b[38;5;28;43mself\u001b[39;49m\u001b[43m.\u001b[49m\u001b[43mmax_retries\u001b[49m\u001b[43m,\u001b[49m\n\u001b[32m    677\u001b[39m \u001b[43m        \u001b[49m\u001b[43mtimeout\u001b[49m\u001b[43m=\u001b[49m\u001b[43mtimeout\u001b[49m\u001b[43m,\u001b[49m\n\u001b[32m    678\u001b[39m \u001b[43m        \u001b[49m\u001b[43mchunked\u001b[49m\u001b[43m=\u001b[49m\u001b[43mchunked\u001b[49m\u001b[43m,\u001b[49m\n\u001b[32m    679\u001b[39m \u001b[43m    \u001b[49m\u001b[43m)\u001b[49m\n\u001b[32m    681\u001b[39m \u001b[38;5;28;01mexcept\u001b[39;00m (ProtocolError, \u001b[38;5;167;01mOSError\u001b[39;00m) \u001b[38;5;28;01mas\u001b[39;00m err:\n\u001b[32m    682\u001b[39m     \u001b[38;5;28;01mraise\u001b[39;00m \u001b[38;5;167;01mConnectionError\u001b[39;00m(err, request=request)\n",
      "\u001b[36mFile \u001b[39m\u001b[32mc:\\Users\\RDavis\\Desktop\\GitHub\\python-for-drilling-engineers\\venv\\Lib\\site-packages\\urllib3\\connectionpool.py:787\u001b[39m, in \u001b[36mHTTPConnectionPool.urlopen\u001b[39m\u001b[34m(self, method, url, body, headers, retries, redirect, assert_same_host, timeout, pool_timeout, release_conn, chunked, body_pos, preload_content, decode_content, **response_kw)\u001b[39m\n\u001b[32m    784\u001b[39m response_conn = conn \u001b[38;5;28;01mif\u001b[39;00m \u001b[38;5;129;01mnot\u001b[39;00m release_conn \u001b[38;5;28;01melse\u001b[39;00m \u001b[38;5;28;01mNone\u001b[39;00m\n\u001b[32m    786\u001b[39m \u001b[38;5;66;03m# Make the request on the HTTPConnection object\u001b[39;00m\n\u001b[32m--> \u001b[39m\u001b[32m787\u001b[39m response = \u001b[38;5;28;43mself\u001b[39;49m\u001b[43m.\u001b[49m\u001b[43m_make_request\u001b[49m\u001b[43m(\u001b[49m\n\u001b[32m    788\u001b[39m \u001b[43m    \u001b[49m\u001b[43mconn\u001b[49m\u001b[43m,\u001b[49m\n\u001b[32m    789\u001b[39m \u001b[43m    \u001b[49m\u001b[43mmethod\u001b[49m\u001b[43m,\u001b[49m\n\u001b[32m    790\u001b[39m \u001b[43m    \u001b[49m\u001b[43murl\u001b[49m\u001b[43m,\u001b[49m\n\u001b[32m    791\u001b[39m \u001b[43m    \u001b[49m\u001b[43mtimeout\u001b[49m\u001b[43m=\u001b[49m\u001b[43mtimeout_obj\u001b[49m\u001b[43m,\u001b[49m\n\u001b[32m    792\u001b[39m \u001b[43m    \u001b[49m\u001b[43mbody\u001b[49m\u001b[43m=\u001b[49m\u001b[43mbody\u001b[49m\u001b[43m,\u001b[49m\n\u001b[32m    793\u001b[39m \u001b[43m    \u001b[49m\u001b[43mheaders\u001b[49m\u001b[43m=\u001b[49m\u001b[43mheaders\u001b[49m\u001b[43m,\u001b[49m\n\u001b[32m    794\u001b[39m \u001b[43m    \u001b[49m\u001b[43mchunked\u001b[49m\u001b[43m=\u001b[49m\u001b[43mchunked\u001b[49m\u001b[43m,\u001b[49m\n\u001b[32m    795\u001b[39m \u001b[43m    \u001b[49m\u001b[43mretries\u001b[49m\u001b[43m=\u001b[49m\u001b[43mretries\u001b[49m\u001b[43m,\u001b[49m\n\u001b[32m    796\u001b[39m \u001b[43m    \u001b[49m\u001b[43mresponse_conn\u001b[49m\u001b[43m=\u001b[49m\u001b[43mresponse_conn\u001b[49m\u001b[43m,\u001b[49m\n\u001b[32m    797\u001b[39m \u001b[43m    \u001b[49m\u001b[43mpreload_content\u001b[49m\u001b[43m=\u001b[49m\u001b[43mpreload_content\u001b[49m\u001b[43m,\u001b[49m\n\u001b[32m    798\u001b[39m \u001b[43m    \u001b[49m\u001b[43mdecode_content\u001b[49m\u001b[43m=\u001b[49m\u001b[43mdecode_content\u001b[49m\u001b[43m,\u001b[49m\n\u001b[32m    799\u001b[39m \u001b[43m    \u001b[49m\u001b[43m*\u001b[49m\u001b[43m*\u001b[49m\u001b[43mresponse_kw\u001b[49m\u001b[43m,\u001b[49m\n\u001b[32m    800\u001b[39m \u001b[43m\u001b[49m\u001b[43m)\u001b[49m\n\u001b[32m    802\u001b[39m \u001b[38;5;66;03m# Everything went great!\u001b[39;00m\n\u001b[32m    803\u001b[39m clean_exit = \u001b[38;5;28;01mTrue\u001b[39;00m\n",
      "\u001b[36mFile \u001b[39m\u001b[32mc:\\Users\\RDavis\\Desktop\\GitHub\\python-for-drilling-engineers\\venv\\Lib\\site-packages\\urllib3\\connectionpool.py:464\u001b[39m, in \u001b[36mHTTPConnectionPool._make_request\u001b[39m\u001b[34m(self, conn, method, url, body, headers, retries, timeout, chunked, response_conn, preload_content, decode_content, enforce_content_length)\u001b[39m\n\u001b[32m    461\u001b[39m \u001b[38;5;28;01mtry\u001b[39;00m:\n\u001b[32m    462\u001b[39m     \u001b[38;5;66;03m# Trigger any extra validation we need to do.\u001b[39;00m\n\u001b[32m    463\u001b[39m     \u001b[38;5;28;01mtry\u001b[39;00m:\n\u001b[32m--> \u001b[39m\u001b[32m464\u001b[39m         \u001b[38;5;28;43mself\u001b[39;49m\u001b[43m.\u001b[49m\u001b[43m_validate_conn\u001b[49m\u001b[43m(\u001b[49m\u001b[43mconn\u001b[49m\u001b[43m)\u001b[49m\n\u001b[32m    465\u001b[39m     \u001b[38;5;28;01mexcept\u001b[39;00m (SocketTimeout, BaseSSLError) \u001b[38;5;28;01mas\u001b[39;00m e:\n\u001b[32m    466\u001b[39m         \u001b[38;5;28mself\u001b[39m._raise_timeout(err=e, url=url, timeout_value=conn.timeout)\n",
      "\u001b[36mFile \u001b[39m\u001b[32mc:\\Users\\RDavis\\Desktop\\GitHub\\python-for-drilling-engineers\\venv\\Lib\\site-packages\\urllib3\\connectionpool.py:1093\u001b[39m, in \u001b[36mHTTPSConnectionPool._validate_conn\u001b[39m\u001b[34m(self, conn)\u001b[39m\n\u001b[32m   1091\u001b[39m \u001b[38;5;66;03m# Force connect early to allow us to validate the connection.\u001b[39;00m\n\u001b[32m   1092\u001b[39m \u001b[38;5;28;01mif\u001b[39;00m conn.is_closed:\n\u001b[32m-> \u001b[39m\u001b[32m1093\u001b[39m     \u001b[43mconn\u001b[49m\u001b[43m.\u001b[49m\u001b[43mconnect\u001b[49m\u001b[43m(\u001b[49m\u001b[43m)\u001b[49m\n\u001b[32m   1095\u001b[39m \u001b[38;5;66;03m# TODO revise this, see https://github.com/urllib3/urllib3/issues/2791\u001b[39;00m\n\u001b[32m   1096\u001b[39m \u001b[38;5;28;01mif\u001b[39;00m \u001b[38;5;129;01mnot\u001b[39;00m conn.is_verified \u001b[38;5;129;01mand\u001b[39;00m \u001b[38;5;129;01mnot\u001b[39;00m conn.proxy_is_verified:\n",
      "\u001b[36mFile \u001b[39m\u001b[32mc:\\Users\\RDavis\\Desktop\\GitHub\\python-for-drilling-engineers\\venv\\Lib\\site-packages\\urllib3\\connection.py:741\u001b[39m, in \u001b[36mHTTPSConnection.connect\u001b[39m\u001b[34m(self)\u001b[39m\n\u001b[32m    738\u001b[39m     \u001b[38;5;66;03m# Remove trailing '.' from fqdn hostnames to allow certificate validation\u001b[39;00m\n\u001b[32m    739\u001b[39m     server_hostname_rm_dot = server_hostname.rstrip(\u001b[33m\"\u001b[39m\u001b[33m.\u001b[39m\u001b[33m\"\u001b[39m)\n\u001b[32m--> \u001b[39m\u001b[32m741\u001b[39m     sock_and_verified = \u001b[43m_ssl_wrap_socket_and_match_hostname\u001b[49m\u001b[43m(\u001b[49m\n\u001b[32m    742\u001b[39m \u001b[43m        \u001b[49m\u001b[43msock\u001b[49m\u001b[43m=\u001b[49m\u001b[43msock\u001b[49m\u001b[43m,\u001b[49m\n\u001b[32m    743\u001b[39m \u001b[43m        \u001b[49m\u001b[43mcert_reqs\u001b[49m\u001b[43m=\u001b[49m\u001b[38;5;28;43mself\u001b[39;49m\u001b[43m.\u001b[49m\u001b[43mcert_reqs\u001b[49m\u001b[43m,\u001b[49m\n\u001b[32m    744\u001b[39m \u001b[43m        \u001b[49m\u001b[43mssl_version\u001b[49m\u001b[43m=\u001b[49m\u001b[38;5;28;43mself\u001b[39;49m\u001b[43m.\u001b[49m\u001b[43mssl_version\u001b[49m\u001b[43m,\u001b[49m\n\u001b[32m    745\u001b[39m \u001b[43m        \u001b[49m\u001b[43mssl_minimum_version\u001b[49m\u001b[43m=\u001b[49m\u001b[38;5;28;43mself\u001b[39;49m\u001b[43m.\u001b[49m\u001b[43mssl_minimum_version\u001b[49m\u001b[43m,\u001b[49m\n\u001b[32m    746\u001b[39m \u001b[43m        \u001b[49m\u001b[43mssl_maximum_version\u001b[49m\u001b[43m=\u001b[49m\u001b[38;5;28;43mself\u001b[39;49m\u001b[43m.\u001b[49m\u001b[43mssl_maximum_version\u001b[49m\u001b[43m,\u001b[49m\n\u001b[32m    747\u001b[39m \u001b[43m        \u001b[49m\u001b[43mca_certs\u001b[49m\u001b[43m=\u001b[49m\u001b[38;5;28;43mself\u001b[39;49m\u001b[43m.\u001b[49m\u001b[43mca_certs\u001b[49m\u001b[43m,\u001b[49m\n\u001b[32m    748\u001b[39m \u001b[43m        \u001b[49m\u001b[43mca_cert_dir\u001b[49m\u001b[43m=\u001b[49m\u001b[38;5;28;43mself\u001b[39;49m\u001b[43m.\u001b[49m\u001b[43mca_cert_dir\u001b[49m\u001b[43m,\u001b[49m\n\u001b[32m    749\u001b[39m \u001b[43m        \u001b[49m\u001b[43mca_cert_data\u001b[49m\u001b[43m=\u001b[49m\u001b[38;5;28;43mself\u001b[39;49m\u001b[43m.\u001b[49m\u001b[43mca_cert_data\u001b[49m\u001b[43m,\u001b[49m\n\u001b[32m    750\u001b[39m \u001b[43m        \u001b[49m\u001b[43mcert_file\u001b[49m\u001b[43m=\u001b[49m\u001b[38;5;28;43mself\u001b[39;49m\u001b[43m.\u001b[49m\u001b[43mcert_file\u001b[49m\u001b[43m,\u001b[49m\n\u001b[32m    751\u001b[39m \u001b[43m        \u001b[49m\u001b[43mkey_file\u001b[49m\u001b[43m=\u001b[49m\u001b[38;5;28;43mself\u001b[39;49m\u001b[43m.\u001b[49m\u001b[43mkey_file\u001b[49m\u001b[43m,\u001b[49m\n\u001b[32m    752\u001b[39m \u001b[43m        \u001b[49m\u001b[43mkey_password\u001b[49m\u001b[43m=\u001b[49m\u001b[38;5;28;43mself\u001b[39;49m\u001b[43m.\u001b[49m\u001b[43mkey_password\u001b[49m\u001b[43m,\u001b[49m\n\u001b[32m    753\u001b[39m \u001b[43m        \u001b[49m\u001b[43mserver_hostname\u001b[49m\u001b[43m=\u001b[49m\u001b[43mserver_hostname_rm_dot\u001b[49m\u001b[43m,\u001b[49m\n\u001b[32m    754\u001b[39m \u001b[43m        \u001b[49m\u001b[43mssl_context\u001b[49m\u001b[43m=\u001b[49m\u001b[38;5;28;43mself\u001b[39;49m\u001b[43m.\u001b[49m\u001b[43mssl_context\u001b[49m\u001b[43m,\u001b[49m\n\u001b[32m    755\u001b[39m \u001b[43m        \u001b[49m\u001b[43mtls_in_tls\u001b[49m\u001b[43m=\u001b[49m\u001b[43mtls_in_tls\u001b[49m\u001b[43m,\u001b[49m\n\u001b[32m    756\u001b[39m \u001b[43m        \u001b[49m\u001b[43massert_hostname\u001b[49m\u001b[43m=\u001b[49m\u001b[38;5;28;43mself\u001b[39;49m\u001b[43m.\u001b[49m\u001b[43massert_hostname\u001b[49m\u001b[43m,\u001b[49m\n\u001b[32m    757\u001b[39m \u001b[43m        \u001b[49m\u001b[43massert_fingerprint\u001b[49m\u001b[43m=\u001b[49m\u001b[38;5;28;43mself\u001b[39;49m\u001b[43m.\u001b[49m\u001b[43massert_fingerprint\u001b[49m\u001b[43m,\u001b[49m\n\u001b[32m    758\u001b[39m \u001b[43m    \u001b[49m\u001b[43m)\u001b[49m\n\u001b[32m    759\u001b[39m     \u001b[38;5;28mself\u001b[39m.sock = sock_and_verified.socket\n\u001b[32m    761\u001b[39m \u001b[38;5;66;03m# If an error occurs during connection/handshake we may need to release\u001b[39;00m\n\u001b[32m    762\u001b[39m \u001b[38;5;66;03m# our lock so another connection can probe the origin.\u001b[39;00m\n",
      "\u001b[36mFile \u001b[39m\u001b[32mc:\\Users\\RDavis\\Desktop\\GitHub\\python-for-drilling-engineers\\venv\\Lib\\site-packages\\urllib3\\connection.py:920\u001b[39m, in \u001b[36m_ssl_wrap_socket_and_match_hostname\u001b[39m\u001b[34m(sock, cert_reqs, ssl_version, ssl_minimum_version, ssl_maximum_version, cert_file, key_file, key_password, ca_certs, ca_cert_dir, ca_cert_data, assert_hostname, assert_fingerprint, server_hostname, ssl_context, tls_in_tls)\u001b[39m\n\u001b[32m    917\u001b[39m     \u001b[38;5;28;01mif\u001b[39;00m is_ipaddress(normalized):\n\u001b[32m    918\u001b[39m         server_hostname = normalized\n\u001b[32m--> \u001b[39m\u001b[32m920\u001b[39m ssl_sock = \u001b[43mssl_wrap_socket\u001b[49m\u001b[43m(\u001b[49m\n\u001b[32m    921\u001b[39m \u001b[43m    \u001b[49m\u001b[43msock\u001b[49m\u001b[43m=\u001b[49m\u001b[43msock\u001b[49m\u001b[43m,\u001b[49m\n\u001b[32m    922\u001b[39m \u001b[43m    \u001b[49m\u001b[43mkeyfile\u001b[49m\u001b[43m=\u001b[49m\u001b[43mkey_file\u001b[49m\u001b[43m,\u001b[49m\n\u001b[32m    923\u001b[39m \u001b[43m    \u001b[49m\u001b[43mcertfile\u001b[49m\u001b[43m=\u001b[49m\u001b[43mcert_file\u001b[49m\u001b[43m,\u001b[49m\n\u001b[32m    924\u001b[39m \u001b[43m    \u001b[49m\u001b[43mkey_password\u001b[49m\u001b[43m=\u001b[49m\u001b[43mkey_password\u001b[49m\u001b[43m,\u001b[49m\n\u001b[32m    925\u001b[39m \u001b[43m    \u001b[49m\u001b[43mca_certs\u001b[49m\u001b[43m=\u001b[49m\u001b[43mca_certs\u001b[49m\u001b[43m,\u001b[49m\n\u001b[32m    926\u001b[39m \u001b[43m    \u001b[49m\u001b[43mca_cert_dir\u001b[49m\u001b[43m=\u001b[49m\u001b[43mca_cert_dir\u001b[49m\u001b[43m,\u001b[49m\n\u001b[32m    927\u001b[39m \u001b[43m    \u001b[49m\u001b[43mca_cert_data\u001b[49m\u001b[43m=\u001b[49m\u001b[43mca_cert_data\u001b[49m\u001b[43m,\u001b[49m\n\u001b[32m    928\u001b[39m \u001b[43m    \u001b[49m\u001b[43mserver_hostname\u001b[49m\u001b[43m=\u001b[49m\u001b[43mserver_hostname\u001b[49m\u001b[43m,\u001b[49m\n\u001b[32m    929\u001b[39m \u001b[43m    \u001b[49m\u001b[43mssl_context\u001b[49m\u001b[43m=\u001b[49m\u001b[43mcontext\u001b[49m\u001b[43m,\u001b[49m\n\u001b[32m    930\u001b[39m \u001b[43m    \u001b[49m\u001b[43mtls_in_tls\u001b[49m\u001b[43m=\u001b[49m\u001b[43mtls_in_tls\u001b[49m\u001b[43m,\u001b[49m\n\u001b[32m    931\u001b[39m \u001b[43m\u001b[49m\u001b[43m)\u001b[49m\n\u001b[32m    933\u001b[39m \u001b[38;5;28;01mtry\u001b[39;00m:\n\u001b[32m    934\u001b[39m     \u001b[38;5;28;01mif\u001b[39;00m assert_fingerprint:\n",
      "\u001b[36mFile \u001b[39m\u001b[32mc:\\Users\\RDavis\\Desktop\\GitHub\\python-for-drilling-engineers\\venv\\Lib\\site-packages\\urllib3\\util\\ssl_.py:460\u001b[39m, in \u001b[36mssl_wrap_socket\u001b[39m\u001b[34m(sock, keyfile, certfile, cert_reqs, ca_certs, server_hostname, ssl_version, ciphers, ssl_context, ca_cert_dir, key_password, ca_cert_data, tls_in_tls)\u001b[39m\n\u001b[32m    456\u001b[39m         context.load_cert_chain(certfile, keyfile, key_password)\n\u001b[32m    458\u001b[39m context.set_alpn_protocols(ALPN_PROTOCOLS)\n\u001b[32m--> \u001b[39m\u001b[32m460\u001b[39m ssl_sock = \u001b[43m_ssl_wrap_socket_impl\u001b[49m\u001b[43m(\u001b[49m\u001b[43msock\u001b[49m\u001b[43m,\u001b[49m\u001b[43m \u001b[49m\u001b[43mcontext\u001b[49m\u001b[43m,\u001b[49m\u001b[43m \u001b[49m\u001b[43mtls_in_tls\u001b[49m\u001b[43m,\u001b[49m\u001b[43m \u001b[49m\u001b[43mserver_hostname\u001b[49m\u001b[43m)\u001b[49m\n\u001b[32m    461\u001b[39m \u001b[38;5;28;01mreturn\u001b[39;00m ssl_sock\n",
      "\u001b[36mFile \u001b[39m\u001b[32mc:\\Users\\RDavis\\Desktop\\GitHub\\python-for-drilling-engineers\\venv\\Lib\\site-packages\\urllib3\\util\\ssl_.py:504\u001b[39m, in \u001b[36m_ssl_wrap_socket_impl\u001b[39m\u001b[34m(sock, ssl_context, tls_in_tls, server_hostname)\u001b[39m\n\u001b[32m    501\u001b[39m     SSLTransport._validate_ssl_context_for_tls_in_tls(ssl_context)\n\u001b[32m    502\u001b[39m     \u001b[38;5;28;01mreturn\u001b[39;00m SSLTransport(sock, ssl_context, server_hostname)\n\u001b[32m--> \u001b[39m\u001b[32m504\u001b[39m \u001b[38;5;28;01mreturn\u001b[39;00m \u001b[43mssl_context\u001b[49m\u001b[43m.\u001b[49m\u001b[43mwrap_socket\u001b[49m\u001b[43m(\u001b[49m\u001b[43msock\u001b[49m\u001b[43m,\u001b[49m\u001b[43m \u001b[49m\u001b[43mserver_hostname\u001b[49m\u001b[43m=\u001b[49m\u001b[43mserver_hostname\u001b[49m\u001b[43m)\u001b[49m\n",
      "\u001b[36mFile \u001b[39m\u001b[32mC:\\Python312\\Lib\\ssl.py:455\u001b[39m, in \u001b[36mSSLContext.wrap_socket\u001b[39m\u001b[34m(self, sock, server_side, do_handshake_on_connect, suppress_ragged_eofs, server_hostname, session)\u001b[39m\n\u001b[32m    449\u001b[39m \u001b[38;5;28;01mdef\u001b[39;00m\u001b[38;5;250m \u001b[39m\u001b[34mwrap_socket\u001b[39m(\u001b[38;5;28mself\u001b[39m, sock, server_side=\u001b[38;5;28;01mFalse\u001b[39;00m,\n\u001b[32m    450\u001b[39m                 do_handshake_on_connect=\u001b[38;5;28;01mTrue\u001b[39;00m,\n\u001b[32m    451\u001b[39m                 suppress_ragged_eofs=\u001b[38;5;28;01mTrue\u001b[39;00m,\n\u001b[32m    452\u001b[39m                 server_hostname=\u001b[38;5;28;01mNone\u001b[39;00m, session=\u001b[38;5;28;01mNone\u001b[39;00m):\n\u001b[32m    453\u001b[39m     \u001b[38;5;66;03m# SSLSocket class handles server_hostname encoding before it calls\u001b[39;00m\n\u001b[32m    454\u001b[39m     \u001b[38;5;66;03m# ctx._wrap_socket()\u001b[39;00m\n\u001b[32m--> \u001b[39m\u001b[32m455\u001b[39m     \u001b[38;5;28;01mreturn\u001b[39;00m \u001b[38;5;28;43mself\u001b[39;49m\u001b[43m.\u001b[49m\u001b[43msslsocket_class\u001b[49m\u001b[43m.\u001b[49m\u001b[43m_create\u001b[49m\u001b[43m(\u001b[49m\n\u001b[32m    456\u001b[39m \u001b[43m        \u001b[49m\u001b[43msock\u001b[49m\u001b[43m=\u001b[49m\u001b[43msock\u001b[49m\u001b[43m,\u001b[49m\n\u001b[32m    457\u001b[39m \u001b[43m        \u001b[49m\u001b[43mserver_side\u001b[49m\u001b[43m=\u001b[49m\u001b[43mserver_side\u001b[49m\u001b[43m,\u001b[49m\n\u001b[32m    458\u001b[39m \u001b[43m        \u001b[49m\u001b[43mdo_handshake_on_connect\u001b[49m\u001b[43m=\u001b[49m\u001b[43mdo_handshake_on_connect\u001b[49m\u001b[43m,\u001b[49m\n\u001b[32m    459\u001b[39m \u001b[43m        \u001b[49m\u001b[43msuppress_ragged_eofs\u001b[49m\u001b[43m=\u001b[49m\u001b[43msuppress_ragged_eofs\u001b[49m\u001b[43m,\u001b[49m\n\u001b[32m    460\u001b[39m \u001b[43m        \u001b[49m\u001b[43mserver_hostname\u001b[49m\u001b[43m=\u001b[49m\u001b[43mserver_hostname\u001b[49m\u001b[43m,\u001b[49m\n\u001b[32m    461\u001b[39m \u001b[43m        \u001b[49m\u001b[43mcontext\u001b[49m\u001b[43m=\u001b[49m\u001b[38;5;28;43mself\u001b[39;49m\u001b[43m,\u001b[49m\n\u001b[32m    462\u001b[39m \u001b[43m        \u001b[49m\u001b[43msession\u001b[49m\u001b[43m=\u001b[49m\u001b[43msession\u001b[49m\n\u001b[32m    463\u001b[39m \u001b[43m    \u001b[49m\u001b[43m)\u001b[49m\n",
      "\u001b[36mFile \u001b[39m\u001b[32mC:\\Python312\\Lib\\ssl.py:1046\u001b[39m, in \u001b[36mSSLSocket._create\u001b[39m\u001b[34m(cls, sock, server_side, do_handshake_on_connect, suppress_ragged_eofs, server_hostname, context, session)\u001b[39m\n\u001b[32m   1043\u001b[39m         \u001b[38;5;28;01mif\u001b[39;00m timeout == \u001b[32m0.0\u001b[39m:\n\u001b[32m   1044\u001b[39m             \u001b[38;5;66;03m# non-blocking\u001b[39;00m\n\u001b[32m   1045\u001b[39m             \u001b[38;5;28;01mraise\u001b[39;00m \u001b[38;5;167;01mValueError\u001b[39;00m(\u001b[33m\"\u001b[39m\u001b[33mdo_handshake_on_connect should not be specified for non-blocking sockets\u001b[39m\u001b[33m\"\u001b[39m)\n\u001b[32m-> \u001b[39m\u001b[32m1046\u001b[39m         \u001b[38;5;28;43mself\u001b[39;49m\u001b[43m.\u001b[49m\u001b[43mdo_handshake\u001b[49m\u001b[43m(\u001b[49m\u001b[43m)\u001b[49m\n\u001b[32m   1047\u001b[39m \u001b[38;5;28;01mexcept\u001b[39;00m (\u001b[38;5;167;01mOSError\u001b[39;00m, \u001b[38;5;167;01mValueError\u001b[39;00m):\n\u001b[32m   1048\u001b[39m     \u001b[38;5;28mself\u001b[39m.close()\n",
      "\u001b[36mFile \u001b[39m\u001b[32mC:\\Python312\\Lib\\ssl.py:1317\u001b[39m, in \u001b[36mSSLSocket.do_handshake\u001b[39m\u001b[34m(self, block)\u001b[39m\n\u001b[32m   1315\u001b[39m     \u001b[38;5;28;01mif\u001b[39;00m timeout == \u001b[32m0.0\u001b[39m \u001b[38;5;129;01mand\u001b[39;00m block:\n\u001b[32m   1316\u001b[39m         \u001b[38;5;28mself\u001b[39m.settimeout(\u001b[38;5;28;01mNone\u001b[39;00m)\n\u001b[32m-> \u001b[39m\u001b[32m1317\u001b[39m     \u001b[38;5;28;43mself\u001b[39;49m\u001b[43m.\u001b[49m\u001b[43m_sslobj\u001b[49m\u001b[43m.\u001b[49m\u001b[43mdo_handshake\u001b[49m\u001b[43m(\u001b[49m\u001b[43m)\u001b[49m\n\u001b[32m   1318\u001b[39m \u001b[38;5;28;01mfinally\u001b[39;00m:\n\u001b[32m   1319\u001b[39m     \u001b[38;5;28mself\u001b[39m.settimeout(timeout)\n",
      "\u001b[31mKeyboardInterrupt\u001b[39m: "
     ]
    }
   ],
   "source": [
    "from ydata_profiling import ProfileReport\n",
    "profile = ProfileReport(forge_16A_df, title=\"Forge 16A Data Analysis\", explorative=True)\n",
    "profile.to_notebook_iframe()\n",
    "# Save the profile report to an HTML file\n",
    "profile.to_file(output_file=\"forge_16A_report.html\")"
   ]
  },
  {
   "cell_type": "markdown",
   "id": "6c71278d",
   "metadata": {},
   "source": [
    "Let's rename our columns to have a more code-friendly title."
   ]
  },
  {
   "cell_type": "code",
   "execution_count": 104,
   "id": "f8c4e207",
   "metadata": {},
   "outputs": [
    {
     "name": "stdout",
     "output_type": "stream",
     "text": [
      "Index(['Date', 'Date (Date Only)', 'Date (Time Only)', 'Azimuth',\n",
      "       'Bit Diameter', 'Bit Revolutions per Minute', 'Block Position',\n",
      "       'Depth Hole Total Vertical Depth', 'Differential Pressure',\n",
      "       'Downhole Torque', 'Flow In', 'Gamma Measured while Drilling', 'H2S 01',\n",
      "       'Hookload', 'Inclination', 'Mud Temperature', 'On Bottom',\n",
      "       'Pump Pressure', 'Rate of Penetration (Depth/Hour)', 'Return Flow',\n",
      "       'Rig Mode', 'Top Drive Revolutions per Minute', 'Top Drive Torque',\n",
      "       'Total Strokes per Minute', 'Weight on Bit'],\n",
      "      dtype='object')\n",
      "Row count: 608676\n",
      "Index(['rig_time', 'Date (Date Only)', 'Date (Time Only)', 'azi', 'bit_size',\n",
      "       'bit_rpm', 'block_height', 'tvd', 'diff_press', 'Downhole Torque',\n",
      "       'flow_in', 'gamma', 'H2S 01', 'hookload', 'inc', 'Mud Temperature',\n",
      "       'on_bottom_status', 'pump_press', 'rop', 'flow_out', 'rig_mode',\n",
      "       'td_rpm', 'td_torque', 'total_spm', 'wob'],\n",
      "      dtype='object')\n"
     ]
    }
   ],
   "source": [
    "print(forge_16A_df.columns)  # Check the columns in the DataFrame\n",
    "print(f'Row count: {forge_16A_df.shape[0]}')  # Check the number of rows\n",
    "\n",
    "df = forge_16A_df.copy()\n",
    "# Rename column headers\n",
    "df.rename(columns={'Date': 'rig_time',\n",
    "                   'Bit Diameter': 'bit_size',\n",
    "                   'Top Drive Revolutions per Minute': 'td_rpm',\n",
    "                   'Bit Revolutions per Minute': 'bit_rpm',\n",
    "                   'Weight on Bit': 'wob',\n",
    "                   'Differential Pressure': 'diff_press',\n",
    "                   'Block Position': 'block_height',\n",
    "                   'Rate of Penetration (Depth/Hour)': 'rop',\n",
    "                   'Depth Hole Total Vertical Depth': 'tvd',\n",
    "                   'Inclination': 'inc',\n",
    "                   'Azimuth': 'azi',\n",
    "                   'Hookload': 'hookload',\n",
    "                   'Pump Pressure': 'pump_press',\n",
    "                   'Return Flow': 'flow_out',\n",
    "                   'Flow In': 'flow_in',\n",
    "                   'Top Drive Torque': 'td_torque',\n",
    "                   'Gamma Measured while Drilling': 'gamma',\n",
    "                   'Rig Mode': 'rig_mode',\n",
    "                   'On Bottom': 'on_bottom_status',\n",
    "                   'Total Strokes per Minute': 'total_spm'\n",
    "                   }, inplace=True)\n",
    "print(df.columns)  # Check the columns in the DataFrame"
   ]
  },
  {
   "cell_type": "markdown",
   "id": "a3674f43",
   "metadata": {},
   "source": [
    "We're ready to start our analysis.\n",
    "\n",
    "Let's wrap our heads around the dataset by visualizing a common DVD curve using "
   ]
  },
  {
   "cell_type": "code",
   "execution_count": null,
   "id": "3c15006d",
   "metadata": {},
   "outputs": [
    {
     "name": "stdout",
     "output_type": "stream",
     "text": [
      "Reduced row count: 2490\n",
      "On Bottom row count: 492\n"
     ]
    },
    {
     "data": {
      "image/png": "[encoded data removed]",
      "text/plain": [
       "<Figure size 1000x600 with 1 Axes>"
      ]
     },
     "metadata": {},
     "output_type": "display_data"
    }
   ],
   "source": [
    "import matplotlib.pyplot as plt\n",
    "import seaborn as sns\n",
    "\n",
    "\n",
    "df = df[['rig_time', 'tvd', 'rop', 'wob', 'diff_press', 'td_rpm', 'td_torque',\n",
    "         'bit_rpm', 'block_height', 'inc', 'azi', 'bit_size', 'on_bottom_status']]\n",
    "# print(df.head(10))\n",
    "\n",
    "# reduce df to take every 12th row\n",
    "plot_df = df.copy()\n",
    "plot_df = plot_df.iloc[::240, :]  # Take every 12th row\n",
    "plot_df.sort_values(by='rig_time', inplace=True)  # Sort by rig_time\n",
    "# drop rows where rig_time or tvd is null\n",
    "plot_df.dropna(subset=['rig_time', 'tvd'], inplace=True)\n",
    "# set rig_time as datetime\n",
    "plot_df['rig_time'] = pd.to_datetime(plot_df['rig_time'], errors='coerce')  # Convert to datetime\n",
    "plot_df['rig_time'] = plot_df['rig_time'].dt.strftime('%Y-%m-%d %H:%M:%S')  # Format datetime\n",
    "\n",
    "# convert tvd to numeric\n",
    "plot_df['tvd'] = pd.to_numeric(plot_df['tvd'], errors='coerce')\n",
    "\n",
    "print(f'Reduced row count: {plot_df.shape[0]}')  # Check the number of rows after reduction\n",
    "\n",
    "# Ensure plots are displayed in Jupyter Notebook\n",
    "%matplotlib inline \n",
    "\n",
    "# plot line graph x axis = rig_time, y axis = bit_depth, then invert the y-axis\n",
    "plt.figure(figsize=(10, 6))\n",
    "plt.plot(plot_df['rig_time'], plot_df['tvd'], label='Bit Depth', color='blue')\n",
    "plt.gca().invert_yaxis()  # Invert the y-axis\n",
    "plt.xlabel('Rig Time')  # Set x-label\n",
    "plt.ylabel('Depth')  # Set y-label\n",
    "plt.title('DvD Curve')\n",
    "plt.show()"
   ]
  },
  {
   "cell_type": "code",
   "execution_count": null,
   "id": "58dba532",
   "metadata": {},
   "outputs": [
    {
     "data": {
      "image/png": "[encoded data removed]",
      "text/plain": [
       "<Figure size 1000x600 with 1 Axes>"
      ]
     },
     "metadata": {},
     "output_type": "display_data"
    }
   ],
   "source": [
    "on_btm_df = plot_df[plot_df['on_bottom_status'] == 1]\n",
    "\n",
    "# plot line graph x axis = rig_time, y axis = tvd, then invert the y-axis\n",
    "plt.figure(figsize=(10, 6))\n",
    "plt.plot(on_btm_df['rig_time'], on_btm_df['tvd'], label='On Bottom', color='red')\n",
    "plt.gca().invert_yaxis()  # Invert the y-axis\n",
    "plt.xlabel('Rig Time')  # Set x-label\n",
    "plt.ylabel('Depth')  # Set y-label\n",
    "plt.title('On Bottom DvD Curve')\n",
    "plt.show()"
   ]
  },
  {
   "cell_type": "code",
   "execution_count": 106,
   "id": "c5f788e5",
   "metadata": {},
   "outputs": [
    {
     "name": "stdout",
     "output_type": "stream",
     "text": [
      "Index(['rig_time', 'tvd', 'rop', 'wob', 'diff_press', 'td_rpm', 'td_torque',\n",
      "       'bit_rpm', 'block_height', 'inc', 'azi', 'bit_size',\n",
      "       'on_bottom_status'],\n",
      "      dtype='object')\n",
      "[nan  1.  0.]\n",
      "bit_size\n",
      "8.75     45892\n",
      "12.00    65351\n",
      "12.25      612\n",
      "dtype: int64\n",
      "Bit Size: 8.75\n",
      "                rop           wob        td_rpm     td_torque    diff_press\n",
      "count  45892.000000  45892.000000  45892.000000  45892.000000  45892.000000\n",
      "mean      41.267341     42.696275     38.208086   6246.975802    153.055604\n",
      "std      202.817364     15.089505     23.189586   4731.013781    183.210888\n",
      "min        0.000000      0.000000      0.000000      0.000000  -3272.221400\n",
      "25%        0.000000     38.284130     19.733890   1357.424300    108.146013\n",
      "50%       32.574375     44.900935     41.571150   6296.028000    170.601610\n",
      "75%       55.371350     50.262738     57.229570  10495.562000    218.298192\n",
      "max    16882.787000    186.194300     76.651640  16169.186000   2644.187500\n",
      "Bit Size: 12.0\n",
      "                rop           wob        td_rpm     td_torque    diff_press\n",
      "count  65351.000000  65351.000000  65351.000000  65351.000000  65351.000000\n",
      "mean      21.832971     34.084260     46.361291   3880.266696    252.236978\n",
      "std      230.321294     15.510117     14.790096   1061.304697    930.858590\n",
      "min        0.000000      0.000000      0.000000      0.000000  -4751.216300\n",
      "25%        0.000000     30.024255     39.437740   3503.763000     94.581560\n",
      "50%        0.000000     38.011300     41.571150   4018.074200    157.362660\n",
      "75%       22.221910     45.274810     55.277290   4473.665000    221.437185\n",
      "max    40989.590000    198.463960     99.273830  13338.448000   8598.290000\n",
      "Bit Size: 12.25\n",
      "              rop         wob      td_rpm    td_torque  diff_press\n",
      "count  612.000000  612.000000  612.000000   612.000000  612.000000\n",
      "mean   172.420127    5.884721   46.342904  1704.715520  100.477000\n",
      "std     41.760489    3.089794    1.471549   717.192280   52.287179\n",
      "min      0.000000    0.482330   43.785060    45.323070  -10.174230\n",
      "25%    172.869197    3.775193   45.334800  1233.402475   61.283760\n",
      "50%    182.851865    5.067565   45.455560  1557.884350   95.536870\n",
      "75%    190.599438    6.933277   48.212890  2052.959625  122.604470\n",
      "max    218.896470   15.310680   49.500990  6225.158000  330.975980\n"
     ]
    }
   ],
   "source": [
    "# Calculate KPIs for each bit_size, when on_bottom is True\n",
    "print(df.columns)\n",
    "# find all the unique bit sizes\n",
    "# print the types of the bit_size column\n",
    "print(df['on_bottom_status'].unique())\n",
    "\n",
    "group_df = df[df.on_bottom_status == 1].groupby('bit_size')\n",
    "print(group_df.size())\n",
    "for name, group in group_df:\n",
    "    print(f'Bit Size: {name}')\n",
    "    print(group[['rop', 'wob', 'td_rpm', 'td_torque', 'diff_press']].describe())"
   ]
  },
  {
   "cell_type": "markdown",
   "id": "3329d2ab",
   "metadata": {},
   "source": [
    "## Data Transformation & KPI Calculation\n",
    "Now, let's transform data and calculate key performance indicators (KPIs)."
   ]
  },
  {
   "cell_type": "code",
   "execution_count": null,
   "id": "eb2ab142",
   "metadata": {},
   "outputs": [],
   "source": [
    "# Creating a calculated column (MSE Calculation Example)\n",
    "df['MSE'] = df['Depth'] * df['ROP'] * 1.2  # Simplified calculation\n",
    "df.head()"
   ]
  },
  {
   "cell_type": "code",
   "execution_count": null,
   "id": "6b1352eb",
   "metadata": {},
   "outputs": [],
   "source": [
    "# Grouping Data\n",
    "df_grouped = df.groupby('Depth').mean()\n",
    "df_grouped"
   ]
  },
  {
   "cell_type": "markdown",
   "id": "7af02fd6",
   "metadata": {},
   "source": [
    "## Merging and Concatenating DataFrames\n",
    "We often need to merge multiple datasets."
   ]
  },
  {
   "cell_type": "code",
   "execution_count": null,
   "id": "34e5d3f7",
   "metadata": {},
   "outputs": [],
   "source": [
    "# Merging two DataFrames\n",
    "df2 = pd.DataFrame({'Depth': [1000, 2000, 3000], 'Mud Weight': [10.5, 10.8, 11]})\n",
    "df_merged = pd.merge(df, df2, on='Depth')\n",
    "df_merged.head()"
   ]
  },
  {
   "cell_type": "markdown",
   "id": "23d862b2",
   "metadata": {},
   "source": [
    "## Data Visualization with Matplotlib & Seaborn"
   ]
  },
  {
   "cell_type": "code",
   "execution_count": null,
   "id": "fe7436c3",
   "metadata": {},
   "outputs": [],
   "source": [
    "import matplotlib.pyplot as plt\n",
    "import seaborn as sns\n",
    "\n",
    "# Bar Chart Example\n",
    "plt.figure(figsize=(8,4))\n",
    "sns.barplot(x='Depth', y='ROP', data=df)\n",
    "plt.title('ROP vs Depth')\n",
    "plt.show()"
   ]
  },
  {
   "cell_type": "code",
   "execution_count": null,
   "id": "b09e53ad",
   "metadata": {},
   "outputs": [],
   "source": [
    "# Scatterplot Example\n",
    "plt.figure(figsize=(8,4))\n",
    "sns.scatterplot(x='Depth', y='MSE', data=df)\n",
    "plt.title('MSE vs Depth')\n",
    "plt.show()"
   ]
  },
  {
   "cell_type": "markdown",
   "id": "af5ef5c2",
   "metadata": {},
   "source": [
    "## Final Exercise\n",
    "Try the following:\n",
    "1. Create a new DataFrame with Well Name, Depth, and ROP.\n",
    "2. Upload a CSV file and explore the data.\n",
    "3. Merge two DataFrames with a common column.\n",
    "4. Create a scatterplot of Depth vs ROP.\n",
    "\n",
    "**Congratulations on completing Module 1!** 🎉"
   ]
  }
 ],
 "metadata": {
  "kernelspec": {
   "display_name": "venv",
   "language": "python",
   "name": "python3"
  },
  "language_info": {
   "codemirror_mode": {
    "name": "ipython",
    "version": 3
   },
   "file_extension": ".py",
   "mimetype": "text/x-python",
   "name": "python",
   "nbconvert_exporter": "python",
   "pygments_lexer": "ipython3",
   "version": "3.12.0"
  }
 },
 "nbformat": 4,
 "nbformat_minor": 5
}
