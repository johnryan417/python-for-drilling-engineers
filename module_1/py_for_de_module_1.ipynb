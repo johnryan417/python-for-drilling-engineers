{
 "cells": [
  {
   "cell_type": "markdown",
   "id": "22a57a00",
   "metadata": {},
   "source": [
    "# Python for Drilling Engineers - Module 1\n",
    "## Introduction\n",
    "Welcome to the Python for Drilling Engineers course! In this module, we'll cover the basics of Python and data manipulation for drilling-related applications.\n",
    "\n",
    "**Why Python?**\n",
    "- Open-source and widely used in data science\n",
    "- Great for automating repetitive tasks\n",
    "- Strong ecosystem for data analysis and visualization\n",
    "\n",
    "**What's in it for a drilling engineer?**\n",
    "- Automate drilling reports and calculations\n",
    "- Analyze well logs and real-time drilling data\n",
    "- Improve decision-making with data-driven insights"
   ]
  },
  {
   "cell_type": "markdown",
   "id": "cdeb4860",
   "metadata": {},
   "source": [
    "## Python Basics: Built-in Data Structures\n",
    "Before working with datasets, let's cover fundamental Python data structures.\n",
    "\n",
    "### Summary Table: Python Data Structures\n",
    "\n",
    "| Data Structure | Ordered? | Mutable? | Duplicates Allowed? | Best Use Case |\n",
    "|---------------|---------|----------|------------------|--------------|\n",
    "| **List** (`list`) | ✅ Yes | ✅ Yes | ✅ Yes | General-purpose, ordered data storage |\n",
    "| **Dictionary** (`dict`) | ❌ No (Python 3.7+ maintains insertion order) | ✅ Yes | ❌ No (keys must be unique) | Key-value lookups, structured data |\n",
    "| **Tuple** (`tuple`) | ✅ Yes | ❌ No | ✅ Yes | Immutable, fixed collections |\n",
    "| **Set** (`set`) | ❌ No | ✅ Yes (elements can be added/removed) | ❌ No | Unique element storage, set operations |\n",
    "\n"
   ]
  },
  {
   "cell_type": "markdown",
   "id": "437ef9ff",
   "metadata": {},
   "source": [
    "### Lists\n",
    "**Definition:**\n",
    "A list is an ordered, mutable (modifiable) collection that allows duplicate elements.\n",
    "\n",
    "**Key Features:**\n",
    "- Ordered: elements maintain the order in which they were added\n",
    "- Mutable: Elements can be changed, added, or removed.\n",
    "- Allows Duplicates: Multiple elements with the same value are allowed.\n",
    "\n",
    "**When to Use?**\n",
    "- When you need an ordered collection of items.\n",
    "- When frequent updates (insertion/deletion/modification) are needed.\n",
    "- When you want to store heterogeneous data (e.g., [\"Drill Bit\", 10, 45.7])."
   ]
  },
  {
   "cell_type": "code",
   "execution_count": null,
   "id": "e6ca3785",
   "metadata": {},
   "outputs": [],
   "source": [
    "# Lists\n",
    "drilling_tools = ['Bit', 'Mud Motor', 'MWD', 'Rotary Table']\n",
    "print(drilling_tools[0])  # Access first item\n",
    "print(len(drilling_tools))  # Number of elements"
   ]
  },
  {
   "cell_type": "markdown",
   "id": "86addc0c",
   "metadata": {},
   "source": [
    "### Dictionaries\n",
    "**Definition:** A dictionary is an unordered collection of key-value pairs, where keys are unique and immutable.\n",
    "\n",
    "**Key Features:**\n",
    "- Key-value pairs: Allows efficient lookups.\n",
    "- Keys must be unique: No duplicate keys are allowed.\n",
    "- Mutable: You can update values or add new key-value pairs.\n",
    "\n",
    "**When to Use?**\n",
    "- When you need fast lookups based on unique keys.\n",
    "- When you need to store related attributes (e.g., drilling parameters per well).\n",
    "- When you need flexible and structured data storage."
   ]
  },
  {
   "cell_type": "code",
   "execution_count": null,
   "id": "5ccbba1e",
   "metadata": {},
   "outputs": [],
   "source": [
    "# Dictionaries\n",
    "drilling_data = {\n",
    "    'Depth': 5000,\n",
    "    'ROP': 50,\n",
    "    'Mud Weight': 10.5\n",
    "}\n",
    "print(drilling_data['Depth'])  # Accessing dictionary value"
   ]
  },
  {
   "cell_type": "markdown",
   "id": "412e21ec",
   "metadata": {},
   "source": [
    "### Tuples\n",
    "**Definition:** A tuple is an ordered, immutable collection that allows duplicate elements.\n",
    "\n",
    "**Key Features:**\n",
    "- Ordered: Elements maintain their order.\n",
    "- Immutable: Cannot be changed after creation.\n",
    "- Allows Duplicates: Multiple identical elements are allowed.\n",
    "\n",
    "**When to Use?**\n",
    "- When you need a fixed collection that should not change.\n",
    "- When performance is critical (tuples are faster than lists).\n",
    "- When using as dictionary keys (since they are immutable)."
   ]
  },
  {
   "cell_type": "code",
   "execution_count": null,
   "id": "aaf969aa",
   "metadata": {},
   "outputs": [],
   "source": [
    "# Tuples\n",
    "drilling_parameters = (5000, 50, 10.5)  # Immutable list\n",
    "print(drilling_parameters[0])  # Access first item"
   ]
  },
  {
   "cell_type": "markdown",
   "id": "50d8d262",
   "metadata": {},
   "source": [
    "### Sets\n",
    "**Definition:** A set is an unordered, mutable collection that only stores unique elements.\n",
    "\n",
    "**Key Features:**\n",
    "- Unordered: No guaranteed element order.\n",
    "- Mutable (but only for adding/removing elements).\n",
    "- No Duplicates: Automatically removes duplicates.\n",
    "\n",
    "**When to Use?**\n",
    "- When you need to store unique values only (e.g., unique well names).\n",
    "- When you need fast membership testing (in operator is fast).\n",
    "- When performing set operations (union, intersection, difference)."
   ]
  },
  {
   "cell_type": "code",
   "execution_count": null,
   "id": "af089d45",
   "metadata": {},
   "outputs": [],
   "source": [
    "# Sets\n",
    "drilling_tools = {'Bit', 'Mud Motor', 'MWD', 'Rotary Table'}\n",
    "print(drilling_tools)  # Unique elements\n",
    "# Step 1: Adding an element to a set\n",
    "drilling_tools.add('Casing')\n",
    "print('Step 1 Result:')\n",
    "print(drilling_tools)\n",
    "# Step 2: Removing an element from a set\n",
    "drilling_tools.remove('Bit')\n",
    "print('Step 2 Result:')\n",
    "print(drilling_tools)\n",
    "# Step 3: Check if an element exists in a set\n",
    "print('Step 3 Result:')\n",
    "print('Bit' in drilling_tools)  # Returns False\n",
    "# Iterating through a set\n",
    "for tool in drilling_tools:\n",
    "    print(tool)\n",
    "\n",
    "# List Comprehensions\n",
    "# Create a list of drilling tools with 'Drill' prefix\n",
    "drilling_tools = ['Bit', 'Mud Motor', 'MWD', 'Rotary Table']\n",
    "drilling_tools_with_prefix = [f'Drill {tool}' for tool in drilling_tools]\n",
    "print(drilling_tools_with_prefix)  # ['Drill Bit', 'Drill Mud Motor', 'Drill MWD', 'Drill Rotary Table']"
   ]
  },
  {
   "cell_type": "markdown",
   "id": "4f4405aa",
   "metadata": {},
   "source": [
    "### Dictionary Comprehension"
   ]
  },
  {
   "cell_type": "code",
   "execution_count": null,
   "id": "5d4a5f8a",
   "metadata": {},
   "outputs": [],
   "source": [
    "# Dictionary Comprehensions\n",
    "# Create a dictionary with drilling tools and their depths\n",
    "drilling_tools = ['Bit', 'Mud Motor', 'MWD', 'stabilizer']\n",
    "tool_od_list = [12.25, 8.5, 8.5, 11.75]  # Outer diameter list\n",
    "# tool_length_list = [1.75, 26.3, 28.5, 7.45]  # Length list\n",
    "# Create a dictionary with drilling tools and their ODs\n",
    "drilling_tool_dict = {tool: od for tool, od in zip(drilling_tools, tool_od_list)}\n",
    "print(drilling_tool_dict)  # {'Bit': 12.25, 'Mud Motor': 8.5, 'MWD': 8.5, 'stabilizer': 11.75}\n",
    "\n",
    "# Get the OD of the MWD from the dictionary:\n",
    "mwd_od = drilling_tool_dict.get('MWD')\n",
    "print(mwd_od)  # 8.5\n"
   ]
  },
  {
   "cell_type": "code",
   "execution_count": null,
   "id": "60452737",
   "metadata": {},
   "outputs": [],
   "source": [
    "# F-strings & for loops:\n",
    "tool_type = 'Bit'\n",
    "print(f'The {tool_type} has an outer diameter of {drilling_tool_dict[tool_type]} inches.')\n",
    "\n",
    "# Iterate through the dictionary and print each tool's name and outer diameter\n",
    "for name, value in drilling_tool_dict.items():\n",
    "    print(f'The {name} has an outer diameter of {value} inches.')"
   ]
  },
  {
   "cell_type": "markdown",
   "id": "4f988515",
   "metadata": {},
   "source": [
    "## Working with DataFrames\n",
    "We'll use Pandas to create and manipulate dataframes."
   ]
  },
  {
   "cell_type": "code",
   "execution_count": null,
   "id": "3e11c1b4",
   "metadata": {},
   "outputs": [],
   "source": [
    "import pandas as pd\n",
    "\n",
    "# Creating a simple DataFrame\n",
    "data = {'Depth': [1050, 1100, 1150, 1200], 'ROP': [323, 350, 355, 385], 'WOB': [42, 43, 48, 50], 'RPM': [120, 120, 120, 120], \n",
    "        'DIFF': [458, 473, 491, 526]}\n",
    "df = pd.DataFrame(data)\n",
    "print(df)"
   ]
  },
  {
   "cell_type": "markdown",
   "id": "3f80546e",
   "metadata": {},
   "source": [
    "## Uploading Data Files\n",
    "We'll demonstrate how to upload CSV, Excel, and LAS files."
   ]
  },
  {
   "cell_type": "code",
   "execution_count": null,
   "id": "a1f22a46",
   "metadata": {},
   "outputs": [],
   "source": [
    "# Get my current path:\n",
    "import os\n",
    "\n",
    "# Get the current working directory\n",
    "# This is the directory where the script is running\n",
    "current_path = os.getcwd()\n",
    "\n",
    "# replace \\ with \\\\ in current_path\n",
    "current_path = current_path.replace('\\\\', '\\\\\\\\')\n",
    "print(current_path)  # Print the current path\n",
    "\n",
    "# upload file from current_path\n",
    "file_path = current_path + '\\\\\\\\16A_78-32_time_data_10s_intervals_standard.csv'\n",
    "print(file_path)\n",
    "\n",
    "forge_16A_df = pd.read_csv(file_path)\n"
   ]
  },
  {
   "cell_type": "markdown",
   "id": "8acf064e",
   "metadata": {},
   "source": [
    "## Rapid Dataset Reviews\n",
    "Let's start by taking a look at the format of the data pulled in from the CSV."
   ]
  },
  {
   "cell_type": "code",
   "execution_count": null,
   "id": "0f6f8774",
   "metadata": {},
   "outputs": [],
   "source": [
    "print(forge_16A_df.shape)  # Display the shape of the DataFrame\n",
    "print(f'Row Count: {forge_16A_df.shape[0]}; Column Count: {forge_16A_df.shape[1]}')  # Display row and column count\n",
    "print(forge_16A_df.columns)  # Display the column names\n",
    "print(forge_16A_df.head(15))  # Display the first 15 rows\n"
   ]
  },
  {
   "cell_type": "markdown",
   "id": "dee8a9f4",
   "metadata": {},
   "source": [
    "Now Let's take a look at the data types and non-null counts for each column."
   ]
  },
  {
   "cell_type": "code",
   "execution_count": null,
   "id": "b927fef3",
   "metadata": {},
   "outputs": [],
   "source": [
    "print(forge_16A_df.info(max_cols=None))  # Display DataFrame info"
   ]
  },
  {
   "cell_type": "markdown",
   "id": "be4da8be",
   "metadata": {},
   "source": [
    "Several columns are null. Let's remove them to focus our efforts."
   ]
  },
  {
   "cell_type": "code",
   "execution_count": null,
   "id": "a96ccab3",
   "metadata": {},
   "outputs": [],
   "source": [
    "# Remove columns with lte 1 non-null value\n",
    "forge_16A_df = forge_16A_df.dropna(axis=1, thresh=2)\n",
    "print(forge_16A_df.info(max_cols=None))"
   ]
  },
  {
   "cell_type": "markdown",
   "id": "dfd8d46d",
   "metadata": {},
   "source": [
    "## Run Pandas Profiling Report to Explore the Data Further\n",
    "First, let's define the data type in each column."
   ]
  },
  {
   "cell_type": "code",
   "execution_count": null,
   "id": "925839b5",
   "metadata": {},
   "outputs": [],
   "source": [
    "# Set the columns with 'Date' in the header to datetime\n",
    "for col in forge_16A_df.columns:\n",
    "    if 'Date' in col:\n",
    "        forge_16A_df[col] = pd.to_datetime(forge_16A_df[col], errors='coerce')\n",
    "\n",
    "# Set all other columns to float\n",
    "for col in forge_16A_df.columns:\n",
    "    if 'Date' not in col:\n",
    "        forge_16A_df[col] = pd.to_numeric(forge_16A_df[col], errors='coerce')"
   ]
  },
  {
   "cell_type": "markdown",
   "id": "9291615f",
   "metadata": {},
   "source": [
    "Now, let's generate a profile report using the ydata-profiling library (formerly pandas profiling)."
   ]
  },
  {
   "cell_type": "code",
   "execution_count": null,
   "id": "6c9b61ba",
   "metadata": {},
   "outputs": [],
   "source": [
    "from ydata_profiling import ProfileReport\n",
    "profile = ProfileReport(forge_16A_df, title=\"Forge 16A Data Analysis\", explorative=True)\n",
    "profile.to_notebook_iframe()\n",
    "# Save the profile report to an HTML file\n",
    "profile.to_file(output_file=\"forge_16A_report.html\")"
   ]
  },
  {
   "cell_type": "markdown",
   "id": "a3674f43",
   "metadata": {},
   "source": [
    "We're ready to start our analysis.\n",
    "\n",
    "Let's wrap our heads around the dataset by visualizing a common DVD curve using "
   ]
  },
  {
   "cell_type": "code",
   "execution_count": null,
   "id": "3c15006d",
   "metadata": {},
   "outputs": [],
   "source": [
    "import matplotlib.pyplot as plt\n",
    "import seaborn as sns\n",
    "\n",
    "print(forge_16A_df.columns)  # Check the columns in the DataFrame\n",
    "print(f'Row count: {forge_16A_df.shape[0]}')  # Check the number of rows\n",
    "\n",
    "# Rename column headers\n",
    "forge_16A_df.rename(columns={'Date': 'rig_time', 'Bit Depth': 'bit_depth', 'Bit Diameter': 'bit_size', 'Top Drive Revolutions per Minute': 'surf_rpm', 'Bit Revolutions per Minute': 'bit_rpm',\n",
    "                             'Mechanical Specific Energy - Surface': 'mse_surface', 'Mechanical Specific Energy - Downhole': 'mse_downhole', 'Weight on Bit': 'wob', 'Differential Pressure': 'diff_press',\n",
    "                             'Block Position': 'block_height', 'Differential Pressure': 'diff_press', 'Rate of Penetration (Depth/Hour)': 'rop', 'Depth Hole Total Vertical Depth': 'tvd',\n",
    "                             'Inclination': 'inc', 'Azimuth': 'azi'}, inplace=True)\n",
    "df = forge_16A_df[['rig_time', 'tvd', 'bit_depth', 'rop', 'wob', 'diff_press', 'surf_rpm', 'bit_rpm', 'mse_surface', 'mse_downhole']].copy()\n",
    "print(df.head(10))\n",
    "\n",
    "# drop first row\n",
    "df.drop(index=0, inplace=True)  # Drop the first row\n",
    "# reduce df to take every 12th row\n",
    "df = df.iloc[::12, :]  # Take every 12th row\n",
    "df.sort_values(by='rig_time', inplace=True)  # Sort by rig_time\n",
    "# drop rows where rig_time or bit_depth is null\n",
    "df.dropna(subset=['rig_time', 'bit_depth'], inplace=True)\n",
    "# set rig_time as datetime\n",
    "df['rig_time'] = pd.to_datetime(df['rig_time'], errors='coerce')  # Convert to datetime\n",
    "df['rig_time'] = df['rig_time'].dt.strftime('%Y-%m-%d %H:%M:%S')  # Format datetime\n",
    "\n",
    "# set bit_depth as float\n",
    "df['bit_depth'] = df['bit_depth'].astype(float)  # Convert to float\n",
    "\n",
    "print(f'Reduced row count: {df.shape[0]}')  # Check the number of rows after reduction\n",
    "\n",
    "# plot line graph x axis = rig_time, y axis = bit_depth, then invert the y-axis\n",
    "plt.figure(figsize=(10, 6))\n",
    "plt.plot(df['rig_time'], df['bit_depth'], label='Bit Depth', color='blue')\n",
    "# invert y-axis\n",
    "plt.gca().invert_yaxis()  # Invert the y-axis\n",
    "plt.xlabel('Rig Time')\n",
    "plt.ylabel('Bit Depth')\n",
    "plt.title('DvD Curve')"
   ]
  },
  {
   "cell_type": "code",
   "execution_count": null,
   "id": "c5f788e5",
   "metadata": {},
   "outputs": [],
   "source": [
    "# Uploading an Excel file\n",
    "df_excel = pd.read_excel('sample_data.xlsx')  # Replace with your file\n",
    "df_excel.head()"
   ]
  },
  {
   "cell_type": "markdown",
   "id": "eabbed96",
   "metadata": {},
   "source": [
    "**Handling LAS Files:**\n",
    "To work with LAS files, we'll use the `lasio` library."
   ]
  },
  {
   "cell_type": "code",
   "execution_count": null,
   "id": "e1fb6619",
   "metadata": {},
   "outputs": [],
   "source": [
    "import lasio\n",
    "\n",
    "# Reading a LAS file\n",
    "las = lasio.read('sample.las')  # Replace with your LAS file\n",
    "print(las.keys())"
   ]
  },
  {
   "cell_type": "markdown",
   "id": "3329d2ab",
   "metadata": {},
   "source": [
    "## Data Transformation & KPI Calculation\n",
    "Now, let's transform data and calculate key performance indicators (KPIs)."
   ]
  },
  {
   "cell_type": "code",
   "execution_count": null,
   "id": "eb2ab142",
   "metadata": {},
   "outputs": [],
   "source": [
    "# Creating a calculated column (MSE Calculation Example)\n",
    "df['MSE'] = df['Depth'] * df['ROP'] * 1.2  # Simplified calculation\n",
    "df.head()"
   ]
  },
  {
   "cell_type": "code",
   "execution_count": null,
   "id": "6b1352eb",
   "metadata": {},
   "outputs": [],
   "source": [
    "# Grouping Data\n",
    "df_grouped = df.groupby('Depth').mean()\n",
    "df_grouped"
   ]
  },
  {
   "cell_type": "markdown",
   "id": "7af02fd6",
   "metadata": {},
   "source": [
    "## Merging and Concatenating DataFrames\n",
    "We often need to merge multiple datasets."
   ]
  },
  {
   "cell_type": "code",
   "execution_count": null,
   "id": "34e5d3f7",
   "metadata": {},
   "outputs": [],
   "source": [
    "# Merging two DataFrames\n",
    "df2 = pd.DataFrame({'Depth': [1000, 2000, 3000], 'Mud Weight': [10.5, 10.8, 11]})\n",
    "df_merged = pd.merge(df, df2, on='Depth')\n",
    "df_merged.head()"
   ]
  },
  {
   "cell_type": "markdown",
   "id": "23d862b2",
   "metadata": {},
   "source": [
    "## Data Visualization with Matplotlib & Seaborn"
   ]
  },
  {
   "cell_type": "code",
   "execution_count": null,
   "id": "fe7436c3",
   "metadata": {},
   "outputs": [],
   "source": [
    "import matplotlib.pyplot as plt\n",
    "import seaborn as sns\n",
    "\n",
    "# Bar Chart Example\n",
    "plt.figure(figsize=(8,4))\n",
    "sns.barplot(x='Depth', y='ROP', data=df)\n",
    "plt.title('ROP vs Depth')\n",
    "plt.show()"
   ]
  },
  {
   "cell_type": "code",
   "execution_count": null,
   "id": "b09e53ad",
   "metadata": {},
   "outputs": [],
   "source": [
    "# Scatterplot Example\n",
    "plt.figure(figsize=(8,4))\n",
    "sns.scatterplot(x='Depth', y='MSE', data=df)\n",
    "plt.title('MSE vs Depth')\n",
    "plt.show()"
   ]
  },
  {
   "cell_type": "markdown",
   "id": "af5ef5c2",
   "metadata": {},
   "source": [
    "## Final Exercise\n",
    "Try the following:\n",
    "1. Create a new DataFrame with Well Name, Depth, and ROP.\n",
    "2. Upload a CSV file and explore the data.\n",
    "3. Merge two DataFrames with a common column.\n",
    "4. Create a scatterplot of Depth vs ROP.\n",
    "\n",
    "**Congratulations on completing Module 1!** 🎉"
   ]
  }
 ],
 "metadata": {
  "kernelspec": {
   "display_name": "venv",
   "language": "python",
   "name": "python3"
  },
  "language_info": {
   "codemirror_mode": {
    "name": "ipython",
    "version": 3
   },
   "file_extension": ".py",
   "mimetype": "text/x-python",
   "name": "python",
   "nbconvert_exporter": "python",
   "pygments_lexer": "ipython3",
   "version": "3.12.0"
  }
 },
 "nbformat": 4,
 "nbformat_minor": 5
}
